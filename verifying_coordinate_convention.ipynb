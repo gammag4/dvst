{
 "cells": [
  {
   "cell_type": "code",
   "execution_count": null,
   "metadata": {},
   "outputs": [],
   "source": [
    "import torch\n",
    "\n",
    "from src.load_dataset import PanopticDownloader, PanopticScene\n",
    "from src.panoptic_dataset import PanopticDataset"
   ]
  },
  {
   "cell_type": "code",
   "execution_count": 2,
   "metadata": {},
   "outputs": [
    {
     "data": {
      "text/plain": [
       "'2.6.0+cu126'"
      ]
     },
     "execution_count": 2,
     "metadata": {},
     "output_type": "execute_result"
    }
   ],
   "source": [
    "torch.__version__"
   ]
  },
  {
   "cell_type": "code",
   "execution_count": 3,
   "metadata": {},
   "outputs": [
    {
     "data": {
      "text/plain": [
       "'cuda'"
      ]
     },
     "execution_count": 3,
     "metadata": {},
     "output_type": "execute_result"
    }
   ],
   "source": [
    "device = (\n",
    "    \"cuda\"\n",
    "    if torch.cuda.is_available()\n",
    "    else \"mps\"\n",
    "    if torch.backends.mps.is_available()\n",
    "    else \"cpu\"\n",
    ")\n",
    "device"
   ]
  },
  {
   "cell_type": "code",
   "execution_count": 4,
   "metadata": {},
   "outputs": [],
   "source": [
    "# d = PanopticDownloader(device='cuda')\n",
    "# # d._get_scene_names = lambda _: ['161029_hands2']  # TODO\n",
    "# await d.load(scene_names_file='panoptic_scene_names.txt')"
   ]
  },
  {
   "cell_type": "code",
   "execution_count": 5,
   "metadata": {},
   "outputs": [],
   "source": [
    "# d.download_views('./scenes/', 'hd', 4, 3)"
   ]
  },
  {
   "cell_type": "code",
   "execution_count": 6,
   "metadata": {},
   "outputs": [],
   "source": [
    "d = PanopticDataset('./scenes')"
   ]
  },
  {
   "cell_type": "code",
   "execution_count": 7,
   "metadata": {},
   "outputs": [
    {
     "data": {
      "text/plain": [
       "[['170307_dance3',\n",
       "  [{'K': [[1633.51, 0, 947.691], [0, 1629.51, 571.838], [0, 0, 1]],\n",
       "    'R': [[-0.5295805751, -0.01150942367, 0.8481815535],\n",
       "     [0.6366490414, 0.6553762361, 0.4063988032],\n",
       "     [-0.56055545, 0.7552148849, -0.3397470605]],\n",
       "    'filename': './scenes/170307_dance3/hd_00_04.mp4',\n",
       "    'fps': 29.97,\n",
       "    'shape': [9211, 3, 1080, 1920],\n",
       "    't': [[-5.652077537], [81.64650446], [378.2933504]],\n",
       "    'type': 'hd',\n",
       "    'url': 'http://domedb.perception.cs.cmu.edu/webdata/dataset/170307_dance3/videos/hd_shared_crf20/hd_00_04.mp4'},\n",
       "   {'K': [[1861.42, 0, 935.575], [0, 1856.72, 553.241], [0, 0, 1]],\n",
       "    'R': [[0.979300228, 0.02227476313, 0.2011837426],\n",
       "     [0.03031339467, 0.9665779971, -0.2545742989],\n",
       "     [-0.2001303612, 0.2554032312, 0.9458948293]],\n",
       "    'filename': './scenes/170307_dance3/hd_00_27.mp4',\n",
       "    'fps': 29.97,\n",
       "    'shape': [9211, 3, 1080, 1920],\n",
       "    't': [[-0.5190184928], [123.2894969], [311.5216895]],\n",
       "    'type': 'hd',\n",
       "    'url': 'http://domedb.perception.cs.cmu.edu/webdata/dataset/170307_dance3/videos/hd_shared_crf20/hd_00_27.mp4'},\n",
       "   {'K': [[1398.56, 0, 955.661], [0, 1394.93, 545.136], [0, 0, 1]],\n",
       "    'R': [[-0.3862090246, -0.0590414942, -0.9205197941],\n",
       "     [0.02517028113, 0.9969032339, -0.07450100114],\n",
       "     [0.92206781, -0.05194270098, -0.3835269346]],\n",
       "    'filename': './scenes/170307_dance3/hd_00_24.mp4',\n",
       "    'fps': 29.97,\n",
       "    'shape': [9211, 3, 1080, 1920],\n",
       "    't': [[-15.26873876], [132.7183452], [267.0796167]],\n",
       "    'type': 'hd',\n",
       "    'url': 'http://domedb.perception.cs.cmu.edu/webdata/dataset/170307_dance3/videos/hd_shared_crf20/hd_00_24.mp4'},\n",
       "   {'K': [[1633.06, 0, 942.748], [0, 1628.52, 557.335], [0, 0, 1]],\n",
       "    'R': [[0.1356324162, 0.03319748427, -0.9902028957],\n",
       "     [-0.0915430255, 0.9955830545, 0.02083881106],\n",
       "     [0.9865210196, 0.08781975063, 0.1380723334]],\n",
       "    'filename': './scenes/170307_dance3/hd_00_00.mp4',\n",
       "    'fps': 29.97,\n",
       "    'shape': [9211, 3, 1080, 1920],\n",
       "    't': [[20.32229365], [126.5646775], [284.8755841]],\n",
       "    'type': 'hd',\n",
       "    'url': 'http://domedb.perception.cs.cmu.edu/webdata/dataset/170307_dance3/videos/hd_shared_crf20/hd_00_00.mp4'}]],\n",
       " ['170404_haggling_a2',\n",
       "  [{'K': [[1396.07, 0, 949.125], [0, 1392.72, 548.555], [0, 0, 1]],\n",
       "    'R': [[-0.9413327602, -0.03771956774, 0.3353652766],\n",
       "     [0.1810483745, 0.782187724, 0.5961575719],\n",
       "     [-0.2848054083, 0.6218999909, -0.7294698628]],\n",
       "    'filename': './scenes/170404_haggling_a2/hd_00_07.mp4',\n",
       "    'fps': 29.97,\n",
       "    'shape': [11598, 3, 1080, 1920],\n",
       "    't': [[-6.467249592], [112.8077413], [359.5437064]],\n",
       "    'type': 'hd',\n",
       "    'url': 'http://domedb.perception.cs.cmu.edu/webdata/dataset/170404_haggling_a2/videos/hd_shared_crf20/hd_00_07.mp4'},\n",
       "   {'K': [[1633.6, 0, 942.156], [0, 1629.07, 557.748], [0, 0, 1]],\n",
       "    'R': [[0.1356279152, 0.03337323569, -0.9901976044],\n",
       "     [-0.0913968688, 0.9955923278, 0.02103637753],\n",
       "     [0.9865351899, 0.08764784051, 0.1380803211]],\n",
       "    'filename': './scenes/170404_haggling_a2/hd_00_00.mp4',\n",
       "    'fps': 29.97,\n",
       "    'shape': [11598, 3, 1080, 1920],\n",
       "    't': [[20.43633413], [126.7064193], [284.1032286]],\n",
       "    'type': 'hd',\n",
       "    'url': 'http://domedb.perception.cs.cmu.edu/webdata/dataset/170404_haggling_a2/videos/hd_shared_crf20/hd_00_00.mp4'},\n",
       "   {'K': [[1648.27, 0, 936.39], [0, 1643.43, 564.953], [0, 0, 1]],\n",
       "    'R': [[0.8093079175, -0.06908930363, 0.5833072628],\n",
       "     [0.01123478908, 0.9946975111, 0.1022283767],\n",
       "     [-0.5872771698, -0.07618090062, 0.805792775]],\n",
       "    'filename': './scenes/170404_haggling_a2/hd_00_14.mp4',\n",
       "    'fps': 29.97,\n",
       "    'shape': [11598, 3, 1080, 1920],\n",
       "    't': [[4.485184159], [141.7613824], [267.7024791]],\n",
       "    'type': 'hd',\n",
       "    'url': 'http://domedb.perception.cs.cmu.edu/webdata/dataset/170404_haggling_a2/videos/hd_shared_crf20/hd_00_14.mp4'},\n",
       "   {'K': [[1396.25, 0, 934.29], [0, 1392.66, 560.177], [0, 0, 1]],\n",
       "    'R': [[-0.9320378333, -0.01087186405, -0.3621978463],\n",
       "     [-0.02171892423, 0.999428842, 0.02588973037],\n",
       "     [0.3617095045, 0.03199675578, -0.9317416176]],\n",
       "    'filename': './scenes/170404_haggling_a2/hd_00_05.mp4',\n",
       "    'fps': 29.97,\n",
       "    'shape': [11598, 3, 1080, 1920],\n",
       "    't': [[-7.397838909], [143.5612526], [280.2882672]],\n",
       "    'type': 'hd',\n",
       "    'url': 'http://domedb.perception.cs.cmu.edu/webdata/dataset/170404_haggling_a2/videos/hd_shared_crf20/hd_00_05.mp4'}]],\n",
       " ['170224_haggling_b2',\n",
       "  [{'K': [[1399.48, 0, 933.111], [0, 1396.61, 559.384], [0, 0, 1]],\n",
       "    'R': [[0.7953564642, 0.0007331454321, -0.6061415325],\n",
       "     [0.04530881098, 0.9971297036, 0.06065860004],\n",
       "     [0.6044461982, -0.07570876177, 0.7930403374]],\n",
       "    'filename': './scenes/170224_haggling_b2/hd_00_25.mp4',\n",
       "    'fps': 29.97,\n",
       "    'shape': [21779, 3, 1080, 1920],\n",
       "    't': [[5.417816908], [139.4472582], [263.1660441]],\n",
       "    'type': 'hd',\n",
       "    'url': 'http://domedb.perception.cs.cmu.edu/webdata/dataset/170224_haggling_b2/videos/hd_shared_crf20/hd_00_25.mp4'},\n",
       "   {'K': [[1396.67, 0, 947.831], [0, 1393.47, 556.607], [0, 0, 1]],\n",
       "    'R': [[0.7345826343, 0.01029106392, 0.6784411894],\n",
       "     [0.5183698998, 0.6366631224, -0.5709226879],\n",
       "     [-0.4378138879, 0.7710733834, 0.4623470958]],\n",
       "    'filename': './scenes/170224_haggling_b2/hd_00_19.mp4',\n",
       "    'fps': 29.97,\n",
       "    'shape': [21779, 3, 1080, 1920],\n",
       "    't': [[-22.74533085], [73.91734008], [379.6183806]],\n",
       "    'type': 'hd',\n",
       "    'url': 'http://domedb.perception.cs.cmu.edu/webdata/dataset/170224_haggling_b2/videos/hd_shared_crf20/hd_00_19.mp4'},\n",
       "   {'K': [[1395.51, 0, 965.235], [0, 1392.14, 564.753], [0, 0, 1]],\n",
       "    'R': [[-0.9950461056, 0.04272195217, -0.08976682304],\n",
       "     [-0.002783731639, 0.8906272248, 0.4547256285],\n",
       "     [0.09937554304, 0.4527228525, -0.8860962252]],\n",
       "    'filename': './scenes/170224_haggling_b2/hd_00_12.mp4',\n",
       "    'fps': 29.97,\n",
       "    'shape': [21779, 3, 1080, 1920],\n",
       "    't': [[23.32673331], [97.7299617], [334.406516]],\n",
       "    'type': 'hd',\n",
       "    'url': 'http://domedb.perception.cs.cmu.edu/webdata/dataset/170224_haggling_b2/videos/hd_shared_crf20/hd_00_12.mp4'},\n",
       "   {'K': [[1631.95, 0, 946.596], [0, 1628.04, 573.248], [0, 0, 1]],\n",
       "    'R': [[-0.5311313021, -0.01143289185, 0.8472123871],\n",
       "     [0.635938818, 0.6553668086, 0.4075244361],\n",
       "     [-0.5598940611, 0.7552242284, -0.3408152067]],\n",
       "    'filename': './scenes/170224_haggling_b2/hd_00_04.mp4',\n",
       "    'fps': 29.97,\n",
       "    'shape': [21779, 3, 1080, 1920],\n",
       "    't': [[-4.853446566], [81.08946852], [379.1498658]],\n",
       "    'type': 'hd',\n",
       "    'url': 'http://domedb.perception.cs.cmu.edu/webdata/dataset/170224_haggling_b2/videos/hd_shared_crf20/hd_00_04.mp4'}]]]"
      ]
     },
     "execution_count": 7,
     "metadata": {},
     "output_type": "execute_result"
    }
   ],
   "source": [
    "d.data"
   ]
  },
  {
   "cell_type": "code",
   "execution_count": 8,
   "metadata": {},
   "outputs": [],
   "source": [
    "v = d.__getitem__(0)\n",
    "v2 = d.__getitem__(1)"
   ]
  },
  {
   "cell_type": "code",
   "execution_count": 9,
   "metadata": {},
   "outputs": [
    {
     "data": {
      "text/plain": [
       "(9211, 11598)"
      ]
     },
     "execution_count": 9,
     "metadata": {},
     "output_type": "execute_result"
    }
   ],
   "source": [
    "v[0][0]._num_frames, v2[0][0]._num_frames"
   ]
  },
  {
   "cell_type": "code",
   "execution_count": 10,
   "metadata": {},
   "outputs": [
    {
     "data": {
      "text/plain": [
       "(torch.Size([3, 1080, 1920]), torch.Size([3, 1080, 1920]))"
      ]
     },
     "execution_count": 10,
     "metadata": {},
     "output_type": "execute_result"
    }
   ],
   "source": [
    "v[0][0][-1].shape, v2[0][0][-1].shape"
   ]
  },
  {
   "cell_type": "code",
   "execution_count": 11,
   "metadata": {},
   "outputs": [],
   "source": [
    "def compute_origin(v):\n",
    "    K, R, t = torch.tensor(v[1]), torch.tensor(v[2]), torch.tensor(v[3])\n",
    "    o = -R.T @ t\n",
    "    # d = R.T @ K.inverse() @ x\n",
    "    return o\n"
   ]
  },
  {
   "cell_type": "code",
   "execution_count": 12,
   "metadata": {},
   "outputs": [
    {
     "data": {
      "text/plain": [
       "([tensor([[ 157.0810],\n",
       "          [-339.2670],\n",
       "          [ 100.1370]]),\n",
       "  tensor([[  59.1159],\n",
       "          [-198.7210],\n",
       "          [-263.1760]]),\n",
       "  tensor([[-255.5030],\n",
       "          [-119.3360],\n",
       "          [  98.2647]]),\n",
       "  tensor([[-272.2060],\n",
       "          [-151.6980],\n",
       "          [ -21.8477]])],\n",
       " [tensor([[  75.8885],\n",
       "          [-312.0810],\n",
       "          [ 197.1940]]),\n",
       "  tensor([[-271.4690],\n",
       "          [-151.7310],\n",
       "          [ -21.6585]]),\n",
       "  tensor([[ 151.9930],\n",
       "          [-120.3060],\n",
       "          [-232.8210]]),\n",
       "  tensor([[-105.1600],\n",
       "          [-152.5280],\n",
       "          [ 254.7600]])])"
      ]
     },
     "execution_count": 12,
     "metadata": {},
     "output_type": "execute_result"
    }
   ],
   "source": [
    "a = [compute_origin(i) for i in v]\n",
    "a2 = [compute_origin(i) for i in v2]\n",
    "a, a2\n",
    "\n",
    "# Scenes:\n",
    "# 170307_dance3, hd videos 4, 27, 24, 0\n",
    "# 170404_haggling_a2, hd videos 7, 0, 14, 5"
   ]
  },
  {
   "cell_type": "markdown",
   "metadata": {},
   "source": [
    "From this, looking forward from the door of the dome towards the other side of it, we can find the conventions for the axes:\n",
    "- x is the right axis, with the origin in the dome center;\n",
    "- y is the down axis, with the origin in the ground;\n",
    "- z is the forward axis, with the origin in the dome center.\n"
   ]
  }
 ],
 "metadata": {
  "kernelspec": {
   "display_name": "Python 3",
   "language": "python",
   "name": "python3"
  },
  "language_info": {
   "codemirror_mode": {
    "name": "ipython",
    "version": 3
   },
   "file_extension": ".py",
   "mimetype": "text/x-python",
   "name": "python",
   "nbconvert_exporter": "python",
   "pygments_lexer": "ipython3",
   "version": "3.12.3"
  }
 },
 "nbformat": 4,
 "nbformat_minor": 2
}
