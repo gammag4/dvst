{
 "cells": [
  {
   "cell_type": "code",
   "execution_count": 1,
   "metadata": {},
   "outputs": [],
   "source": [
    "#TODO lazy hf dataset\n",
    "\n",
    "# https://huggingface.co/docs/datasets/en/about_mapstyle_vs_iterable\n",
    "#  search for yield\n",
    "#  use this to lazily load the videos (in each iteration download the next one and return the current (that has already been downloaded or download too if not))\n",
    "# https://huggingface.co/docs/datasets/en/video_load\n",
    "# https://huggingface.co/docs/datasets/en/video_dataset\n",
    "#  create video dataset\n",
    "# https://huggingface.co/docs/datasets/en/about_map_batch\n",
    "#  use to map transformations (resizing etc)\n",
    "# https://github.com/iejMac/video2dataset\n",
    "#  check to see how to paralelize the yield (and how to create it abstractly for any dataset of scenes with a list of videos, not just panoptic)\n",
    "#  actually i think i can do that just using dataset.map batched + yield and dataset.take in streaming dataset, but you would need\n",
    "\n",
    "# make a dataset that creates a uniform distribution of different video sizes/aspect ratios/cropping options\n",
    "# then evaluate the model in these environments:\n",
    "#  same size/aspect/cropping on entire dataset\n",
    "#  same size/aspect/cropping for videos in a scene but varying for all scenes\n",
    "#  varying size/aspect/cropping for all videos in all scenes\n"
   ]
  },
  {
   "cell_type": "markdown",
   "metadata": {},
   "source": [
    "### Importing stuff"
   ]
  },
  {
   "cell_type": "code",
   "execution_count": 2,
   "metadata": {},
   "outputs": [
    {
     "name": "stdout",
     "output_type": "stream",
     "text": [
      "Jupyter environment detected. Enabling Open3D WebVisualizer.\n",
      "[Open3D INFO] WebRTC GUI backend enabled.\n",
      "[Open3D INFO] WebRTCWindowSystem: HTTP handshake server disabled.\n"
     ]
    }
   ],
   "source": [
    "import os\n",
    "from pathlib import Path\n",
    "import itertools\n",
    "from enum import Enum\n",
    "import hashlib\n",
    "import math\n",
    "import pickle\n",
    "import json\n",
    "import asyncio\n",
    "import aiohttp\n",
    "import random\n",
    "import progressbar\n",
    "\n",
    "from matplotlib import pyplot as plt\n",
    "import open3d as o3d\n",
    "from open3d.visualization import draw_plotly\n",
    "from mpl_toolkits.mplot3d import Axes3D\n",
    "\n",
    "import einops\n",
    "import einx\n",
    "import numpy as np\n",
    "import pandas as pd\n",
    "from sklearn.decomposition import PCA\n",
    "from sklearn.preprocessing import StandardScaler\n",
    "from sklearn.manifold import TSNE\n",
    "\n",
    "import torch\n",
    "import torch.nn as nn\n",
    "import torch.nn.utils as utils\n",
    "import torch.nn.functional as F\n",
    "from torch.utils.data import DataLoader, Dataset, Sampler, RandomSampler, SubsetRandomSampler, BatchSampler\n",
    "import torchvision\n",
    "from torchvision.io import read_image, ImageReadMode\n",
    "from torchvision.utils import save_image\n",
    "from torchinfo import summary\n",
    "from torchcodec.decoders import VideoDecoder\n",
    "import lightning as L\n",
    "import lightning.pytorch as pl\n",
    "import lightning.pytorch.callbacks as callbacks"
   ]
  },
  {
   "cell_type": "code",
   "execution_count": 3,
   "metadata": {},
   "outputs": [],
   "source": [
    "from src.datasets.raw_panoptic_dataset import RawPanopticDataset\n",
    "from src.datasets.raw_plenoptic_dataset import RawPlenopticDataset\n",
    "from src.datasets.full_dataset import FullDataset\n",
    "\n",
    "from src.model.pose_encoder import compute_pad, compute_octaves, compute_view_rays\n",
    "\n",
    "from src.config import load_config\n",
    "\n",
    "from src.model import PoseEncoder, DVST, latent_aggregators\n",
    "\n",
    "from src.draw import get_camera_geometry\n"
   ]
  },
  {
   "cell_type": "code",
   "execution_count": 4,
   "metadata": {},
   "outputs": [
    {
     "data": {
      "text/plain": [
       "'2.7.0+cu126'"
      ]
     },
     "execution_count": 4,
     "metadata": {},
     "output_type": "execute_result"
    }
   ],
   "source": [
    "torch.__version__"
   ]
  },
  {
   "cell_type": "code",
   "execution_count": 5,
   "metadata": {},
   "outputs": [
    {
     "data": {
      "text/plain": [
       "'cuda'"
      ]
     },
     "execution_count": 5,
     "metadata": {},
     "output_type": "execute_result"
    }
   ],
   "source": [
    "device = (\n",
    "    \"cuda\"\n",
    "    if torch.cuda.is_available()\n",
    "    else \"mps\"\n",
    "    if torch.backends.mps.is_available()\n",
    "    else \"cpu\"\n",
    ")\n",
    "device\n"
   ]
  },
  {
   "cell_type": "markdown",
   "metadata": {},
   "source": [
    "### DVST Config"
   ]
  },
  {
   "cell_type": "code",
   "execution_count": 6,
   "metadata": {},
   "outputs": [
    {
     "data": {
      "text/plain": [
       "(0, torch.bfloat16, device(type='cuda', index=0))"
      ]
     },
     "execution_count": 6,
     "metadata": {},
     "output_type": "execute_result"
    }
   ],
   "source": [
    "# To make it easier to pass around and validate configs\n",
    "config = load_config('res/config.yaml')\n",
    "\n",
    "config.setup.ddp.rank, config.setup.amp.dtype, config.setup.device"
   ]
  },
  {
   "cell_type": "markdown",
   "metadata": {},
   "source": [
    "### Loading datasets"
   ]
  },
  {
   "cell_type": "markdown",
   "metadata": {},
   "source": [
    "Panoptic dataset"
   ]
  },
  {
   "cell_type": "code",
   "execution_count": 7,
   "metadata": {},
   "outputs": [
    {
     "data": {
      "text/plain": [
       "81"
      ]
     },
     "execution_count": 7,
     "metadata": {},
     "output_type": "execute_result"
    }
   ],
   "source": [
    "dataset_panoptic = RawPanopticDataset('res/tmp/panoptic/').to(device)\n",
    "len(dataset_panoptic)"
   ]
  },
  {
   "cell_type": "code",
   "execution_count": 8,
   "metadata": {},
   "outputs": [
    {
     "data": {
      "text/plain": [
       "{'video': <torchcodec.decoders._video_decoder.VideoDecoder at 0x7fdfd6e2ac60>,\n",
       " 'K': tensor([[1.4107e+03, 0.0000e+00, 9.6000e+02],\n",
       "         [0.0000e+00, 1.3299e+03, 5.4000e+02],\n",
       "         [0.0000e+00, 0.0000e+00, 1.0000e+00]], device='cuda:0'),\n",
       " 'Kinv': tensor([[ 7.0888e-04,  0.0000e+00, -6.8053e-01],\n",
       "         [ 0.0000e+00,  7.5194e-04, -4.0605e-01],\n",
       "         [ 0.0000e+00,  0.0000e+00,  1.0000e+00]], device='cuda:0'),\n",
       " 'R': tensor([[[-0.6212, -0.0284,  0.7832],\n",
       "          [ 0.0751,  0.9926,  0.0955],\n",
       "          [-0.7801,  0.1182, -0.6144]]], device='cuda:0'),\n",
       " 't': tensor([[-15.3971, 117.3840, 288.2436]], device='cuda:0'),\n",
       " 'time': tensor([0.0000e+00, 3.3367e-02, 6.6733e-02,  ..., 2.0254e+02, 2.0257e+02,\n",
       "         2.0260e+02], device='cuda:0'),\n",
       " 'shape': torch.Size([6073, 3, 1080, 1920])}"
      ]
     },
     "execution_count": 8,
     "metadata": {},
     "output_type": "execute_result"
    }
   ],
   "source": [
    "v = dataset_panoptic.__getitem__(0)\n",
    "v.videos[0]"
   ]
  },
  {
   "cell_type": "code",
   "execution_count": 9,
   "metadata": {},
   "outputs": [
    {
     "data": {
      "text/plain": [
       "(<torchcodec.decoders._video_decoder.VideoDecoder at 0x7fdfd6e2ac60>,\n",
       " tensor([[1.4107e+03, 0.0000e+00, 9.6000e+02],\n",
       "         [0.0000e+00, 1.3299e+03, 5.4000e+02],\n",
       "         [0.0000e+00, 0.0000e+00, 1.0000e+00]], device='cuda:0'),\n",
       " tensor([[[-0.6212, -0.0284,  0.7832],\n",
       "          [ 0.0751,  0.9926,  0.0955],\n",
       "          [-0.7801,  0.1182, -0.6144]]], device='cuda:0'),\n",
       " tensor([[-15.3971, 117.3840, 288.2436]], device='cuda:0'))"
      ]
     },
     "execution_count": 9,
     "metadata": {},
     "output_type": "execute_result"
    }
   ],
   "source": [
    "v, K, R, t2 = [v.videos[0][i] for i in ['video', 'K', 'R', 't']]\n",
    "v, K, R, t2"
   ]
  },
  {
   "cell_type": "markdown",
   "metadata": {},
   "source": [
    "Plenoptic dataset"
   ]
  },
  {
   "cell_type": "code",
   "execution_count": 10,
   "metadata": {},
   "outputs": [
    {
     "data": {
      "text/plain": [
       "6"
      ]
     },
     "execution_count": 10,
     "metadata": {},
     "output_type": "execute_result"
    }
   ],
   "source": [
    "dataset_plenoptic = RawPlenopticDataset('res/tmp/plenoptic/').to(device)\n",
    "len(dataset_plenoptic)"
   ]
  },
  {
   "cell_type": "code",
   "execution_count": 11,
   "metadata": {},
   "outputs": [
    {
     "data": {
      "text/plain": [
       "{'video': <torchcodec.decoders._video_decoder.VideoDecoder at 0x7fdfaf1cf650>,\n",
       " 'K': tensor([[1.4585e+03, 0.0000e+00, 1.3520e+03],\n",
       "         [0.0000e+00, 1.4585e+03, 1.0140e+03],\n",
       "         [0.0000e+00, 0.0000e+00, 1.0000e+00]], device='cuda:0'),\n",
       " 'Kinv': tensor([[ 6.8564e-04,  0.0000e+00, -9.2698e-01],\n",
       "         [ 0.0000e+00,  6.8564e-04, -6.9523e-01],\n",
       "         [ 0.0000e+00,  0.0000e+00,  1.0000e+00]], device='cuda:0'),\n",
       " 'R': tensor([[[-0.0272,  0.8776,  0.4786],\n",
       "          [ 0.9996,  0.0286,  0.0042],\n",
       "          [-0.0100,  0.4786, -0.8780]]], device='cuda:0', dtype=torch.float64),\n",
       " 't': tensor([[ 5.4591, -1.0853,  0.6145]], device='cuda:0', dtype=torch.float64),\n",
       " 'time': tensor([0.0000e+00, 3.3333e-02, 6.6667e-02,  ..., 3.9900e+01, 3.9933e+01,\n",
       "         3.9967e+01], device='cuda:0'),\n",
       " 'shape': torch.Size([1200, 3, 2028, 2704])}"
      ]
     },
     "execution_count": 11,
     "metadata": {},
     "output_type": "execute_result"
    }
   ],
   "source": [
    "v = dataset_plenoptic.__getitem__(0)\n",
    "v.videos[0]"
   ]
  },
  {
   "cell_type": "markdown",
   "metadata": {},
   "source": [
    "Full dataset"
   ]
  },
  {
   "cell_type": "code",
   "execution_count": 12,
   "metadata": {},
   "outputs": [
    {
     "data": {
      "text/plain": [
       "87"
      ]
     },
     "execution_count": 12,
     "metadata": {},
     "output_type": "execute_result"
    }
   ],
   "source": [
    "dataset_full = FullDataset(config.train.data.datasets).to(device)\n",
    "len(dataset_full)"
   ]
  },
  {
   "cell_type": "code",
   "execution_count": 13,
   "metadata": {},
   "outputs": [
    {
     "data": {
      "text/plain": [
       "({'K': tensor([[1.6629e+03, 0.0000e+00, 9.6000e+02],\n",
       "          [0.0000e+00, 1.5779e+03, 5.4000e+02],\n",
       "          [0.0000e+00, 0.0000e+00, 1.0000e+00]], device='cuda:0'),\n",
       "  'Kinv': tensor([[ 6.0134e-04,  0.0000e+00, -5.7729e-01],\n",
       "          [ 0.0000e+00,  6.3377e-04, -3.4223e-01],\n",
       "          [ 0.0000e+00,  0.0000e+00,  1.0000e+00]], device='cuda:0'),\n",
       "  'R': tensor([[[ 0.1356,  0.0332, -0.9902],\n",
       "           [-0.0915,  0.9956,  0.0208],\n",
       "           [ 0.9865,  0.0878,  0.1381]]], device='cuda:0'),\n",
       "  't': tensor([[ 20.3223, 126.5647, 284.8756]], device='cuda:0'),\n",
       "  'time': tensor([0.0000e+00, 3.3367e-02, 6.6733e-02,  ..., 2.0254e+02, 2.0257e+02,\n",
       "          2.0260e+02], device='cuda:0'),\n",
       "  'shape': torch.Size([6073, 3, 1080, 1920])},\n",
       " '',\n",
       " <torchcodec.decoders._video_decoder.VideoDecoder at 0x7fdfd6b9af90>,\n",
       " '',\n",
       " {'K': tensor([[1.4357e+03, 0.0000e+00, 9.6000e+02],\n",
       "          [0.0000e+00, 1.3433e+03, 5.4000e+02],\n",
       "          [0.0000e+00, 0.0000e+00, 1.0000e+00]], device='cuda:0'),\n",
       "  'Kinv': tensor([[ 6.9655e-04,  0.0000e+00, -6.6869e-01],\n",
       "          [ 0.0000e+00,  7.4443e-04, -4.0199e-01],\n",
       "          [ 0.0000e+00,  0.0000e+00,  1.0000e+00]], device='cuda:0'),\n",
       "  'R': tensor([[[-0.9317, -0.0109, -0.3631],\n",
       "           [-0.0217,  0.9994,  0.0257],\n",
       "           [ 0.3626,  0.0318, -0.9314]]], device='cuda:0'),\n",
       "  't': tensor([[ -8.1925, 143.5502, 280.5694]], device='cuda:0'),\n",
       "  'time': tensor([0.0000e+00, 3.3367e-02, 6.6733e-02,  ..., 2.0254e+02, 2.0257e+02,\n",
       "          2.0260e+02], device='cuda:0'),\n",
       "  'shape': torch.Size([6073, 3, 1080, 1920])},\n",
       " '',\n",
       " 6073)"
      ]
     },
     "execution_count": 13,
     "metadata": {},
     "output_type": "execute_result"
    }
   ],
   "source": [
    "v = dataset_full.__getitem__(0)\n",
    "v.sources[0], '', v.targets[0], '', v.queries[0], '', v.n_frames"
   ]
  },
  {
   "cell_type": "code",
   "execution_count": 14,
   "metadata": {},
   "outputs": [
    {
     "data": {
      "text/plain": [
       "({'K': tensor([[1.4623e+03, 0.0000e+00, 1.3520e+03],\n",
       "          [0.0000e+00, 1.4623e+03, 1.0140e+03],\n",
       "          [0.0000e+00, 0.0000e+00, 1.0000e+00]], device='cuda:0'),\n",
       "  'Kinv': tensor([[ 6.8386e-04,  0.0000e+00, -9.2457e-01],\n",
       "          [ 0.0000e+00,  6.8386e-04, -6.9343e-01],\n",
       "          [ 0.0000e+00,  0.0000e+00,  1.0000e+00]], device='cuda:0'),\n",
       "  'R': tensor([[[ 0.0501,  0.9571, -0.2855],\n",
       "           [ 0.9953, -0.0242,  0.0935],\n",
       "           [ 0.0826, -0.2888, -0.9538]]], device='cuda:0', dtype=torch.float64),\n",
       "  't': tensor([[-4.7647,  1.3549,  0.5705]], device='cuda:0', dtype=torch.float64),\n",
       "  'time': tensor([0.0000, 0.0333, 0.0667, 0.1000, 0.1333, 0.1667, 0.2000, 0.2333, 0.2667,\n",
       "          0.3000, 0.3333, 0.3667, 0.4000, 0.4333, 0.4667, 0.5000, 0.5333, 0.5667,\n",
       "          0.6000, 0.6333, 0.6667, 0.7000, 0.7333, 0.7667, 0.8000, 0.8333, 0.8667,\n",
       "          0.9000, 0.9333, 0.9667, 1.0000, 1.0333, 1.0667, 1.1000, 1.1333, 1.1667,\n",
       "          1.2000, 1.2333, 1.2667, 1.3000, 1.3333, 1.3667, 1.4000, 1.4333, 1.4667,\n",
       "          1.5000, 1.5333, 1.5667, 1.6000, 1.6333, 1.6667, 1.7000, 1.7333, 1.7667,\n",
       "          1.8000, 1.8333, 1.8667, 1.9000, 1.9333, 1.9667, 2.0000, 2.0333, 2.0667,\n",
       "          2.1000, 2.1333, 2.1667, 2.2000, 2.2333, 2.2667, 2.3000, 2.3333, 2.3667,\n",
       "          2.4000, 2.4333, 2.4667, 2.5000, 2.5333, 2.5667, 2.6000, 2.6333, 2.6667,\n",
       "          2.7000, 2.7333, 2.7667, 2.8000, 2.8333, 2.8667, 2.9000, 2.9333, 2.9667,\n",
       "          3.0000, 3.0333, 3.0667, 3.1000, 3.1333, 3.1667, 3.2000, 3.2333, 3.2667,\n",
       "          3.3000, 3.3333, 3.3667, 3.4000, 3.4333, 3.4667, 3.5000, 3.5333, 3.5667,\n",
       "          3.6000, 3.6333, 3.6667, 3.7000, 3.7333, 3.7667, 3.8000, 3.8333, 3.8667,\n",
       "          3.9000, 3.9333, 3.9667, 4.0000, 4.0333, 4.0667, 4.1000, 4.1333, 4.1667,\n",
       "          4.2000, 4.2333, 4.2667, 4.3000, 4.3333, 4.3667, 4.4000, 4.4333, 4.4667,\n",
       "          4.5000, 4.5333, 4.5667, 4.6000, 4.6333, 4.6667, 4.7000, 4.7333, 4.7667,\n",
       "          4.8000, 4.8333, 4.8667, 4.9000, 4.9333, 4.9667, 5.0000, 5.0333, 5.0667,\n",
       "          5.1000, 5.1333, 5.1667, 5.2000, 5.2333, 5.2667, 5.3000, 5.3333, 5.3667,\n",
       "          5.4000, 5.4333, 5.4667, 5.5000, 5.5333, 5.5667, 5.6000, 5.6333, 5.6667,\n",
       "          5.7000, 5.7333, 5.7667, 5.8000, 5.8333, 5.8667, 5.9000, 5.9333, 5.9667,\n",
       "          6.0000, 6.0333, 6.0667, 6.1000, 6.1333, 6.1667, 6.2000, 6.2333, 6.2667,\n",
       "          6.3000, 6.3333, 6.3667, 6.4000, 6.4333, 6.4667, 6.5000, 6.5333, 6.5667,\n",
       "          6.6000, 6.6333, 6.6667, 6.7000, 6.7333, 6.7667, 6.8000, 6.8333, 6.8667,\n",
       "          6.9000, 6.9333, 6.9667, 7.0000, 7.0333, 7.0667, 7.1000, 7.1333, 7.1667,\n",
       "          7.2000, 7.2333, 7.2667, 7.3000, 7.3333, 7.3667, 7.4000, 7.4333, 7.4667,\n",
       "          7.5000, 7.5333, 7.5667, 7.6000, 7.6333, 7.6667, 7.7000, 7.7333, 7.7667,\n",
       "          7.8000, 7.8333, 7.8667, 7.9000, 7.9333, 7.9667, 8.0000, 8.0333, 8.0667,\n",
       "          8.1000, 8.1333, 8.1667, 8.2000, 8.2333, 8.2667, 8.3000, 8.3333, 8.3667,\n",
       "          8.4000, 8.4333, 8.4667, 8.5000, 8.5333, 8.5667, 8.6000, 8.6333, 8.6667,\n",
       "          8.7000, 8.7333, 8.7667, 8.8000, 8.8333, 8.8667, 8.9000, 8.9333, 8.9667,\n",
       "          9.0000, 9.0333, 9.0667, 9.1000, 9.1333, 9.1667, 9.2000, 9.2333, 9.2667,\n",
       "          9.3000, 9.3333, 9.3667, 9.4000, 9.4333, 9.4667, 9.5000, 9.5333, 9.5667,\n",
       "          9.6000, 9.6333, 9.6667, 9.7000, 9.7333, 9.7667, 9.8000, 9.8333, 9.8667,\n",
       "          9.9000, 9.9333, 9.9667], device='cuda:0'),\n",
       "  'shape': torch.Size([300, 3, 2028, 2704])},\n",
       " '',\n",
       " <torchcodec.decoders._video_decoder.VideoDecoder at 0x7fdfadba5b20>,\n",
       " '',\n",
       " {'K': tensor([[1.4623e+03, 0.0000e+00, 1.3520e+03],\n",
       "          [0.0000e+00, 1.4623e+03, 1.0140e+03],\n",
       "          [0.0000e+00, 0.0000e+00, 1.0000e+00]], device='cuda:0'),\n",
       "  'Kinv': tensor([[ 6.8386e-04,  0.0000e+00, -9.2457e-01],\n",
       "          [ 0.0000e+00,  6.8386e-04, -6.9343e-01],\n",
       "          [ 0.0000e+00,  0.0000e+00,  1.0000e+00]], device='cuda:0'),\n",
       "  'R': tensor([[[ 0.0015,  0.9844,  0.1759],\n",
       "           [ 0.9988, -0.0099,  0.0471],\n",
       "           [ 0.0481,  0.1756, -0.9833]]], device='cuda:0', dtype=torch.float64),\n",
       "  't': tensor([[5.7267, 1.5920, 0.3904]], device='cuda:0', dtype=torch.float64),\n",
       "  'time': tensor([0.0000, 0.0333, 0.0667, 0.1000, 0.1333, 0.1667, 0.2000, 0.2333, 0.2667,\n",
       "          0.3000, 0.3333, 0.3667, 0.4000, 0.4333, 0.4667, 0.5000, 0.5333, 0.5667,\n",
       "          0.6000, 0.6333, 0.6667, 0.7000, 0.7333, 0.7667, 0.8000, 0.8333, 0.8667,\n",
       "          0.9000, 0.9333, 0.9667, 1.0000, 1.0333, 1.0667, 1.1000, 1.1333, 1.1667,\n",
       "          1.2000, 1.2333, 1.2667, 1.3000, 1.3333, 1.3667, 1.4000, 1.4333, 1.4667,\n",
       "          1.5000, 1.5333, 1.5667, 1.6000, 1.6333, 1.6667, 1.7000, 1.7333, 1.7667,\n",
       "          1.8000, 1.8333, 1.8667, 1.9000, 1.9333, 1.9667, 2.0000, 2.0333, 2.0667,\n",
       "          2.1000, 2.1333, 2.1667, 2.2000, 2.2333, 2.2667, 2.3000, 2.3333, 2.3667,\n",
       "          2.4000, 2.4333, 2.4667, 2.5000, 2.5333, 2.5667, 2.6000, 2.6333, 2.6667,\n",
       "          2.7000, 2.7333, 2.7667, 2.8000, 2.8333, 2.8667, 2.9000, 2.9333, 2.9667,\n",
       "          3.0000, 3.0333, 3.0667, 3.1000, 3.1333, 3.1667, 3.2000, 3.2333, 3.2667,\n",
       "          3.3000, 3.3333, 3.3667, 3.4000, 3.4333, 3.4667, 3.5000, 3.5333, 3.5667,\n",
       "          3.6000, 3.6333, 3.6667, 3.7000, 3.7333, 3.7667, 3.8000, 3.8333, 3.8667,\n",
       "          3.9000, 3.9333, 3.9667, 4.0000, 4.0333, 4.0667, 4.1000, 4.1333, 4.1667,\n",
       "          4.2000, 4.2333, 4.2667, 4.3000, 4.3333, 4.3667, 4.4000, 4.4333, 4.4667,\n",
       "          4.5000, 4.5333, 4.5667, 4.6000, 4.6333, 4.6667, 4.7000, 4.7333, 4.7667,\n",
       "          4.8000, 4.8333, 4.8667, 4.9000, 4.9333, 4.9667, 5.0000, 5.0333, 5.0667,\n",
       "          5.1000, 5.1333, 5.1667, 5.2000, 5.2333, 5.2667, 5.3000, 5.3333, 5.3667,\n",
       "          5.4000, 5.4333, 5.4667, 5.5000, 5.5333, 5.5667, 5.6000, 5.6333, 5.6667,\n",
       "          5.7000, 5.7333, 5.7667, 5.8000, 5.8333, 5.8667, 5.9000, 5.9333, 5.9667,\n",
       "          6.0000, 6.0333, 6.0667, 6.1000, 6.1333, 6.1667, 6.2000, 6.2333, 6.2667,\n",
       "          6.3000, 6.3333, 6.3667, 6.4000, 6.4333, 6.4667, 6.5000, 6.5333, 6.5667,\n",
       "          6.6000, 6.6333, 6.6667, 6.7000, 6.7333, 6.7667, 6.8000, 6.8333, 6.8667,\n",
       "          6.9000, 6.9333, 6.9667, 7.0000, 7.0333, 7.0667, 7.1000, 7.1333, 7.1667,\n",
       "          7.2000, 7.2333, 7.2667, 7.3000, 7.3333, 7.3667, 7.4000, 7.4333, 7.4667,\n",
       "          7.5000, 7.5333, 7.5667, 7.6000, 7.6333, 7.6667, 7.7000, 7.7333, 7.7667,\n",
       "          7.8000, 7.8333, 7.8667, 7.9000, 7.9333, 7.9667, 8.0000, 8.0333, 8.0667,\n",
       "          8.1000, 8.1333, 8.1667, 8.2000, 8.2333, 8.2667, 8.3000, 8.3333, 8.3667,\n",
       "          8.4000, 8.4333, 8.4667, 8.5000, 8.5333, 8.5667, 8.6000, 8.6333, 8.6667,\n",
       "          8.7000, 8.7333, 8.7667, 8.8000, 8.8333, 8.8667, 8.9000, 8.9333, 8.9667,\n",
       "          9.0000, 9.0333, 9.0667, 9.1000, 9.1333, 9.1667, 9.2000, 9.2333, 9.2667,\n",
       "          9.3000, 9.3333, 9.3667, 9.4000, 9.4333, 9.4667, 9.5000, 9.5333, 9.5667,\n",
       "          9.6000, 9.6333, 9.6667, 9.7000, 9.7333, 9.7667, 9.8000, 9.8333, 9.8667,\n",
       "          9.9000, 9.9333, 9.9667], device='cuda:0'),\n",
       "  'shape': torch.Size([300, 3, 2028, 2704])},\n",
       " '',\n",
       " 300)"
      ]
     },
     "execution_count": 14,
     "metadata": {},
     "output_type": "execute_result"
    }
   ],
   "source": [
    "v = dataset_full.__getitem__(84)\n",
    "v.sources[0], '', v.targets[0], '', v.queries[0], '', v.n_frames"
   ]
  },
  {
   "cell_type": "markdown",
   "metadata": {},
   "source": [
    "### Pose encoder"
   ]
  },
  {
   "cell_type": "markdown",
   "metadata": {},
   "source": [
    "Auxiliary functions"
   ]
  },
  {
   "cell_type": "code",
   "execution_count": 15,
   "metadata": {},
   "outputs": [
    {
     "data": {
      "text/plain": [
       "([8, 4], (0, 0, 1, 2))"
      ]
     },
     "execution_count": 15,
     "metadata": {},
     "output_type": "execute_result"
    }
   ],
   "source": [
    "compute_pad([5, 4], 4)"
   ]
  },
  {
   "cell_type": "code",
   "execution_count": 16,
   "metadata": {},
   "outputs": [
    {
     "data": {
      "text/plain": [
       "tensor([[[-8.7423e-08,  0.0000e+00],\n",
       "         [-1.0000e+00,  1.0000e+00],\n",
       "         [ 1.7485e-07,  0.0000e+00],\n",
       "         [ 1.0000e+00,  1.0000e+00],\n",
       "         [ 3.4969e-07,  0.0000e+00],\n",
       "         [ 1.0000e+00,  1.0000e+00],\n",
       "         [ 6.9938e-07,  0.0000e+00],\n",
       "         [ 1.0000e+00,  1.0000e+00],\n",
       "         [ 0.0000e+00,  0.0000e+00],\n",
       "         [ 1.0000e+00,  1.0000e+00],\n",
       "         [ 0.0000e+00,  0.0000e+00],\n",
       "         [ 1.0000e+00,  1.0000e+00],\n",
       "         [ 0.0000e+00,  0.0000e+00],\n",
       "         [ 1.0000e+00,  1.0000e+00],\n",
       "         [ 0.0000e+00,  0.0000e+00],\n",
       "         [ 1.0000e+00,  1.0000e+00],\n",
       "         [ 0.0000e+00,  0.0000e+00],\n",
       "         [ 1.0000e+00,  1.0000e+00],\n",
       "         [ 0.0000e+00,  0.0000e+00],\n",
       "         [ 1.0000e+00,  1.0000e+00],\n",
       "         [ 0.0000e+00,  0.0000e+00],\n",
       "         [ 1.0000e+00,  1.0000e+00],\n",
       "         [ 0.0000e+00,  0.0000e+00],\n",
       "         [ 1.0000e+00,  1.0000e+00],\n",
       "         [ 0.0000e+00,  0.0000e+00],\n",
       "         [ 1.0000e+00,  1.0000e+00],\n",
       "         [ 0.0000e+00,  0.0000e+00],\n",
       "         [ 1.0000e+00,  1.0000e+00],\n",
       "         [ 0.0000e+00,  0.0000e+00],\n",
       "         [ 1.0000e+00,  1.0000e+00],\n",
       "         [ 0.0000e+00,  0.0000e+00],\n",
       "         [ 1.0000e+00,  1.0000e+00],\n",
       "         [ 0.0000e+00,  0.0000e+00],\n",
       "         [ 1.0000e+00,  1.0000e+00],\n",
       "         [ 0.0000e+00,  0.0000e+00],\n",
       "         [ 1.0000e+00,  1.0000e+00],\n",
       "         [ 0.0000e+00,  0.0000e+00],\n",
       "         [ 1.0000e+00,  1.0000e+00],\n",
       "         [ 0.0000e+00,  0.0000e+00],\n",
       "         [ 1.0000e+00,  1.0000e+00],\n",
       "         [ 0.0000e+00,  0.0000e+00],\n",
       "         [ 1.0000e+00,  1.0000e+00],\n",
       "         [ 0.0000e+00,  0.0000e+00],\n",
       "         [ 1.0000e+00,  1.0000e+00],\n",
       "         [ 0.0000e+00,  0.0000e+00],\n",
       "         [ 1.0000e+00,  1.0000e+00],\n",
       "         [ 0.0000e+00,  0.0000e+00],\n",
       "         [ 1.0000e+00,  1.0000e+00]],\n",
       "\n",
       "        [[ 0.0000e+00,  0.0000e+00],\n",
       "         [ 1.0000e+00,  1.0000e+00],\n",
       "         [ 0.0000e+00,  0.0000e+00],\n",
       "         [ 1.0000e+00,  1.0000e+00],\n",
       "         [ 0.0000e+00,  0.0000e+00],\n",
       "         [ 1.0000e+00,  1.0000e+00],\n",
       "         [ 0.0000e+00,  0.0000e+00],\n",
       "         [ 1.0000e+00,  1.0000e+00],\n",
       "         [ 0.0000e+00,  0.0000e+00],\n",
       "         [ 1.0000e+00,  1.0000e+00],\n",
       "         [ 0.0000e+00,  0.0000e+00],\n",
       "         [ 1.0000e+00,  1.0000e+00],\n",
       "         [ 0.0000e+00,  0.0000e+00],\n",
       "         [ 1.0000e+00,  1.0000e+00],\n",
       "         [ 0.0000e+00,  0.0000e+00],\n",
       "         [ 1.0000e+00,  1.0000e+00],\n",
       "         [ 0.0000e+00,  0.0000e+00],\n",
       "         [ 1.0000e+00,  1.0000e+00],\n",
       "         [ 0.0000e+00,  0.0000e+00],\n",
       "         [ 1.0000e+00,  1.0000e+00],\n",
       "         [ 0.0000e+00,  0.0000e+00],\n",
       "         [ 1.0000e+00,  1.0000e+00],\n",
       "         [ 0.0000e+00,  0.0000e+00],\n",
       "         [ 1.0000e+00,  1.0000e+00],\n",
       "         [ 0.0000e+00,  0.0000e+00],\n",
       "         [ 1.0000e+00,  1.0000e+00],\n",
       "         [ 0.0000e+00,  0.0000e+00],\n",
       "         [ 1.0000e+00,  1.0000e+00],\n",
       "         [ 0.0000e+00,  0.0000e+00],\n",
       "         [ 1.0000e+00,  1.0000e+00],\n",
       "         [ 0.0000e+00,  0.0000e+00],\n",
       "         [ 1.0000e+00,  1.0000e+00],\n",
       "         [ 0.0000e+00,  0.0000e+00],\n",
       "         [ 1.0000e+00,  1.0000e+00],\n",
       "         [ 0.0000e+00,  0.0000e+00],\n",
       "         [ 1.0000e+00,  1.0000e+00],\n",
       "         [ 0.0000e+00,  0.0000e+00],\n",
       "         [ 1.0000e+00,  1.0000e+00],\n",
       "         [ 0.0000e+00,  0.0000e+00],\n",
       "         [ 1.0000e+00,  1.0000e+00],\n",
       "         [ 0.0000e+00,  0.0000e+00],\n",
       "         [ 1.0000e+00,  1.0000e+00],\n",
       "         [ 0.0000e+00,  0.0000e+00],\n",
       "         [ 1.0000e+00,  1.0000e+00],\n",
       "         [ 0.0000e+00,  0.0000e+00],\n",
       "         [ 1.0000e+00,  1.0000e+00],\n",
       "         [ 0.0000e+00,  0.0000e+00],\n",
       "         [ 1.0000e+00,  1.0000e+00]],\n",
       "\n",
       "        [[ 0.0000e+00,  0.0000e+00],\n",
       "         [ 1.0000e+00,  1.0000e+00],\n",
       "         [ 0.0000e+00,  0.0000e+00],\n",
       "         [ 1.0000e+00,  1.0000e+00],\n",
       "         [ 0.0000e+00,  0.0000e+00],\n",
       "         [ 1.0000e+00,  1.0000e+00],\n",
       "         [ 0.0000e+00,  0.0000e+00],\n",
       "         [ 1.0000e+00,  1.0000e+00],\n",
       "         [ 0.0000e+00,  0.0000e+00],\n",
       "         [ 1.0000e+00,  1.0000e+00],\n",
       "         [ 0.0000e+00,  0.0000e+00],\n",
       "         [ 1.0000e+00,  1.0000e+00],\n",
       "         [ 0.0000e+00,  0.0000e+00],\n",
       "         [ 1.0000e+00,  1.0000e+00],\n",
       "         [ 0.0000e+00,  0.0000e+00],\n",
       "         [ 1.0000e+00,  1.0000e+00],\n",
       "         [ 0.0000e+00,  0.0000e+00],\n",
       "         [ 1.0000e+00,  1.0000e+00],\n",
       "         [ 0.0000e+00,  0.0000e+00],\n",
       "         [ 1.0000e+00,  1.0000e+00],\n",
       "         [ 0.0000e+00,  0.0000e+00],\n",
       "         [ 1.0000e+00,  1.0000e+00],\n",
       "         [ 0.0000e+00,  0.0000e+00],\n",
       "         [ 1.0000e+00,  1.0000e+00],\n",
       "         [ 0.0000e+00,  0.0000e+00],\n",
       "         [ 1.0000e+00,  1.0000e+00],\n",
       "         [ 0.0000e+00,  0.0000e+00],\n",
       "         [ 1.0000e+00,  1.0000e+00],\n",
       "         [ 0.0000e+00,  0.0000e+00],\n",
       "         [ 1.0000e+00,  1.0000e+00],\n",
       "         [ 0.0000e+00,  0.0000e+00],\n",
       "         [ 1.0000e+00,  1.0000e+00],\n",
       "         [ 0.0000e+00,  0.0000e+00],\n",
       "         [ 1.0000e+00,  1.0000e+00],\n",
       "         [ 0.0000e+00,  0.0000e+00],\n",
       "         [ 1.0000e+00,  1.0000e+00],\n",
       "         [ 0.0000e+00,  0.0000e+00],\n",
       "         [ 1.0000e+00,  1.0000e+00],\n",
       "         [ 0.0000e+00,  0.0000e+00],\n",
       "         [ 1.0000e+00,  1.0000e+00],\n",
       "         [ 0.0000e+00,  0.0000e+00],\n",
       "         [ 1.0000e+00,  1.0000e+00],\n",
       "         [ 0.0000e+00,  0.0000e+00],\n",
       "         [ 1.0000e+00,  1.0000e+00],\n",
       "         [ 0.0000e+00,  0.0000e+00],\n",
       "         [ 1.0000e+00,  1.0000e+00],\n",
       "         [ 0.0000e+00,  0.0000e+00],\n",
       "         [ 1.0000e+00,  1.0000e+00]]])"
      ]
     },
     "execution_count": 16,
     "metadata": {},
     "output_type": "execute_result"
    }
   ],
   "source": [
    "v = torch.zeros((3, 6, 2))\n",
    "v[0, 0, 0] = 1\n",
    "compute_octaves(v, n_oct=4, dim=-2)"
   ]
  },
  {
   "cell_type": "code",
   "execution_count": 17,
   "metadata": {},
   "outputs": [
    {
     "data": {
      "text/plain": [
       "(torch.Size([4, 3, 128, 128]), torch.Size([4, 3, 128, 128]))"
      ]
     },
     "execution_count": 17,
     "metadata": {},
     "output_type": "execute_result"
    }
   ],
   "source": [
    "import torch\n",
    "import einx\n",
    "\n",
    "\n",
    "vecs = torch.rand((3, 128, 128))\n",
    "Kinv = torch.rand((3, 3))\n",
    "R = torch.rand((4, 3, 3))\n",
    "t = torch.rand((4, 3))\n",
    "\n",
    "o, d = compute_view_rays(vecs, Kinv, R, t)\n",
    "\n",
    "o.shape, d.shape"
   ]
  },
  {
   "cell_type": "markdown",
   "metadata": {},
   "source": [
    "Pose encoder"
   ]
  },
  {
   "cell_type": "code",
   "execution_count": 18,
   "metadata": {},
   "outputs": [
    {
     "data": {
      "text/plain": [
       "torch.Size([4, 1, 192])"
      ]
     },
     "execution_count": 18,
     "metadata": {},
     "output_type": "execute_result"
    }
   ],
   "source": [
    "B = 4\n",
    "C = config.model.C\n",
    "K = torch.linalg.inv(torch.arange(9).reshape((3, 3)) + 4.0)\n",
    "Kinv = K.inverse()\n",
    "R, t = torch.arange(B * 9).reshape((B, 3, 3)) + 0.0, torch.arange(B * 3).reshape((B, 3)) + 0.0\n",
    "I = torch.ones((B, config.model.C, 5, 4)) + 0.0\n",
    "\n",
    "pose_encoder = PoseEncoder(config.model)\n",
    "pose_encoder(Kinv, R, t, torch.arange(B) / 4, I)[0].shape # (4, 2, 12)\n",
    "#pose_encoder(Kinv, R, t, torch.arange(B) / 4, None, I.shape[-2:])"
   ]
  },
  {
   "cell_type": "markdown",
   "metadata": {},
   "source": [
    "Displaying view rays from compute_view_rays"
   ]
  },
  {
   "cell_type": "code",
   "execution_count": 19,
   "metadata": {},
   "outputs": [],
   "source": [
    "scene = dataset_panoptic.__getitem__(0)"
   ]
  },
  {
   "cell_type": "code",
   "execution_count": 20,
   "metadata": {},
   "outputs": [
    {
     "data": {
      "text/plain": [
       "{'video': <torchcodec.decoders._video_decoder.VideoDecoder at 0x7fdf7a380140>,\n",
       " 'K': tensor([[1.4107e+03, 0.0000e+00, 9.6000e+02],\n",
       "         [0.0000e+00, 1.3299e+03, 5.4000e+02],\n",
       "         [0.0000e+00, 0.0000e+00, 1.0000e+00]], device='cuda:0'),\n",
       " 'Kinv': tensor([[ 7.0888e-04,  0.0000e+00, -6.8053e-01],\n",
       "         [ 0.0000e+00,  7.5194e-04, -4.0605e-01],\n",
       "         [ 0.0000e+00,  0.0000e+00,  1.0000e+00]], device='cuda:0'),\n",
       " 'R': tensor([[[-0.6212, -0.0284,  0.7832],\n",
       "          [ 0.0751,  0.9926,  0.0955],\n",
       "          [-0.7801,  0.1182, -0.6144]]], device='cuda:0'),\n",
       " 't': tensor([[-15.3971, 117.3840, 288.2436]], device='cuda:0'),\n",
       " 'time': tensor([0.0000e+00, 3.3367e-02, 6.6733e-02,  ..., 2.0254e+02, 2.0257e+02,\n",
       "         2.0260e+02], device='cuda:0'),\n",
       " 'shape': torch.Size([6073, 3, 1080, 1920])}"
      ]
     },
     "execution_count": 20,
     "metadata": {},
     "output_type": "execute_result"
    }
   ],
   "source": [
    "scene.videos[0]"
   ]
  },
  {
   "cell_type": "code",
   "execution_count": 21,
   "metadata": {},
   "outputs": [
    {
     "data": {
      "application/vnd.plotly.v1+json": {
       "config": {
        "plotlyServerURL": "https://plot.ly"
       },
       "data": [
        {
         "mode": "lines",
         "type": "scatter3d",
         "x": [
          206.46499633789062,
          197.3388671875,
          null,
          206.46499633789062,
          198.77259826660156,
          null,
          206.46499633789062,
          177.4661407470703,
          null,
          206.46499633789062,
          178.89987182617188,
          null,
          197.3388671875,
          198.77259826660156,
          null,
          197.3388671875,
          177.4661407470703,
          null,
          198.77259826660156,
          178.89987182617188,
          null,
          177.4661407470703,
          178.89987182617188,
          null
         ],
         "y": [
          -151.01800537109375,
          -157.254638671875,
          null,
          -151.01800537109375,
          -138.31494140625,
          null,
          -151.01800537109375,
          -158.16184997558594,
          null,
          -151.01800537109375,
          -139.22216796875,
          null,
          -157.254638671875,
          -138.31494140625,
          null,
          -157.254638671875,
          -158.16184997558594,
          null,
          -138.31494140625,
          -139.22216796875,
          null,
          -158.16184997558594,
          -139.22216796875,
          null
         ],
         "z": [
          177.95001220703125,
          150.0606231689453,
          null,
          177.95001220703125,
          151.88357543945312,
          null,
          177.95001220703125,
          175.11602783203125,
          null,
          177.95001220703125,
          176.93898010253906,
          null,
          150.0606231689453,
          151.88357543945312,
          null,
          150.0606231689453,
          175.11602783203125,
          null,
          151.88357543945312,
          176.93898010253906,
          null,
          175.11602783203125,
          176.93898010253906,
          null
         ]
        },
        {
         "marker": {
          "color": {
           "bdata": "AAAAAAAA8D8AAAAAAAAAAAAAAAAAAAAAAAAAAAAAAAAAAAAAAAAAAAAAAAAAAAAAAAAAAAAAAAAAAAAAAADwPwAAAAAAAAAAAAAAAAAAAAAAAAAAAAAAAAAAAAAAAPA/AAAAAAAAAAAAAAAAAADwPwAAAAAAAPA/",
           "dtype": "f8",
           "shape": "5, 3"
          },
          "size": 1
         },
         "mode": "markers",
         "type": "scatter3d",
         "x": {
          "bdata": "AAAAQOHOaUAAAAAA2KpoQAAAACC52GhAAAAAoOouZkAAAADAy1xmQA==",
          "dtype": "f8"
         },
         "y": {
          "bdata": "AAAAgJPgYsAAAAAAJqhjwAAAAAAUSmHAAAAA4C3FY8AAAAAAHGdhwA==",
          "dtype": "f8"
         },
         "z": {
          "bdata": "AAAAgGY+ZkAAAACg8MFiQAAAAEBG/GJAAAAAgLbjZUAAAAAgDB5mQA==",
          "dtype": "f8"
         }
        },
        {
         "mode": "lines",
         "type": "scatter3d",
         "x": [
          -272.20599365234375,
          -248.796630859375,
          null,
          -272.20599365234375,
          -250.3563232421875,
          null,
          -272.20599365234375,
          -244.89698791503906,
          null,
          -272.20599365234375,
          -246.45669555664062,
          null,
          -248.796630859375,
          -250.3563232421875,
          null,
          -248.796630859375,
          -244.89698791503906,
          null,
          -250.3563232421875,
          -246.45669555664062,
          null,
          -244.89698791503906,
          -246.45669555664062,
          null
         ],
         "y": [
          -151.697998046875,
          -158.46849060058594,
          null,
          -151.697998046875,
          -141.5059051513672,
          null,
          -151.697998046875,
          -157.51400756835938,
          null,
          -151.697998046875,
          -140.55142211914062,
          null,
          -158.46849060058594,
          -141.5059051513672,
          null,
          -158.46849060058594,
          -157.51400756835938,
          null,
          -141.5059051513672,
          -140.55142211914062,
          null,
          -157.51400756835938,
          -140.55142211914062,
          null
         ],
         "z": [
          -21.84769630432129,
          -4.35020637512207,
          null,
          -21.84769630432129,
          -3.995157241821289,
          null,
          -21.84769630432129,
          -32.82004928588867,
          null,
          -21.84769630432129,
          -32.464996337890625,
          null,
          -4.35020637512207,
          -3.995157241821289,
          null,
          -4.35020637512207,
          -32.82004928588867,
          null,
          -3.995157241821289,
          -32.464996337890625,
          null,
          -32.82004928588867,
          -32.464996337890625,
          null
         ]
        },
        {
         "marker": {
          "color": {
           "bdata": "AAAAAAAA8D8AAAAAAAAAAAAAAAAAAAAAAAAAAAAAAAAAAAAAAAAAAAAAAAAAAAAAAAAAAAAAAAAAAAAAAADwPwAAAAAAAAAAAAAAAAAAAAAAAAAAAAAAAAAAAAAAAPA/AAAAAAAAAAAAAAAAAADwPwAAAAAAAPA/",
           "dtype": "f8",
           "shape": "5, 3"
          },
          "size": 1
         },
         "mode": "markers",
         "type": "scatter3d",
         "x": {
          "bdata": "AAAAwEsDccAAAAAAfhlvwAAAAABnS2/AAAAAILScbsAAAABAnc5uwA==",
          "dtype": "f8"
         },
         "y": {
          "bdata": "AAAAAFb2YsAAAADg/c5jwAAAAGAwsGHAAAAAwHKwY8AAAABApZFhwA==",
          "dtype": "f8"
         },
         "z": {
          "bdata": "AAAAoALZNcAAAACAnGYRwAAAAAAV9g/AAAAAYPdoQMAAAAAAhTtAwA==",
          "dtype": "f8"
         }
        },
        {
         "mode": "lines",
         "type": "scatter3d",
         "x": [
          -106.24099731445312,
          -82.72513580322266,
          null,
          -106.24099731445312,
          -83.13783264160156,
          null,
          -106.24099731445312,
          -112.1887435913086,
          null,
          -106.24099731445312,
          -112.6014404296875,
          null,
          -82.72513580322266,
          -83.13783264160156,
          null,
          -82.72513580322266,
          -112.1887435913086,
          null,
          -83.13783264160156,
          -112.6014404296875,
          null,
          -112.1887435913086,
          -112.6014404296875,
          null
         ],
         "y": [
          -152.48800659179688,
          -161.05873107910156,
          null,
          -152.48800659179688,
          -142.06629943847656,
          null,
          -152.48800659179688,
          -161.40377807617188,
          null,
          -152.48800659179688,
          -142.41134643554688,
          null,
          -161.05873107910156,
          -142.06629943847656,
          null,
          -161.05873107910156,
          -161.40377807617188,
          null,
          -142.06629943847656,
          -142.41134643554688,
          null,
          -161.40377807617188,
          -142.41134643554688,
          null
         ],
         "z": [
          254.6630096435547,
          238.12376403808594,
          null,
          254.6630096435547,
          238.61209106445312,
          null,
          254.6630096435547,
          226.6427764892578,
          null,
          254.6630096435547,
          227.131103515625,
          null,
          238.12376403808594,
          238.61209106445312,
          null,
          238.12376403808594,
          226.6427764892578,
          null,
          238.61209106445312,
          227.131103515625,
          null,
          226.6427764892578,
          227.131103515625,
          null
         ]
        },
        {
         "marker": {
          "color": {
           "bdata": "AAAAAAAA8D8AAAAAAAAAAAAAAAAAAAAAAAAAAAAAAAAAAAAAAAAAAAAAAAAAAAAAAAAAAAAAAAAAAAAAAADwPwAAAAAAAAAAAAAAAAAAAAAAAAAAAAAAAAAAAAAAAPA/AAAAAAAAAAAAAAAAAADwPwAAAAAAAPA/",
           "dtype": "f8",
           "shape": "5, 3"
          },
          "size": 1
         },
         "mode": "markers",
         "type": "scatter3d",
         "x": {
          "bdata": "AAAAgGyPWsAAAACgaK5UwAAAAEDSyFTAAAAAYBQMXMAAAAAAfiZcwA==",
          "dtype": "f8"
         },
         "y": {
          "bdata": "AAAAwJ0PY8AAAAAg4SFkwAAAACAfwmHAAAAAwOssZMAAAADAKc1hwA==",
          "dtype": "f8"
         },
         "z": {
          "bdata": "AAAAYDfVb0AAAADg9cNtQAAAAECW021AAAAAoJFUbEAAAAAAMmRsQA==",
          "dtype": "f8"
         }
        },
        {
         "mode": "lines",
         "type": "scatter3d",
         "x": [
          -67.85599517822266,
          -75.18315124511719,
          null,
          -67.85599517822266,
          -79.15421295166016,
          null,
          -67.85599517822266,
          -44.850120544433594,
          null,
          -67.85599517822266,
          -48.821189880371094,
          null,
          -75.18315124511719,
          -79.15421295166016,
          null,
          -75.18315124511719,
          -44.850120544433594,
          null,
          -79.15421295166016,
          -48.821189880371094,
          null,
          -44.850120544433594,
          -48.821189880371094,
          null
         ],
         "y": [
          -339.4869689941406,
          -327.0424499511719,
          null,
          -339.4869689941406,
          -314.8631286621094,
          null,
          -339.4869689941406,
          -328.6112365722656,
          null,
          -339.4869689941406,
          -316.4319152832031,
          null,
          -327.0424499511719,
          -314.8631286621094,
          null,
          -327.0424499511719,
          -328.6112365722656,
          null,
          -314.8631286621094,
          -316.4319152832031,
          null,
          -328.6112365722656,
          -316.4319152832031,
          null
         ],
         "z": [
          -172.25299072265625,
          -145.95761108398438,
          null,
          -172.25299072265625,
          -159.3682403564453,
          null,
          -172.25299072265625,
          -156.36436462402344,
          null,
          -172.25299072265625,
          -169.77499389648438,
          null,
          -145.95761108398438,
          -159.3682403564453,
          null,
          -145.95761108398438,
          -156.36436462402344,
          null,
          -159.3682403564453,
          -169.77499389648438,
          null,
          -156.36436462402344,
          -169.77499389648438,
          null
         ]
        },
        {
         "marker": {
          "color": {
           "bdata": "AAAAAAAA8D8AAAAAAAAAAAAAAAAAAAAAAAAAAAAAAAAAAAAAAAAAAAAAAAAAAAAAAAAAAAAAAAAAAAAAAADwPwAAAAAAAAAAAAAAAAAAAAAAAAAAAAAAAAAAAAAAAPA/AAAAAAAAAAAAAAAAAADwPwAAAAAAAPA/",
           "dtype": "f8",
           "shape": "5, 3"
          },
          "size": 1
         },
         "mode": "markers",
         "type": "scatter3d",
         "x": {
          "bdata": "AAAAoMj2UMAAAADAuMtSwAAAAKDeyVPAAAAAwNBsRsAAAADAHGlIwA==",
          "dtype": "f8"
         },
         "y": {
          "bdata": "AAAAoMo3dcAAAADgrXB0wAAAAGDPrXPAAAAAoMeJdMAAAAAg6cZzwA==",
          "dtype": "f8"
         },
         "z": {
          "bdata": "AAAAgBiIZcAAAADApD5iwAAAAKDI62PAAAAA4KiLY8AAAADAzDhlwA==",
          "dtype": "f8"
         }
        },
        {
         "mode": "lines",
         "type": "scatter3d",
         "x": [
          -46.296302795410156,
          -28.553682327270508,
          null,
          -46.296302795410156,
          -28.754972457885742,
          null,
          -46.296302795410156,
          -60.192657470703125,
          null,
          -46.296302795410156,
          -60.39394760131836,
          null,
          -28.553682327270508,
          -28.754972457885742,
          null,
          -28.553682327270508,
          -60.192657470703125,
          null,
          -28.754972457885742,
          -60.39394760131836,
          null,
          -60.192657470703125,
          -60.39394760131836,
          null
         ],
         "y": [
          -338.9139709472656,
          -326.8538818359375,
          null,
          -338.9139709472656,
          -315.3402404785156,
          null,
          -338.9139709472656,
          -325.1241455078125,
          null,
          -338.9139709472656,
          -313.6104736328125,
          null,
          -326.8538818359375,
          -315.3402404785156,
          null,
          -326.8538818359375,
          -325.1241455078125,
          null,
          -315.3402404785156,
          -313.6104736328125,
          null,
          -325.1241455078125,
          -313.6104736328125,
          null
         ],
         "z": [
          180.00698852539062,
          159.03668212890625,
          null,
          180.00698852539062,
          173.9588165283203,
          null,
          180.00698852539062,
          157.27523803710938,
          null,
          180.00698852539062,
          172.1973876953125,
          null,
          159.03668212890625,
          173.9588165283203,
          null,
          159.03668212890625,
          157.27523803710938,
          null,
          173.9588165283203,
          172.1973876953125,
          null,
          157.27523803710938,
          172.1973876953125,
          null
         ]
        },
        {
         "marker": {
          "color": {
           "bdata": "AAAAAAAA8D8AAAAAAAAAAAAAAAAAAAAAAAAAAAAAAAAAAAAAAAAAAAAAAAAAAAAAAAAAAAAAAAAAAAAAAADwPwAAAAAAAAAAAAAAAAAAAAAAAAAAAAAAAAAAAAAAAPA/AAAAAAAAAAAAAAAAAADwPwAAAAAAAPA/",
           "dtype": "f8",
           "shape": "5, 3"
          },
          "size": 1
         },
         "mode": "markers",
         "type": "scatter3d",
         "x": {
          "bdata": "AAAAQO0lR8AAAAAgvo08wAAAAOBFwTzAAAAAAKkYTsAAAADgbDJOwA==",
          "dtype": "f8"
         },
         "y": {
          "bdata": "AAAAoJ8udcAAAACAqW10wAAAAKBxtXPAAAAAgPxRdMAAAACAxJlzwA==",
          "dtype": "f8"
         },
         "z": {
          "bdata": "AAAAQDmAZkAAAACALOFjQAAAAKCuvmVAAAAAwM6oY0AAAAAAUYZlQA==",
          "dtype": "f8"
         }
        },
        {
         "mode": "lines",
         "type": "scatter3d",
         "x": [
          74.81769561767578,
          81.52867126464844,
          null,
          74.81769561767578,
          84.88180541992188,
          null,
          74.81769561767578,
          51.33197021484375,
          null,
          74.81769561767578,
          54.68510437011719,
          null,
          81.52867126464844,
          84.88180541992188,
          null,
          81.52867126464844,
          51.33197021484375,
          null,
          84.88180541992188,
          54.68510437011719,
          null,
          51.33197021484375,
          54.68510437011719,
          null
         ],
         "y": [
          -312.0350036621094,
          -304.0233459472656,
          null,
          -312.0350036621094,
          -289.50177001953125,
          null,
          -312.0350036621094,
          -305.23175048828125,
          null,
          -312.0350036621094,
          -290.7101745605469,
          null,
          -304.0233459472656,
          -289.50177001953125,
          null,
          -304.0233459472656,
          -305.23175048828125,
          null,
          -289.50177001953125,
          -290.7101745605469,
          null,
          -305.23175048828125,
          -290.7101745605469,
          null
         ],
         "z": [
          197.2080078125,
          169.08726501464844,
          null,
          197.2080078125,
          180.15023803710938,
          null,
          197.2080078125,
          179.82594299316406,
          null,
          197.2080078125,
          190.888916015625,
          null,
          169.08726501464844,
          180.15023803710938,
          null,
          169.08726501464844,
          179.82594299316406,
          null,
          180.15023803710938,
          190.888916015625,
          null,
          179.82594299316406,
          190.888916015625,
          null
         ]
        },
        {
         "marker": {
          "color": {
           "bdata": "AAAAAAAA8D8AAAAAAAAAAAAAAAAAAAAAAAAAAAAAAAAAAAAAAAAAAAAAAAAAAAAAAAAAAAAAAAAAAAAAAADwPwAAAAAAAAAAAAAAAAAAAAAAAAAAAAAAAAAAAAAAAPA/AAAAAAAAAAAAAAAAAADwPwAAAAAAAPA/",
           "dtype": "f8",
           "shape": "5, 3"
          },
          "size": 1
         },
         "mode": "markers",
         "type": "scatter3d",
         "x": {
          "bdata": "AAAAIFW0UkAAAADA1WFUQAAAAIBvOFVAAAAAAH6qSUAAAACAsVdLQA==",
          "dtype": "f8"
         },
         "y": {
          "bdata": "AAAAYI+Ac8AAAACgXwBzwAAAAEAHGHLAAAAAQLUTc8AAAADgXCtywA==",
          "dtype": "f8"
         },
         "z": {
          "bdata": "AAAAAKimaEAAAADgyiJlQAAAAMDOhGZAAAAAIG56ZkAAAAAActxnQA==",
          "dtype": "f8"
         }
        },
        {
         "mode": "lines",
         "type": "scatter3d",
         "x": [
          157.0810089111328,
          145.24232482910156,
          null,
          157.0810089111328,
          156.329345703125,
          null,
          157.0810089111328,
          129.9894561767578,
          null,
          157.0810089111328,
          141.0764617919922,
          null,
          145.24232482910156,
          156.329345703125,
          null,
          145.24232482910156,
          129.9894561767578,
          null,
          156.329345703125,
          141.0764617919922,
          null,
          129.9894561767578,
          141.0764617919922,
          null
         ],
         "y": [
          -339.26702880859375,
          -326.0517883300781,
          null,
          -339.26702880859375,
          -314.6386413574219,
          null,
          -339.26702880859375,
          -326.38330078125,
          null,
          -339.26702880859375,
          -314.97015380859375,
          null,
          -326.0517883300781,
          -314.6386413574219,
          null,
          -326.0517883300781,
          -326.38330078125,
          null,
          -314.6386413574219,
          -314.97015380859375,
          null,
          -326.38330078125,
          -314.97015380859375,
          null
         ],
         "z": [
          100.13700866699219,
          75.94603729248047,
          null,
          100.13700866699219,
          83.02333068847656,
          null,
          100.13700866699219,
          100.37519073486328,
          null,
          100.13700866699219,
          107.45247650146484,
          null,
          75.94603729248047,
          83.02333068847656,
          null,
          75.94603729248047,
          100.37519073486328,
          null,
          83.02333068847656,
          107.45247650146484,
          null,
          100.37519073486328,
          107.45247650146484,
          null
         ]
        },
        {
         "marker": {
          "color": {
           "bdata": "AAAAAAAA8D8AAAAAAAAAAAAAAAAAAAAAAAAAAAAAAAAAAAAAAAAAAAAAAAAAAAAAAAAAAAAAAAAAAAAAAADwPwAAAAAAAAAAAAAAAAAAAAAAAAAAAAAAAAAAAAAAAPA/AAAAAAAAAAAAAAAAAADwPwAAAAAAAPA/",
           "dtype": "f8",
           "shape": "5, 3"
          },
          "size": 1
         },
         "mode": "markers",
         "type": "scatter3d",
         "x": {
          "bdata": "AAAAoJeiY0AAAAAgwSdiQAAAAACKimNAAAAAoKk/YEAAAABgcqJhQA==",
          "dtype": "f8"
         },
         "y": {
          "bdata": "AAAAwEU0dcAAAAAg1GB0wAAAAOA3qnPAAAAAACJmdMAAAADAha9zwA==",
          "dtype": "f8"
         },
         "z": {
          "bdata": "AAAAwMQIWUAAAADgi/xSQAAAAEB+wVRAAAAAIAMYWUAAAABg9dxaQA==",
          "dtype": "f8"
         }
        },
        {
         "mode": "lines",
         "type": "scatter3d",
         "x": [
          210.09698486328125,
          185.12374877929688,
          null,
          210.09698486328125,
          197.1797332763672,
          null,
          210.09698486328125,
          186.84353637695312,
          null,
          210.09698486328125,
          198.89952087402344,
          null,
          185.12374877929688,
          197.1797332763672,
          null,
          185.12374877929688,
          186.84353637695312,
          null,
          197.1797332763672,
          198.89952087402344,
          null,
          186.84353637695312,
          198.89952087402344,
          null
         ],
         "y": [
          -312.46197509765625,
          -305.0785217285156,
          null,
          -312.46197509765625,
          -290.5391845703125,
          null,
          -312.46197509765625,
          -304.3083801269531,
          null,
          -312.46197509765625,
          -289.76904296875,
          null,
          -305.0785217285156,
          -290.5391845703125,
          null,
          -305.0785217285156,
          -304.3083801269531,
          null,
          -290.5391845703125,
          -289.76904296875,
          null,
          -304.3083801269531,
          -289.76904296875,
          null
         ],
         "z": [
          -10.4266996383667,
          -25.320402145385742,
          null,
          -10.4266996383667,
          -26.318090438842773,
          null,
          -10.4266996383667,
          6.684584617614746,
          null,
          -10.4266996383667,
          5.686896324157715,
          null,
          -25.320402145385742,
          -26.318090438842773,
          null,
          -25.320402145385742,
          6.684584617614746,
          null,
          -26.318090438842773,
          5.686896324157715,
          null,
          6.684584617614746,
          5.686896324157715,
          null
         ]
        },
        {
         "marker": {
          "color": {
           "bdata": "AAAAAAAA8D8AAAAAAAAAAAAAAAAAAAAAAAAAAAAAAAAAAAAAAAAAAAAAAAAAAAAAAAAAAAAAAAAAAAAAAADwPwAAAAAAAAAAAAAAAAAAAAAAAAAAAAAAAAAAAAAAAPA/AAAAAAAAAAAAAAAAAADwPwAAAAAAAPA/",
           "dtype": "f8",
           "shape": "5, 3"
          },
          "size": 1
         },
         "mode": "markers",
         "type": "scatter3d",
         "x": {
          "bdata": "AAAAgBpDakAAAADA9SNnQAAAAGDApWhAAAAAQP5aZ0AAAADgyNxoQA==",
          "dtype": "f8"
         },
         "y": {
          "bdata": "AAAAQGSHc8AAAACgQRFzwAAAAICgKHLAAAAAIO8Ec8AAAAAAThxywA==",
          "dtype": "f8"
         },
         "z": {
          "bdata": "AAAAYHjaJMAAAADgBVI5wAAAAGBuUTrAAAAAwAO9GkAAAADAYb8WQA==",
          "dtype": "f8"
         }
        }
       ],
       "layout": {
        "height": 400,
        "margin": {
         "b": 0,
         "l": 0,
         "r": 0,
         "t": 0
        },
        "scene": {
         "camera": {
          "center": {
           "x": 0,
           "y": 0,
           "z": 0
          },
          "up": {
           "x": 0,
           "y": 0,
           "z": 1
          }
         }
        },
        "showlegend": false,
        "template": {
         "data": {
          "bar": [
           {
            "error_x": {
             "color": "#2a3f5f"
            },
            "error_y": {
             "color": "#2a3f5f"
            },
            "marker": {
             "line": {
              "color": "#E5ECF6",
              "width": 0.5
             },
             "pattern": {
              "fillmode": "overlay",
              "size": 10,
              "solidity": 0.2
             }
            },
            "type": "bar"
           }
          ],
          "barpolar": [
           {
            "marker": {
             "line": {
              "color": "#E5ECF6",
              "width": 0.5
             },
             "pattern": {
              "fillmode": "overlay",
              "size": 10,
              "solidity": 0.2
             }
            },
            "type": "barpolar"
           }
          ],
          "carpet": [
           {
            "aaxis": {
             "endlinecolor": "#2a3f5f",
             "gridcolor": "white",
             "linecolor": "white",
             "minorgridcolor": "white",
             "startlinecolor": "#2a3f5f"
            },
            "baxis": {
             "endlinecolor": "#2a3f5f",
             "gridcolor": "white",
             "linecolor": "white",
             "minorgridcolor": "white",
             "startlinecolor": "#2a3f5f"
            },
            "type": "carpet"
           }
          ],
          "choropleth": [
           {
            "colorbar": {
             "outlinewidth": 0,
             "ticks": ""
            },
            "type": "choropleth"
           }
          ],
          "contour": [
           {
            "colorbar": {
             "outlinewidth": 0,
             "ticks": ""
            },
            "colorscale": [
             [
              0,
              "#0d0887"
             ],
             [
              0.1111111111111111,
              "#46039f"
             ],
             [
              0.2222222222222222,
              "#7201a8"
             ],
             [
              0.3333333333333333,
              "#9c179e"
             ],
             [
              0.4444444444444444,
              "#bd3786"
             ],
             [
              0.5555555555555556,
              "#d8576b"
             ],
             [
              0.6666666666666666,
              "#ed7953"
             ],
             [
              0.7777777777777778,
              "#fb9f3a"
             ],
             [
              0.8888888888888888,
              "#fdca26"
             ],
             [
              1,
              "#f0f921"
             ]
            ],
            "type": "contour"
           }
          ],
          "contourcarpet": [
           {
            "colorbar": {
             "outlinewidth": 0,
             "ticks": ""
            },
            "type": "contourcarpet"
           }
          ],
          "heatmap": [
           {
            "colorbar": {
             "outlinewidth": 0,
             "ticks": ""
            },
            "colorscale": [
             [
              0,
              "#0d0887"
             ],
             [
              0.1111111111111111,
              "#46039f"
             ],
             [
              0.2222222222222222,
              "#7201a8"
             ],
             [
              0.3333333333333333,
              "#9c179e"
             ],
             [
              0.4444444444444444,
              "#bd3786"
             ],
             [
              0.5555555555555556,
              "#d8576b"
             ],
             [
              0.6666666666666666,
              "#ed7953"
             ],
             [
              0.7777777777777778,
              "#fb9f3a"
             ],
             [
              0.8888888888888888,
              "#fdca26"
             ],
             [
              1,
              "#f0f921"
             ]
            ],
            "type": "heatmap"
           }
          ],
          "histogram": [
           {
            "marker": {
             "pattern": {
              "fillmode": "overlay",
              "size": 10,
              "solidity": 0.2
             }
            },
            "type": "histogram"
           }
          ],
          "histogram2d": [
           {
            "colorbar": {
             "outlinewidth": 0,
             "ticks": ""
            },
            "colorscale": [
             [
              0,
              "#0d0887"
             ],
             [
              0.1111111111111111,
              "#46039f"
             ],
             [
              0.2222222222222222,
              "#7201a8"
             ],
             [
              0.3333333333333333,
              "#9c179e"
             ],
             [
              0.4444444444444444,
              "#bd3786"
             ],
             [
              0.5555555555555556,
              "#d8576b"
             ],
             [
              0.6666666666666666,
              "#ed7953"
             ],
             [
              0.7777777777777778,
              "#fb9f3a"
             ],
             [
              0.8888888888888888,
              "#fdca26"
             ],
             [
              1,
              "#f0f921"
             ]
            ],
            "type": "histogram2d"
           }
          ],
          "histogram2dcontour": [
           {
            "colorbar": {
             "outlinewidth": 0,
             "ticks": ""
            },
            "colorscale": [
             [
              0,
              "#0d0887"
             ],
             [
              0.1111111111111111,
              "#46039f"
             ],
             [
              0.2222222222222222,
              "#7201a8"
             ],
             [
              0.3333333333333333,
              "#9c179e"
             ],
             [
              0.4444444444444444,
              "#bd3786"
             ],
             [
              0.5555555555555556,
              "#d8576b"
             ],
             [
              0.6666666666666666,
              "#ed7953"
             ],
             [
              0.7777777777777778,
              "#fb9f3a"
             ],
             [
              0.8888888888888888,
              "#fdca26"
             ],
             [
              1,
              "#f0f921"
             ]
            ],
            "type": "histogram2dcontour"
           }
          ],
          "mesh3d": [
           {
            "colorbar": {
             "outlinewidth": 0,
             "ticks": ""
            },
            "type": "mesh3d"
           }
          ],
          "parcoords": [
           {
            "line": {
             "colorbar": {
              "outlinewidth": 0,
              "ticks": ""
             }
            },
            "type": "parcoords"
           }
          ],
          "pie": [
           {
            "automargin": true,
            "type": "pie"
           }
          ],
          "scatter": [
           {
            "fillpattern": {
             "fillmode": "overlay",
             "size": 10,
             "solidity": 0.2
            },
            "type": "scatter"
           }
          ],
          "scatter3d": [
           {
            "line": {
             "colorbar": {
              "outlinewidth": 0,
              "ticks": ""
             }
            },
            "marker": {
             "colorbar": {
              "outlinewidth": 0,
              "ticks": ""
             }
            },
            "type": "scatter3d"
           }
          ],
          "scattercarpet": [
           {
            "marker": {
             "colorbar": {
              "outlinewidth": 0,
              "ticks": ""
             }
            },
            "type": "scattercarpet"
           }
          ],
          "scattergeo": [
           {
            "marker": {
             "colorbar": {
              "outlinewidth": 0,
              "ticks": ""
             }
            },
            "type": "scattergeo"
           }
          ],
          "scattergl": [
           {
            "marker": {
             "colorbar": {
              "outlinewidth": 0,
              "ticks": ""
             }
            },
            "type": "scattergl"
           }
          ],
          "scattermap": [
           {
            "marker": {
             "colorbar": {
              "outlinewidth": 0,
              "ticks": ""
             }
            },
            "type": "scattermap"
           }
          ],
          "scattermapbox": [
           {
            "marker": {
             "colorbar": {
              "outlinewidth": 0,
              "ticks": ""
             }
            },
            "type": "scattermapbox"
           }
          ],
          "scatterpolar": [
           {
            "marker": {
             "colorbar": {
              "outlinewidth": 0,
              "ticks": ""
             }
            },
            "type": "scatterpolar"
           }
          ],
          "scatterpolargl": [
           {
            "marker": {
             "colorbar": {
              "outlinewidth": 0,
              "ticks": ""
             }
            },
            "type": "scatterpolargl"
           }
          ],
          "scatterternary": [
           {
            "marker": {
             "colorbar": {
              "outlinewidth": 0,
              "ticks": ""
             }
            },
            "type": "scatterternary"
           }
          ],
          "surface": [
           {
            "colorbar": {
             "outlinewidth": 0,
             "ticks": ""
            },
            "colorscale": [
             [
              0,
              "#0d0887"
             ],
             [
              0.1111111111111111,
              "#46039f"
             ],
             [
              0.2222222222222222,
              "#7201a8"
             ],
             [
              0.3333333333333333,
              "#9c179e"
             ],
             [
              0.4444444444444444,
              "#bd3786"
             ],
             [
              0.5555555555555556,
              "#d8576b"
             ],
             [
              0.6666666666666666,
              "#ed7953"
             ],
             [
              0.7777777777777778,
              "#fb9f3a"
             ],
             [
              0.8888888888888888,
              "#fdca26"
             ],
             [
              1,
              "#f0f921"
             ]
            ],
            "type": "surface"
           }
          ],
          "table": [
           {
            "cells": {
             "fill": {
              "color": "#EBF0F8"
             },
             "line": {
              "color": "white"
             }
            },
            "header": {
             "fill": {
              "color": "#C8D4E3"
             },
             "line": {
              "color": "white"
             }
            },
            "type": "table"
           }
          ]
         },
         "layout": {
          "annotationdefaults": {
           "arrowcolor": "#2a3f5f",
           "arrowhead": 0,
           "arrowwidth": 1
          },
          "autotypenumbers": "strict",
          "coloraxis": {
           "colorbar": {
            "outlinewidth": 0,
            "ticks": ""
           }
          },
          "colorscale": {
           "diverging": [
            [
             0,
             "#8e0152"
            ],
            [
             0.1,
             "#c51b7d"
            ],
            [
             0.2,
             "#de77ae"
            ],
            [
             0.3,
             "#f1b6da"
            ],
            [
             0.4,
             "#fde0ef"
            ],
            [
             0.5,
             "#f7f7f7"
            ],
            [
             0.6,
             "#e6f5d0"
            ],
            [
             0.7,
             "#b8e186"
            ],
            [
             0.8,
             "#7fbc41"
            ],
            [
             0.9,
             "#4d9221"
            ],
            [
             1,
             "#276419"
            ]
           ],
           "sequential": [
            [
             0,
             "#0d0887"
            ],
            [
             0.1111111111111111,
             "#46039f"
            ],
            [
             0.2222222222222222,
             "#7201a8"
            ],
            [
             0.3333333333333333,
             "#9c179e"
            ],
            [
             0.4444444444444444,
             "#bd3786"
            ],
            [
             0.5555555555555556,
             "#d8576b"
            ],
            [
             0.6666666666666666,
             "#ed7953"
            ],
            [
             0.7777777777777778,
             "#fb9f3a"
            ],
            [
             0.8888888888888888,
             "#fdca26"
            ],
            [
             1,
             "#f0f921"
            ]
           ],
           "sequentialminus": [
            [
             0,
             "#0d0887"
            ],
            [
             0.1111111111111111,
             "#46039f"
            ],
            [
             0.2222222222222222,
             "#7201a8"
            ],
            [
             0.3333333333333333,
             "#9c179e"
            ],
            [
             0.4444444444444444,
             "#bd3786"
            ],
            [
             0.5555555555555556,
             "#d8576b"
            ],
            [
             0.6666666666666666,
             "#ed7953"
            ],
            [
             0.7777777777777778,
             "#fb9f3a"
            ],
            [
             0.8888888888888888,
             "#fdca26"
            ],
            [
             1,
             "#f0f921"
            ]
           ]
          },
          "colorway": [
           "#636efa",
           "#EF553B",
           "#00cc96",
           "#ab63fa",
           "#FFA15A",
           "#19d3f3",
           "#FF6692",
           "#B6E880",
           "#FF97FF",
           "#FECB52"
          ],
          "font": {
           "color": "#2a3f5f"
          },
          "geo": {
           "bgcolor": "white",
           "lakecolor": "white",
           "landcolor": "#E5ECF6",
           "showlakes": true,
           "showland": true,
           "subunitcolor": "white"
          },
          "hoverlabel": {
           "align": "left"
          },
          "hovermode": "closest",
          "mapbox": {
           "style": "light"
          },
          "paper_bgcolor": "white",
          "plot_bgcolor": "#E5ECF6",
          "polar": {
           "angularaxis": {
            "gridcolor": "white",
            "linecolor": "white",
            "ticks": ""
           },
           "bgcolor": "#E5ECF6",
           "radialaxis": {
            "gridcolor": "white",
            "linecolor": "white",
            "ticks": ""
           }
          },
          "scene": {
           "xaxis": {
            "backgroundcolor": "#E5ECF6",
            "gridcolor": "white",
            "gridwidth": 2,
            "linecolor": "white",
            "showbackground": true,
            "ticks": "",
            "zerolinecolor": "white"
           },
           "yaxis": {
            "backgroundcolor": "#E5ECF6",
            "gridcolor": "white",
            "gridwidth": 2,
            "linecolor": "white",
            "showbackground": true,
            "ticks": "",
            "zerolinecolor": "white"
           },
           "zaxis": {
            "backgroundcolor": "#E5ECF6",
            "gridcolor": "white",
            "gridwidth": 2,
            "linecolor": "white",
            "showbackground": true,
            "ticks": "",
            "zerolinecolor": "white"
           }
          },
          "shapedefaults": {
           "line": {
            "color": "#2a3f5f"
           }
          },
          "ternary": {
           "aaxis": {
            "gridcolor": "white",
            "linecolor": "white",
            "ticks": ""
           },
           "baxis": {
            "gridcolor": "white",
            "linecolor": "white",
            "ticks": ""
           },
           "bgcolor": "#E5ECF6",
           "caxis": {
            "gridcolor": "white",
            "linecolor": "white",
            "ticks": ""
           }
          },
          "title": {
           "x": 0.05
          },
          "xaxis": {
           "automargin": true,
           "gridcolor": "white",
           "linecolor": "white",
           "ticks": "",
           "title": {
            "standoff": 15
           },
           "zerolinecolor": "white",
           "zerolinewidth": 2
          },
          "yaxis": {
           "automargin": true,
           "gridcolor": "white",
           "linecolor": "white",
           "ticks": "",
           "title": {
            "standoff": 15
           },
           "zerolinecolor": "white",
           "zerolinewidth": 2
          }
         }
        },
        "width": 600
       }
      }
     },
     "metadata": {},
     "output_type": "display_data"
    }
   ],
   "source": [
    "rays = [pose_encoder._compute_view_rays(s.Kinv, s.R[:1], s.t[:1], (0, 0, 0, 0), s.shape[-2:]) for s in scene.videos]\n",
    "geometries = [i for o, d in rays for i in get_camera_geometry(o.cpu(), d.cpu(), d_multiplier=30)]\n",
    "\n",
    "# Also using point cloud bc for some reason colors in lines are not working\n",
    "draw_plotly(geometries)"
   ]
  },
  {
   "cell_type": "code",
   "execution_count": 22,
   "metadata": {},
   "outputs": [
    {
     "data": {
      "text/plain": [
       "['res/tmp/panoptic/170307_dance6/hdVideos/hd_00_03_r.mp4',\n",
       " 'res/tmp/panoptic/170307_dance6/hdVideos/hd_00_00_r.mp4',\n",
       " 'res/tmp/panoptic/170307_dance6/hdVideos/hd_00_05_r.mp4',\n",
       " 'res/tmp/panoptic/170307_dance6/hdVideos/hd_00_06_r.mp4',\n",
       " 'res/tmp/panoptic/170307_dance6/hdVideos/hd_00_02_r.mp4',\n",
       " 'res/tmp/panoptic/170307_dance6/hdVideos/hd_00_07_r.mp4',\n",
       " 'res/tmp/panoptic/170307_dance6/hdVideos/hd_00_04_r.mp4',\n",
       " 'res/tmp/panoptic/170307_dance6/hdVideos/hd_00_01_r.mp4']"
      ]
     },
     "execution_count": 22,
     "metadata": {},
     "output_type": "execute_result"
    }
   ],
   "source": [
    "[i[0] for i in dataset_panoptic.data[0]]\n",
    "\n",
    "# it is the 170307_dance6 dataset\n",
    "# The cameras match with the positions in the plot"
   ]
  },
  {
   "cell_type": "markdown",
   "metadata": {},
   "source": [
    "### DVST"
   ]
  },
  {
   "cell_type": "markdown",
   "metadata": {},
   "source": [
    "Transformer"
   ]
  },
  {
   "cell_type": "code",
   "execution_count": 23,
   "metadata": {},
   "outputs": [
    {
     "data": {
      "text/plain": [
       "torch.Size([1, 32])"
      ]
     },
     "execution_count": 23,
     "metadata": {},
     "output_type": "execute_result"
    }
   ],
   "source": [
    "import torch\n",
    "import torch.nn as nn\n",
    "import src.model.transformer as t\n",
    "\n",
    "a = t.Encoder(2, 32, 4, 4, True, 1e-5, 0.1, nn.GELU).to(torch.bfloat16).cuda()\n",
    "a.forward(torch.rand([1, 32]).to(torch.bfloat16).cuda()).shape"
   ]
  },
  {
   "cell_type": "markdown",
   "metadata": {},
   "source": [
    "DVST"
   ]
  },
  {
   "cell_type": "code",
   "execution_count": 24,
   "metadata": {},
   "outputs": [],
   "source": [
    "model = DVST(config=config.model)\n"
   ]
  },
  {
   "cell_type": "code",
   "execution_count": 25,
   "metadata": {},
   "outputs": [
    {
     "name": "stdout",
     "output_type": "stream",
     "text": [
      "Total params: 8.02M; Trainable params: 8.02M\n"
     ]
    }
   ],
   "source": [
    "from src.utils import print_num_params\n",
    "\n",
    "print_num_params(model)\n"
   ]
  },
  {
   "cell_type": "code",
   "execution_count": 26,
   "metadata": {},
   "outputs": [],
   "source": [
    "#TODO:\n",
    "# configure transformer enc and dec layers\n",
    "# add optimizations checkpointing mixed precision etc\n",
    "# do first testing of model w small parameters and check how much the pc can handle of it\n",
    "# create combinations of configs for small experiments\n"
   ]
  }
 ],
 "metadata": {
  "kernelspec": {
   "display_name": "Python 3",
   "language": "python",
   "name": "python3"
  },
  "language_info": {
   "codemirror_mode": {
    "name": "ipython",
    "version": 3
   },
   "file_extension": ".py",
   "mimetype": "text/x-python",
   "name": "python",
   "nbconvert_exporter": "python",
   "pygments_lexer": "ipython3",
   "version": "3.12.3"
  }
 },
 "nbformat": 4,
 "nbformat_minor": 2
}
