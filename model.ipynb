{
 "cells": [
  {
   "cell_type": "code",
   "execution_count": 1,
   "metadata": {},
   "outputs": [],
   "source": [
    "#TODO lazy hf dataset\n",
    "\n",
    "# https://huggingface.co/docs/datasets/en/about_mapstyle_vs_iterable\n",
    "#  search for yield\n",
    "#  use this to lazily load the videos (in each iteration download the next one and return the current (that has already been downloaded or download too if not))\n",
    "# https://huggingface.co/docs/datasets/en/video_load\n",
    "# https://huggingface.co/docs/datasets/en/video_dataset\n",
    "#  create video dataset\n",
    "# https://huggingface.co/docs/datasets/en/about_map_batch\n",
    "#  use to map transformations (resizing etc)\n",
    "# https://github.com/iejMac/video2dataset\n",
    "#  check to see how to paralelize the yield (and how to create it abstractly for any dataset of scenes with a list of videos, not just panoptic)\n",
    "#  actually i think i can do that just using dataset.map batched + yield and dataset.take in streaming dataset, but you would need\n",
    "\n",
    "# make a dataset that creates a uniform distribution of different video sizes/aspect ratios/cropping options\n",
    "# then evaluate the model in these environments:\n",
    "#  same size/aspect/cropping on entire dataset\n",
    "#  same size/aspect/cropping for videos in a scene but varying for all scenes\n",
    "#  varying size/aspect/cropping for all videos in all scenes\n"
   ]
  },
  {
   "cell_type": "markdown",
   "metadata": {},
   "source": [
    "### Importing stuff"
   ]
  },
  {
   "cell_type": "code",
   "execution_count": 2,
   "metadata": {},
   "outputs": [
    {
     "name": "stdout",
     "output_type": "stream",
     "text": [
      "Jupyter environment detected. Enabling Open3D WebVisualizer.\n",
      "[Open3D INFO] WebRTC GUI backend enabled.\n",
      "[Open3D INFO] WebRTCWindowSystem: HTTP handshake server disabled.\n"
     ]
    }
   ],
   "source": [
    "import os\n",
    "from pathlib import Path\n",
    "import itertools\n",
    "from enum import Enum\n",
    "import hashlib\n",
    "import math\n",
    "import pickle\n",
    "import json\n",
    "import asyncio\n",
    "import aiohttp\n",
    "import random\n",
    "import progressbar\n",
    "\n",
    "from matplotlib import pyplot as plt\n",
    "import open3d as o3d\n",
    "from open3d.visualization import draw_plotly\n",
    "from mpl_toolkits.mplot3d import Axes3D\n",
    "\n",
    "import einops\n",
    "import einx\n",
    "import numpy as np\n",
    "import pandas as pd\n",
    "from sklearn.decomposition import PCA\n",
    "from sklearn.preprocessing import StandardScaler\n",
    "from sklearn.manifold import TSNE\n",
    "\n",
    "import torch\n",
    "import torch.nn as nn\n",
    "import torch.nn.utils as utils\n",
    "import torch.nn.functional as F\n",
    "from torch.utils.data import DataLoader, Dataset, Sampler, RandomSampler, SubsetRandomSampler, BatchSampler\n",
    "import torchvision\n",
    "from torchvision.io import read_image, ImageReadMode\n",
    "from torchvision.utils import save_image\n",
    "from torchinfo import summary\n",
    "from torchcodec.decoders import VideoDecoder\n",
    "import lightning as L\n",
    "import lightning.pytorch as pl\n",
    "import lightning.pytorch.callbacks as callbacks\n",
    "import xformers\n",
    "# from xformers.factory.model_factory import xFormer, xFormerConfig"
   ]
  },
  {
   "cell_type": "code",
   "execution_count": null,
   "metadata": {},
   "outputs": [],
   "source": [
    "from src.panoptic_dataset import PanopticDataset\n",
    "from src.plenoptic_dataset import PlenopticDataset\n",
    "\n",
    "from src.dvst_config import DVSTConfig\n",
    "from src.dvst_encoder import DVSTEncoder\n",
    "\n",
    "from src.draw import get_camera_geometry"
   ]
  },
  {
   "cell_type": "code",
   "execution_count": 4,
   "metadata": {},
   "outputs": [
    {
     "data": {
      "text/plain": [
       "'2.7.0+cu126'"
      ]
     },
     "execution_count": 4,
     "metadata": {},
     "output_type": "execute_result"
    }
   ],
   "source": [
    "torch.__version__"
   ]
  },
  {
   "cell_type": "code",
   "execution_count": 5,
   "metadata": {},
   "outputs": [
    {
     "data": {
      "text/plain": [
       "'cuda'"
      ]
     },
     "execution_count": 5,
     "metadata": {},
     "output_type": "execute_result"
    }
   ],
   "source": [
    "device = (\n",
    "    \"cuda\"\n",
    "    if torch.cuda.is_available()\n",
    "    else \"mps\"\n",
    "    if torch.backends.mps.is_available()\n",
    "    else \"cpu\"\n",
    ")\n",
    "device\n"
   ]
  },
  {
   "cell_type": "markdown",
   "metadata": {},
   "source": [
    "### Loading datasets"
   ]
  },
  {
   "cell_type": "markdown",
   "metadata": {},
   "source": [
    "Panoptic dataset"
   ]
  },
  {
   "cell_type": "code",
   "execution_count": 6,
   "metadata": {},
   "outputs": [],
   "source": [
    "dataset_panoptic = PanopticDataset('res/tmp/panoptic/')"
   ]
  },
  {
   "cell_type": "code",
   "execution_count": 7,
   "metadata": {},
   "outputs": [
    {
     "data": {
      "text/plain": [
       "{'video': <torchcodec.decoders._video_decoder.VideoDecoder at 0x7f60c473f9b0>,\n",
       " 'K': tensor([[1.4107e+03, 0.0000e+00, 9.6000e+02],\n",
       "         [0.0000e+00, 1.3299e+03, 5.4000e+02],\n",
       "         [0.0000e+00, 0.0000e+00, 1.0000e+00]]),\n",
       " 'Kinv': tensor([[ 7.0888e-04,  0.0000e+00, -6.8053e-01],\n",
       "         [ 0.0000e+00,  7.5194e-04, -4.0605e-01],\n",
       "         [ 0.0000e+00,  0.0000e+00,  1.0000e+00]]),\n",
       " 'R': tensor([[[-0.6212, -0.0284,  0.7832],\n",
       "          [ 0.0751,  0.9926,  0.0955],\n",
       "          [-0.7801,  0.1182, -0.6144]]]),\n",
       " 't': tensor([[-15.3971, 117.3840, 288.2436]]),\n",
       " 'time': tensor([0.0000e+00, 3.3367e-02, 6.6733e-02,  ..., 2.0254e+02, 2.0257e+02,\n",
       "         2.0260e+02]),\n",
       " 'shape': [6073, 3, 1080, 1920]}"
      ]
     },
     "execution_count": 7,
     "metadata": {},
     "output_type": "execute_result"
    }
   ],
   "source": [
    "v = dataset_panoptic.__getitem__(0)\n",
    "v[0]"
   ]
  },
  {
   "cell_type": "code",
   "execution_count": 8,
   "metadata": {},
   "outputs": [
    {
     "data": {
      "text/plain": [
       "(<torchcodec.decoders._video_decoder.VideoDecoder at 0x7f60c473f9b0>,\n",
       " tensor([[1.4107e+03, 0.0000e+00, 9.6000e+02],\n",
       "         [0.0000e+00, 1.3299e+03, 5.4000e+02],\n",
       "         [0.0000e+00, 0.0000e+00, 1.0000e+00]]),\n",
       " tensor([[[-0.6212, -0.0284,  0.7832],\n",
       "          [ 0.0751,  0.9926,  0.0955],\n",
       "          [-0.7801,  0.1182, -0.6144]]]),\n",
       " tensor([[-15.3971, 117.3840, 288.2436]]))"
      ]
     },
     "execution_count": 8,
     "metadata": {},
     "output_type": "execute_result"
    }
   ],
   "source": [
    "v, K, R, t2 = [v[0][i] for i in ['video', 'K', 'R', 't']]\n",
    "v, K, R, t2\n"
   ]
  },
  {
   "cell_type": "markdown",
   "metadata": {},
   "source": [
    "Plenoptic dataset"
   ]
  },
  {
   "cell_type": "code",
   "execution_count": 9,
   "metadata": {},
   "outputs": [],
   "source": [
    "dataset_plenoptic = PlenopticDataset('res/tmp/plenoptic/')"
   ]
  },
  {
   "cell_type": "code",
   "execution_count": 10,
   "metadata": {},
   "outputs": [
    {
     "data": {
      "text/plain": [
       "{'video': <torchcodec.decoders._video_decoder.VideoDecoder at 0x7f60c425cb60>,\n",
       " 'K': tensor([[1.4585e+03, 0.0000e+00, 1.3520e+03],\n",
       "         [0.0000e+00, 1.4585e+03, 1.0140e+03],\n",
       "         [0.0000e+00, 0.0000e+00, 1.0000e+00]]),\n",
       " 'Kinv': tensor([[ 6.8564e-04,  0.0000e+00, -9.2698e-01],\n",
       "         [ 0.0000e+00,  6.8564e-04, -6.9523e-01],\n",
       "         [ 0.0000e+00,  0.0000e+00,  1.0000e+00]]),\n",
       " 'R': tensor([[[-0.0272,  0.8776,  0.4786],\n",
       "          [ 0.9996,  0.0286,  0.0042],\n",
       "          [-0.0100,  0.4786, -0.8780]]], dtype=torch.float64),\n",
       " 't': tensor([[ 5.4591, -1.0853,  0.6145]], dtype=torch.float64),\n",
       " 'time': tensor([0.0000e+00, 3.3333e-02, 6.6667e-02,  ..., 3.9900e+01, 3.9933e+01,\n",
       "         3.9967e+01]),\n",
       " 'shape': [1200, 3, 2028, 2704]}"
      ]
     },
     "execution_count": 10,
     "metadata": {},
     "output_type": "execute_result"
    }
   ],
   "source": [
    "v = dataset_plenoptic.__getitem__(0)\n",
    "v[0]"
   ]
  },
  {
   "cell_type": "markdown",
   "metadata": {},
   "source": [
    "### DVST Config"
   ]
  },
  {
   "cell_type": "code",
   "execution_count": null,
   "metadata": {},
   "outputs": [],
   "source": [
    "# To make it easier to pass around and validate configs\n",
    "dvst_config = DVSTConfig(d_lat=12, n_oct=6, C=2, p=4)"
   ]
  },
  {
   "cell_type": "markdown",
   "metadata": {},
   "source": [
    "### Pose encoder"
   ]
  },
  {
   "cell_type": "markdown",
   "metadata": {},
   "source": [
    "Auxiliary functions"
   ]
  },
  {
   "cell_type": "code",
   "execution_count": 12,
   "metadata": {},
   "outputs": [
    {
     "data": {
      "text/plain": [
       "([8, 4], (0, 0, 1, 2))"
      ]
     },
     "execution_count": 12,
     "metadata": {},
     "output_type": "execute_result"
    }
   ],
   "source": [
    "def compute_pad(hw, p):\n",
    "    # Pads the input so that it is divisible by 'p'\n",
    "    # hw: (2,), p: (1)\n",
    "    \n",
    "    pad_raw = [((p - i) % p) for i in hw]\n",
    "    pad_s = [i // 2 for i in pad_raw]\n",
    "    pad = (pad_s[1], pad_raw[1] - pad_s[1], pad_s[0], pad_raw[0] - pad_s[0])\n",
    "    hw_padded = [i + d for i, d in zip(hw, pad_raw)]\n",
    "    \n",
    "    # pad: (pad_width_start, pad_width_end, pad_height_start, pad_height_end) (starts from last dimension to pad)\n",
    "    # hw_padded: (2,), pad: (4,)\n",
    "    return hw_padded, pad\n",
    "\n",
    "compute_pad([5, 4], 4)\n"
   ]
  },
  {
   "cell_type": "code",
   "execution_count": null,
   "metadata": {},
   "outputs": [],
   "source": [
    "def compute_view_rays(vecs, Kinv, R, t):\n",
    "    # Computes view rays (o, d)\n",
    "    # vecs: meshgrid vecs, first dim is (x, y, z)\n",
    "    # vecs: (3, h, w), Kinv: (3, 3), R: (B, 3, 3), t: (B, 3)\n",
    "\n",
    "    # TODO check without double precision\n",
    "    vecs, Kinv, R, t = [i.to(torch.float64) for i in (vecs, Kinv, R, t)]\n",
    "\n",
    "    h, w = vecs.shape[-2:]\n",
    "\n",
    "    o = -einx.dot('... h w, ... h -> ... w', R, t)  # -R^T t\n",
    "    o = einx.rearrange('... c -> ... c h w', o, h=h, w=w) # repeat o for each vec # TODO repeating maybe not needed\n",
    "    d = einx.dot('... x1 c2, x1 c, c h w -> ... c2 h w', R.to(torch.float64), Kinv.to(torch.float64), vecs) # R^T K^-1 x_ij,cam # TODO check without double precision\n",
    "    d = d / einx.sum('b [c] h w -> b 3 h w', d * d).sqrt() # normalize d\n",
    "\n",
    "    # o, d: (B, 3, H, W)\n",
    "    return o, d\n",
    "\n",
    "def compute_plucker_rays(o, d):\n",
    "    # o, d: (B, 3, H, W)\n",
    "\n",
    "    l = torch.cross(o, d, dim=-3)\n",
    "    rays = torch.concat([d, l], dim=-3)\n",
    "\n",
    "    # rays: (B, 6, H, W)\n",
    "    return rays\n"
   ]
  },
  {
   "cell_type": "code",
   "execution_count": 14,
   "metadata": {},
   "outputs": [
    {
     "data": {
      "text/plain": [
       "tensor([[[-8.7423e-08,  0.0000e+00],\n",
       "         [-1.0000e+00,  1.0000e+00],\n",
       "         [ 1.7485e-07,  0.0000e+00],\n",
       "         [ 1.0000e+00,  1.0000e+00],\n",
       "         [ 3.4969e-07,  0.0000e+00],\n",
       "         [ 1.0000e+00,  1.0000e+00],\n",
       "         [ 6.9938e-07,  0.0000e+00],\n",
       "         [ 1.0000e+00,  1.0000e+00],\n",
       "         [ 0.0000e+00,  0.0000e+00],\n",
       "         [ 1.0000e+00,  1.0000e+00],\n",
       "         [ 0.0000e+00,  0.0000e+00],\n",
       "         [ 1.0000e+00,  1.0000e+00],\n",
       "         [ 0.0000e+00,  0.0000e+00],\n",
       "         [ 1.0000e+00,  1.0000e+00],\n",
       "         [ 0.0000e+00,  0.0000e+00],\n",
       "         [ 1.0000e+00,  1.0000e+00],\n",
       "         [ 0.0000e+00,  0.0000e+00],\n",
       "         [ 1.0000e+00,  1.0000e+00],\n",
       "         [ 0.0000e+00,  0.0000e+00],\n",
       "         [ 1.0000e+00,  1.0000e+00],\n",
       "         [ 0.0000e+00,  0.0000e+00],\n",
       "         [ 1.0000e+00,  1.0000e+00],\n",
       "         [ 0.0000e+00,  0.0000e+00],\n",
       "         [ 1.0000e+00,  1.0000e+00],\n",
       "         [ 0.0000e+00,  0.0000e+00],\n",
       "         [ 1.0000e+00,  1.0000e+00],\n",
       "         [ 0.0000e+00,  0.0000e+00],\n",
       "         [ 1.0000e+00,  1.0000e+00],\n",
       "         [ 0.0000e+00,  0.0000e+00],\n",
       "         [ 1.0000e+00,  1.0000e+00],\n",
       "         [ 0.0000e+00,  0.0000e+00],\n",
       "         [ 1.0000e+00,  1.0000e+00],\n",
       "         [ 0.0000e+00,  0.0000e+00],\n",
       "         [ 1.0000e+00,  1.0000e+00],\n",
       "         [ 0.0000e+00,  0.0000e+00],\n",
       "         [ 1.0000e+00,  1.0000e+00],\n",
       "         [ 0.0000e+00,  0.0000e+00],\n",
       "         [ 1.0000e+00,  1.0000e+00],\n",
       "         [ 0.0000e+00,  0.0000e+00],\n",
       "         [ 1.0000e+00,  1.0000e+00],\n",
       "         [ 0.0000e+00,  0.0000e+00],\n",
       "         [ 1.0000e+00,  1.0000e+00],\n",
       "         [ 0.0000e+00,  0.0000e+00],\n",
       "         [ 1.0000e+00,  1.0000e+00],\n",
       "         [ 0.0000e+00,  0.0000e+00],\n",
       "         [ 1.0000e+00,  1.0000e+00],\n",
       "         [ 0.0000e+00,  0.0000e+00],\n",
       "         [ 1.0000e+00,  1.0000e+00]],\n",
       "\n",
       "        [[ 0.0000e+00,  0.0000e+00],\n",
       "         [ 1.0000e+00,  1.0000e+00],\n",
       "         [ 0.0000e+00,  0.0000e+00],\n",
       "         [ 1.0000e+00,  1.0000e+00],\n",
       "         [ 0.0000e+00,  0.0000e+00],\n",
       "         [ 1.0000e+00,  1.0000e+00],\n",
       "         [ 0.0000e+00,  0.0000e+00],\n",
       "         [ 1.0000e+00,  1.0000e+00],\n",
       "         [ 0.0000e+00,  0.0000e+00],\n",
       "         [ 1.0000e+00,  1.0000e+00],\n",
       "         [ 0.0000e+00,  0.0000e+00],\n",
       "         [ 1.0000e+00,  1.0000e+00],\n",
       "         [ 0.0000e+00,  0.0000e+00],\n",
       "         [ 1.0000e+00,  1.0000e+00],\n",
       "         [ 0.0000e+00,  0.0000e+00],\n",
       "         [ 1.0000e+00,  1.0000e+00],\n",
       "         [ 0.0000e+00,  0.0000e+00],\n",
       "         [ 1.0000e+00,  1.0000e+00],\n",
       "         [ 0.0000e+00,  0.0000e+00],\n",
       "         [ 1.0000e+00,  1.0000e+00],\n",
       "         [ 0.0000e+00,  0.0000e+00],\n",
       "         [ 1.0000e+00,  1.0000e+00],\n",
       "         [ 0.0000e+00,  0.0000e+00],\n",
       "         [ 1.0000e+00,  1.0000e+00],\n",
       "         [ 0.0000e+00,  0.0000e+00],\n",
       "         [ 1.0000e+00,  1.0000e+00],\n",
       "         [ 0.0000e+00,  0.0000e+00],\n",
       "         [ 1.0000e+00,  1.0000e+00],\n",
       "         [ 0.0000e+00,  0.0000e+00],\n",
       "         [ 1.0000e+00,  1.0000e+00],\n",
       "         [ 0.0000e+00,  0.0000e+00],\n",
       "         [ 1.0000e+00,  1.0000e+00],\n",
       "         [ 0.0000e+00,  0.0000e+00],\n",
       "         [ 1.0000e+00,  1.0000e+00],\n",
       "         [ 0.0000e+00,  0.0000e+00],\n",
       "         [ 1.0000e+00,  1.0000e+00],\n",
       "         [ 0.0000e+00,  0.0000e+00],\n",
       "         [ 1.0000e+00,  1.0000e+00],\n",
       "         [ 0.0000e+00,  0.0000e+00],\n",
       "         [ 1.0000e+00,  1.0000e+00],\n",
       "         [ 0.0000e+00,  0.0000e+00],\n",
       "         [ 1.0000e+00,  1.0000e+00],\n",
       "         [ 0.0000e+00,  0.0000e+00],\n",
       "         [ 1.0000e+00,  1.0000e+00],\n",
       "         [ 0.0000e+00,  0.0000e+00],\n",
       "         [ 1.0000e+00,  1.0000e+00],\n",
       "         [ 0.0000e+00,  0.0000e+00],\n",
       "         [ 1.0000e+00,  1.0000e+00]],\n",
       "\n",
       "        [[ 0.0000e+00,  0.0000e+00],\n",
       "         [ 1.0000e+00,  1.0000e+00],\n",
       "         [ 0.0000e+00,  0.0000e+00],\n",
       "         [ 1.0000e+00,  1.0000e+00],\n",
       "         [ 0.0000e+00,  0.0000e+00],\n",
       "         [ 1.0000e+00,  1.0000e+00],\n",
       "         [ 0.0000e+00,  0.0000e+00],\n",
       "         [ 1.0000e+00,  1.0000e+00],\n",
       "         [ 0.0000e+00,  0.0000e+00],\n",
       "         [ 1.0000e+00,  1.0000e+00],\n",
       "         [ 0.0000e+00,  0.0000e+00],\n",
       "         [ 1.0000e+00,  1.0000e+00],\n",
       "         [ 0.0000e+00,  0.0000e+00],\n",
       "         [ 1.0000e+00,  1.0000e+00],\n",
       "         [ 0.0000e+00,  0.0000e+00],\n",
       "         [ 1.0000e+00,  1.0000e+00],\n",
       "         [ 0.0000e+00,  0.0000e+00],\n",
       "         [ 1.0000e+00,  1.0000e+00],\n",
       "         [ 0.0000e+00,  0.0000e+00],\n",
       "         [ 1.0000e+00,  1.0000e+00],\n",
       "         [ 0.0000e+00,  0.0000e+00],\n",
       "         [ 1.0000e+00,  1.0000e+00],\n",
       "         [ 0.0000e+00,  0.0000e+00],\n",
       "         [ 1.0000e+00,  1.0000e+00],\n",
       "         [ 0.0000e+00,  0.0000e+00],\n",
       "         [ 1.0000e+00,  1.0000e+00],\n",
       "         [ 0.0000e+00,  0.0000e+00],\n",
       "         [ 1.0000e+00,  1.0000e+00],\n",
       "         [ 0.0000e+00,  0.0000e+00],\n",
       "         [ 1.0000e+00,  1.0000e+00],\n",
       "         [ 0.0000e+00,  0.0000e+00],\n",
       "         [ 1.0000e+00,  1.0000e+00],\n",
       "         [ 0.0000e+00,  0.0000e+00],\n",
       "         [ 1.0000e+00,  1.0000e+00],\n",
       "         [ 0.0000e+00,  0.0000e+00],\n",
       "         [ 1.0000e+00,  1.0000e+00],\n",
       "         [ 0.0000e+00,  0.0000e+00],\n",
       "         [ 1.0000e+00,  1.0000e+00],\n",
       "         [ 0.0000e+00,  0.0000e+00],\n",
       "         [ 1.0000e+00,  1.0000e+00],\n",
       "         [ 0.0000e+00,  0.0000e+00],\n",
       "         [ 1.0000e+00,  1.0000e+00],\n",
       "         [ 0.0000e+00,  0.0000e+00],\n",
       "         [ 1.0000e+00,  1.0000e+00],\n",
       "         [ 0.0000e+00,  0.0000e+00],\n",
       "         [ 1.0000e+00,  1.0000e+00],\n",
       "         [ 0.0000e+00,  0.0000e+00],\n",
       "         [ 1.0000e+00,  1.0000e+00]]])"
      ]
     },
     "execution_count": 14,
     "metadata": {},
     "output_type": "execute_result"
    }
   ],
   "source": [
    "def compute_octaves(v, n_oct, dim=-1):\n",
    "    assert dim < 0, 'No positive dim allowed'\n",
    "\n",
    "    v = v * torch.pi\n",
    "    tensors = [torch.sin(v), torch.cos(v)]\n",
    "    last = v\n",
    "    for _ in range(n_oct - 1):\n",
    "        last = last * 2\n",
    "        tensors.append(torch.sin(last))\n",
    "        tensors.append(torch.cos(last))\n",
    "        \n",
    "    \n",
    "\n",
    "    return torch.stack(tensors, dim=dim).flatten(dim - 1, dim)\n",
    "\n",
    "v = torch.zeros((3, 6, 2))\n",
    "v[0, 0, 0] = 1\n",
    "compute_octaves(v, n_oct=4, dim=-2)"
   ]
  },
  {
   "cell_type": "markdown",
   "metadata": {},
   "source": [
    "Pose encoder"
   ]
  },
  {
   "cell_type": "code",
   "execution_count": null,
   "metadata": {},
   "outputs": [
    {
     "data": {
      "text/plain": [
       "torch.Size([4, 2, 12])"
      ]
     },
     "execution_count": 15,
     "metadata": {},
     "output_type": "execute_result"
    }
   ],
   "source": [
    "class PoseEncoder(nn.Module):\n",
    "    def __init__(self, dvst_config):\n",
    "        super().__init__()\n",
    "        self.dvst_config = dvst_config\n",
    "        self.d_lat = self.dvst_config.d_lat\n",
    "        self.n_oct = self.dvst_config.n_oct\n",
    "        self.C = self.dvst_config.C\n",
    "        self.p = self.dvst_config.p\n",
    "\n",
    "        # TODO test two cases, one with parameter (this) and another with two different linear layers one for sources (w/ images) and another for target (w/o images)\n",
    "        # TODO initialize w gaussian\n",
    "        # (C, p, p)\n",
    "        self.im_parameter = nn.Parameter(torch.zeros((self.C, self.p, self.p)))\n",
    "\n",
    "        # TODO check without double precision\n",
    "        self.linear = nn.Linear(\n",
    "            in_features=(12 * self.n_oct + self.C) * self.p ** 2 + 2 * self.n_oct,\n",
    "            #in_features=(6 + self.C) * self.p ** 2 + 1, # Without octaves, just for testing\n",
    "            out_features=self.d_lat,\n",
    "            dtype=torch.float64\n",
    "        )\n",
    "        \n",
    "    def _compute_view_rays(self, Kinv, R, t, pad, hw):\n",
    "        # The forward function was split into two to display the view rays layer\n",
    "        \n",
    "        pad_s = pad[-2::-2]\n",
    "\n",
    "        # Creates vectors for each pixel in screen\n",
    "        # No need to unflip y axis since it being flipped does not affect the topological structure of the representation TODO is it true?\n",
    "        ranges = [torch.arange(l, dtype=torch.float64) - o + 0.5 for o, l in zip(pad_s, hw)]\n",
    "        # In the original LVSM impl, the K^{-1} multiplication is done here bc its faster, maybe change the code to do that too (https://github.com/Haian-Jin/LVSM/blob/ebeff4989a3e1ec38fcd51ae24919d0eadf38c8f/utils/data_utils.py#L71-L73)\n",
    "        # Used torch.ones since it seems to be used by most of the vision models similar to this (e.g. lvsm, see https://github.com/Haian-Jin/LVSM/blob/ebeff4989a3e1ec38fcd51ae24919d0eadf38c8f/utils/data_utils.py#L73)\n",
    "        # The torch.ones is used bc the convention is that the theoretical sensor plane has focal length 1 (it maps to coordinates (u, v, 1), which would be equivalent to (f u, f v, f) = f(u, v, 1))\n",
    "        vecs = torch.meshgrid(*ranges, indexing='ij')\n",
    "        vecs = torch.concat([torch.stack([*vecs[::-1]]), torch.ones((1, *vecs[0].shape))], dim=-3)\n",
    "\n",
    "        o, d = compute_view_rays(vecs, Kinv, R, t) # o, d: (B, 3, H, W)\n",
    "        return o, d\n",
    "\n",
    "    # I = images, HW = tuple with height and width\n",
    "    # Set both if image has been resized, specifying original image height and width in HW\n",
    "    # We assume images are already resized (always resize them maintaining aspect ratio)\n",
    "    # We assume images are already padded so that p divides H and W\n",
    "    # We assume that the K matrix uses xy mapping instead of uv (sensor area is real in range [(0, 0), (h, w)], not [(0, 0), (1, 1)])\n",
    "    # We assume images are in type float with colors in range 0-1\n",
    "    def forward(self, Kinv, R, t, time, I=None, hw=None):\n",
    "        # I: (B, C, H, W), Kinv: (3, 3), R: (B, 3, 3), t: (B, 3), time: (B,), hw: (2,)\n",
    " \n",
    "        #TODO corrige hw\n",
    "        #TODO tem que retornar quanto de padding teve pra tirar o padding na comparacao da loss function\n",
    "        #TODO na verdade no lugar de retornar o padding ja retorna a visao prevista com padding retirado no modelo final\n",
    "        \n",
    "        assert (I == None) ^ (hw == None), 'Either I or HW or both should be set'\n",
    "        \n",
    "        if I is not None:\n",
    "            hw = I.shape[-2:]\n",
    "            I = I * 2 - 1 # Normalizing image\n",
    "\n",
    "        # Pads the input so that it is divisible by 'p'\n",
    "        hw, pad = compute_pad(hw, self.p)\n",
    "        I = F.pad(I, pad, 'constant', 0) if I is not None else None\n",
    "\n",
    "        o, d = self._compute_view_rays(Kinv, R, t, pad, hw)\n",
    "        plucker_rays = compute_plucker_rays(o, d) # (B, 6, H, W)\n",
    "\n",
    "        # (B, 2 * 6 * n_oct, H, W)\n",
    "        plucker_octs = compute_octaves(plucker_rays, self.n_oct, dim=-3)\n",
    "        #plucker_octs = torch.concat([plucker_octs, I * 2 - 1], dim=-3) if I is not None else plucker_octs # Transforming and concatenating image\n",
    "\n",
    "        # Concatenating image with octaves and rearranging into patches\n",
    "        # (B, HW/p^2, (12 * n_oct + C) * p^2)\n",
    "        if I is None:\n",
    "            patches = einx.rearrange('... c1 (h p1) (w p2), c2 p1 p2 -> ... (h w) ((c1 + c2) p1 p2)', plucker_octs, self.im_parameter, p1=self.p, p2=self.p)\n",
    "        else:\n",
    "            patches = einx.rearrange('... c1 (h p1) (w p2), ... c2 (h p1) (w p2) -> ... (h w) ((c1 + c2) p1 p2)', plucker_octs, I, p1=self.p, p2=self.p)\n",
    "\n",
    "        time_octs = compute_octaves(time.unsqueeze(-1), self.n_oct, dim=-1) # (B, 2 * n_oct)\n",
    "\n",
    "        # (B, HW/p^2, (12 * n_oct + C) * p^2 + 2 * n_oct)\n",
    "        embeds = einx.rearrange('... hw c1, ... c2 -> ... hw (c1 + c2)', patches, time_octs)\n",
    "        embeds = self.linear(embeds)\n",
    "\n",
    "        return embeds, pad\n",
    "\n",
    "B = 4\n",
    "C = dvst_config.C\n",
    "K = torch.linalg.inv(torch.arange(9).reshape((3, 3)) + 4.0)\n",
    "Kinv = K.inverse()\n",
    "R, t = torch.arange(B * 9).reshape((B, 3, 3)), torch.arange(B * 3).reshape((B, 3))\n",
    "I = torch.ones((B, dvst_config.C, 5, 4))\n",
    "\n",
    "pose_encoder = PoseEncoder(dvst_config)\n",
    "pose_encoder(Kinv, R, t, torch.arange(B) / 4, I)[0].shape # (4, 2, 12)\n",
    "#pose_encoder(Kinv, R, t, torch.arange(B) / 4, None, I.shape[-2:])"
   ]
  },
  {
   "cell_type": "markdown",
   "metadata": {},
   "source": [
    "Displaying view rays from compute_view_rays"
   ]
  },
  {
   "cell_type": "code",
   "execution_count": 16,
   "metadata": {},
   "outputs": [],
   "source": [
    "cams = dataset_panoptic.__getitem__(0)"
   ]
  },
  {
   "cell_type": "code",
   "execution_count": 17,
   "metadata": {},
   "outputs": [
    {
     "data": {
      "text/plain": [
       "{'video': <torchcodec.decoders._video_decoder.VideoDecoder at 0x7f60c0006d20>,\n",
       " 'K': tensor([[1.4107e+03, 0.0000e+00, 9.6000e+02],\n",
       "         [0.0000e+00, 1.3299e+03, 5.4000e+02],\n",
       "         [0.0000e+00, 0.0000e+00, 1.0000e+00]]),\n",
       " 'Kinv': tensor([[ 7.0888e-04,  0.0000e+00, -6.8053e-01],\n",
       "         [ 0.0000e+00,  7.5194e-04, -4.0605e-01],\n",
       "         [ 0.0000e+00,  0.0000e+00,  1.0000e+00]]),\n",
       " 'R': tensor([[[-0.6212, -0.0284,  0.7832],\n",
       "          [ 0.0751,  0.9926,  0.0955],\n",
       "          [-0.7801,  0.1182, -0.6144]]]),\n",
       " 't': tensor([[-15.3971, 117.3840, 288.2436]]),\n",
       " 'time': tensor([0.0000e+00, 3.3367e-02, 6.6733e-02,  ..., 2.0254e+02, 2.0257e+02,\n",
       "         2.0260e+02]),\n",
       " 'shape': [6073, 3, 1080, 1920]}"
      ]
     },
     "execution_count": 17,
     "metadata": {},
     "output_type": "execute_result"
    }
   ],
   "source": [
    "cams[0]"
   ]
  },
  {
   "cell_type": "code",
   "execution_count": 18,
   "metadata": {},
   "outputs": [
    {
     "data": {
      "application/vnd.plotly.v1+json": {
       "config": {
        "plotlyServerURL": "https://plot.ly"
       },
       "data": [
        {
         "mode": "lines",
         "type": "scatter3d",
         "x": [
          206.46499639488036,
          197.33886497292303,
          null,
          206.46499639488036,
          198.77260545325444,
          null,
          206.46499639488036,
          177.4661348312116,
          null,
          206.46499639488036,
          178.8998753116019,
          null,
          197.33886497292303,
          198.77260545325444,
          null,
          197.33886497292303,
          177.4661348312116,
          null,
          198.77260545325444,
          178.8998753116019,
          null,
          177.4661348312116,
          178.8998753116019,
          null
         ],
         "y": [
          -151.01800288011123,
          -157.25462856432955,
          null,
          -151.01800288011123,
          -138.31493839418513,
          null,
          -151.01800288011123,
          -158.16185013784516,
          null,
          -151.01800288011123,
          -139.22215984278648,
          null,
          -157.25462856432955,
          -138.31493839418513,
          null,
          -157.25462856432955,
          -158.16185013784516,
          null,
          -138.31493839418513,
          -139.22215984278648,
          null,
          -158.16185013784516,
          -139.22215984278648,
          null
         ],
         "z": [
          177.95000257037162,
          150.06060986733644,
          null,
          177.95000257037162,
          151.88356295412186,
          null,
          177.95000257037162,
          175.1160169724296,
          null,
          177.95000257037162,
          176.938970076831,
          null,
          150.06060986733644,
          151.88356295412186,
          null,
          150.06060986733644,
          175.1160169724296,
          null,
          151.88356295412186,
          176.938970076831,
          null,
          175.1160169724296,
          176.938970076831,
          null
         ]
        },
        {
         "marker": {
          "color": {
           "bdata": "AAAAAAAA8D8AAAAAAAAAAAAAAAAAAAAAAAAAAAAAAAAAAAAAAAAAAAAAAAAAAAAAAAAAAAAAAAAAAAAAAADwPwAAAAAAAAAAAAAAAAAAAAAAAAAAAAAAAAAAAAAAAPA/AAAAAAAAAAAAAAAAAADwPwAAAAAAAPA/",
           "dtype": "f8",
           "shape": "5, 3"
          },
          "size": 1
         },
         "mode": "markers",
         "type": "scatter3d",
         "x": {
          "bdata": "nJgeQOHOaUDcDlv716poQA1OEi+52GhAkvKXk+ouZkDbOU/Hy1xmQA==",
          "dtype": "f8"
         },
         "y": {
          "bdata": "+KnGepPgYsCIjc3qJahjwPXorvkTSmHAvRxX4C3FY8AUaPXuG2dhwA==",
          "dtype": "f8"
         },
         "z": {
          "bdata": "llvKa2Y+ZkDMwBqE8MFiQCP90CVG/GJAt8s5abbjZUAtffkKDB5mQA==",
          "dtype": "f8"
         }
        },
        {
         "mode": "lines",
         "type": "scatter3d",
         "x": [
          -272.2059919431671,
          -248.79663058956453,
          null,
          -272.2059919431671,
          -250.35632661270822,
          null,
          -272.2059919431671,
          -244.89699175484444,
          null,
          -272.2059919431671,
          -246.45668781193226,
          null,
          -248.79663058956453,
          -250.35632661270822,
          null,
          -248.79663058956453,
          -244.89699175484444,
          null,
          -250.35632661270822,
          -246.45668781193226,
          null,
          -244.89699175484444,
          -246.45668781193226,
          null
         ],
         "y": [
          -151.69799605825375,
          -158.4684871579723,
          null,
          -151.69799605825375,
          -141.50589618124354,
          null,
          -151.69799605825375,
          -157.5140088207633,
          null,
          -151.69799605825375,
          -140.5514178206328,
          null,
          -158.4684871579723,
          -141.50589618124354,
          null,
          -158.4684871579723,
          -157.5140088207633,
          null,
          -141.50589618124354,
          -140.5514178206328,
          null,
          -157.5140088207633,
          -140.5514178206328,
          null
         ],
         "z": [
          -21.847696606400106,
          -4.3502038921541235,
          null,
          -21.847696606400106,
          -3.995155469520114,
          null,
          -21.847696606400106,
          -32.820048417225365,
          null,
          -21.847696606400106,
          -32.464999952813834,
          null,
          -4.3502038921541235,
          -3.995155469520114,
          null,
          -4.3502038921541235,
          -32.820048417225365,
          null,
          -3.995155469520114,
          -32.464999952813834,
          null,
          -32.820048417225365,
          -32.464999952813834,
          null
         ]
        },
        {
         "marker": {
          "color": {
           "bdata": "AAAAAAAA8D8AAAAAAAAAAAAAAAAAAAAAAAAAAAAAAAAAAAAAAAAAAAAAAAAAAAAAAAAAAAAAAAAAAAAAAADwPwAAAAAAAAAAAAAAAAAAAAAAAAAAAAAAAAAAAAAAAPA/AAAAAAAAAAAAAAAAAADwPwAAAAAAAPA/",
           "dtype": "f8",
           "shape": "5, 3"
          },
          "size": 1
         },
         "mode": "markers",
         "type": "scatter3d",
         "x": {
          "bdata": "RjI1vksDccCIJW//fRlvwNeIEQdnS2/A1XoNKLScbsBjF8Ivnc5uwA==",
          "dtype": "f8"
         },
         "y": {
          "bdata": "+l3U+1X2YsDJwsfY/c5jwJgzME0wsGHAFmGgwnKwY8CVQfw2pZFhwA==",
          "dtype": "f8"
         },
         "z": {
          "bdata": "LGsRpQLZNcB8717Zm2YRwAAyIBIU9g/ATI+2WPdoQMAN/VIehTtAwA==",
          "dtype": "f8"
         }
        },
        {
         "mode": "lines",
         "type": "scatter3d",
         "x": [
          -106.24099942738775,
          -82.72513595075665,
          null,
          -106.24099942738775,
          -83.13783654023987,
          null,
          -106.24099942738775,
          -112.1887425462931,
          null,
          -106.24099942738775,
          -112.6014431897824,
          null,
          -82.72513595075665,
          -83.13783654023987,
          null,
          -82.72513595075665,
          -112.1887425462931,
          null,
          -83.13783654023987,
          -112.6014431897824,
          null,
          -112.1887425462931,
          -112.6014431897824,
          null
         ],
         "y": [
          -152.48800173355332,
          -161.0587299066393,
          null,
          -152.48800173355332,
          -142.06629962263958,
          null,
          -152.48800173355332,
          -161.4037687687411,
          null,
          -152.48800173355332,
          -142.41133851017798,
          null,
          -161.0587299066393,
          -142.06629962263958,
          null,
          -161.0587299066393,
          -161.4037687687411,
          null,
          -142.06629962263958,
          -142.41133851017798,
          null,
          -161.4037687687411,
          -142.41133851017798,
          null
         ],
         "z": [
          254.66300299410594,
          238.12375320666038,
          null,
          254.66300299410594,
          238.6120843374904,
          null,
          254.66300299410594,
          226.64277012630535,
          null,
          254.66300299410594,
          227.13110125397745,
          null,
          238.12375320666038,
          238.6120843374904,
          null,
          238.12375320666038,
          226.64277012630535,
          null,
          238.6120843374904,
          227.13110125397745,
          null,
          226.64277012630535,
          227.13110125397745,
          null
         ]
        },
        {
         "marker": {
          "color": {
           "bdata": "AAAAAAAA8D8AAAAAAAAAAAAAAAAAAAAAAAAAAAAAAAAAAAAAAAAAAAAAAAAAAAAAAAAAAAAAAAAAAAAAAADwPwAAAAAAAAAAAAAAAAAAAAAAAAAAAAAAAAAAAAAAAPA/AAAAAAAAAAAAAAAAAADwPwAAAAAAAPA/",
           "dtype": "f8",
           "shape": "5, 3"
          },
          "size": 1
         },
         "mode": "markers",
         "type": "scatter3d",
         "x": {
          "bdata": "DL/ciGyPWsDWaZ6gaK5UwIohWlDSyFTAVOydWxQMXMAcoZMLfiZcwA==",
          "dtype": "f8"
         },
         "y": {
          "bdata": "F8DPtZ0PY8ADiood4SFkwCzfYiAfwmHAdBx7rOssZMCYGWGvKc1hwA==",
          "dtype": "f8"
         },
         "z": {
          "bdata": "uRoOUjfVb0A17EjJ9cNtQEh95DGW021AeeqnkpFUbECHyUH7MWRsQA==",
          "dtype": "f8"
         }
        },
        {
         "mode": "lines",
         "type": "scatter3d",
         "x": [
          -67.85599682415204,
          -75.1831528649813,
          null,
          -67.85599682415204,
          -79.15421842929014,
          null,
          -67.85599682415204,
          -44.850125207805846,
          null,
          -67.85599682415204,
          -48.82119062501691,
          null,
          -75.1831528649813,
          -79.15421842929014,
          null,
          -75.1831528649813,
          -44.850125207805846,
          null,
          -79.15421842929014,
          -48.82119062501691,
          null,
          -44.850125207805846,
          -48.82119062501691,
          null
         ],
         "y": [
          -339.4869827828186,
          -327.04247381634775,
          null,
          -339.4869827828186,
          -314.86314294406793,
          null,
          -339.4869827828186,
          -328.6112557729808,
          null,
          -339.4869827828186,
          -316.4319246976532,
          null,
          -327.04247381634775,
          -314.86314294406793,
          null,
          -327.04247381634775,
          -328.6112557729808,
          null,
          -314.86314294406793,
          -316.4319246976532,
          null,
          -328.6112557729808,
          -316.4319246976532,
          null
         ],
         "z": [
          -172.25298280569177,
          -145.95760334585574,
          null,
          -172.25298280569177,
          -159.36823600349402,
          null,
          -172.25298280569177,
          -156.3643568997274,
          null,
          -172.25298280569177,
          -169.7749897364891,
          null,
          -145.95760334585574,
          -159.36823600349402,
          null,
          -145.95760334585574,
          -156.3643568997274,
          null,
          -159.36823600349402,
          -169.7749897364891,
          null,
          -156.3643568997274,
          -169.7749897364891,
          null
         ]
        },
        {
         "marker": {
          "color": {
           "bdata": "AAAAAAAA8D8AAAAAAAAAAAAAAAAAAAAAAAAAAAAAAAAAAAAAAAAAAAAAAAAAAAAAAAAAAAAAAAAAAAAAAADwPwAAAAAAAAAAAAAAAAAAAAAAAAAAAAAAAAAAAAAAAPA/AAAAAAAAAAAAAAAAAADwPwAAAAAAAPA/",
           "dtype": "f8",
           "shape": "5, 3"
          },
          "size": 1
         },
         "mode": "markers",
         "type": "scatter3d",
         "x": {
          "bdata": "oE3npsj2UMDbUMvGuMtSwHeP+bbeyVPAAoQe59BsRsBeHT/GHGlIwA==",
          "dtype": "f8"
         },
         "y": {
          "bdata": "vF51rso3dcBmQgb5rXB0wLjI+W7PrXPAGicitMeJdMAVLN8p6cZzwA==",
          "dtype": "f8"
         },
         "z": {
          "bdata": "sJxlbxiIZcCzn8WvpD5iwO4G35bI62PA1gzNz6iLY8Canka3zDhlwA==",
          "dtype": "f8"
         }
        },
        {
         "mode": "lines",
         "type": "scatter3d",
         "x": [
          -46.296300973575626,
          -28.553679776129123,
          null,
          -46.296300973575626,
          -28.75497009672398,
          null,
          -46.296300973575626,
          -60.19265710872843,
          null,
          -46.296300973575626,
          -60.39394789997485,
          null,
          -28.553679776129123,
          -28.75497009672398,
          null,
          -28.553679776129123,
          -60.19265710872843,
          null,
          -28.75497009672398,
          -60.39394789997485,
          null,
          -60.19265710872843,
          -60.39394789997485,
          null
         ],
         "y": [
          -338.9139784796646,
          -326.8539019440446,
          null,
          -338.9139784796646,
          -315.3402360950503,
          null,
          -338.9139784796646,
          -325.124157692802,
          null,
          -338.9139784796646,
          -313.61049154280596,
          null,
          -326.8539019440446,
          -315.3402360950503,
          null,
          -326.8539019440446,
          -325.124157692802,
          null,
          -315.3402360950503,
          -313.61049154280596,
          null,
          -325.124157692802,
          -313.61049154280596,
          null
         ],
         "z": [
          180.00698411101473,
          159.03667302608062,
          null,
          180.00698411101473,
          173.95881239944362,
          null,
          180.00698411101473,
          157.2752413526776,
          null,
          180.00698411101473,
          172.1973810497311,
          null,
          159.03667302608062,
          173.95881239944362,
          null,
          159.03667302608062,
          157.2752413526776,
          null,
          173.95881239944362,
          172.1973810497311,
          null,
          157.2752413526776,
          172.1973810497311,
          null
         ]
        },
        {
         "marker": {
          "color": {
           "bdata": "AAAAAAAA8D8AAAAAAAAAAAAAAAAAAAAAAAAAAAAAAAAAAAAAAAAAAAAAAAAAAAAAAAAAAAAAAAAAAAAAAADwPwAAAAAAAAAAAAAAAAAAAAAAAAAAAAAAAAAAAAAAAPA/AAAAAAAAAAAAAAAAAADwPwAAAAAAAPA/",
           "dtype": "f8",
           "shape": "5, 3"
          },
          "size": 1
         },
         "mode": "markers",
         "type": "scatter3d",
         "x": {
          "bdata": "4KO3MO0lR8Bi7jL1vY08wDDjYrhFwTzAT6r2/KgYTsAkXIHibDJOwA==",
          "dtype": "f8"
         },
         "y": {
          "bdata": "hPblp58udcCZuhWVqW10wI5SZ5txtXPAGuLGjPxRdMBhrceSxJlzwA==",
          "dtype": "f8"
         },
         "z": {
          "bdata": "zAy+NjmAZkAs9ehsLOFjQIJTV5euvmVAOgj0xs6oY0A/LhDyUIZlQA==",
          "dtype": "f8"
         }
        },
        {
         "mode": "lines",
         "type": "scatter3d",
         "x": [
          74.81770208810633,
          81.52867494603511,
          null,
          74.81770208810633,
          84.88180789374962,
          null,
          74.81770208810633,
          51.331976721769834,
          null,
          74.81770208810633,
          54.685110293198505,
          null,
          81.52867494603511,
          84.88180789374962,
          null,
          81.52867494603511,
          51.331976721769834,
          null,
          84.88180789374962,
          54.685110293198505,
          null,
          51.331976721769834,
          54.685110293198505,
          null
         ],
         "y": [
          -312.0350105810212,
          -304.0233383045242,
          null,
          -312.0350105810212,
          -289.5017829743032,
          null,
          -312.0350105810212,
          -305.23175114208334,
          null,
          -312.0350105810212,
          -290.71019561266047,
          null,
          -304.0233383045242,
          -289.5017829743032,
          null,
          -304.0233383045242,
          -305.23175114208334,
          null,
          -289.5017829743032,
          -290.71019561266047,
          null,
          -305.23175114208334,
          -290.71019561266047,
          null
         ],
         "z": [
          197.20800623206935,
          169.08726743249028,
          null,
          197.20800623206935,
          180.15023885305231,
          null,
          197.20800623206935,
          179.82593601521882,
          null,
          197.20800623206935,
          190.88890707279128,
          null,
          169.08726743249028,
          180.15023885305231,
          null,
          169.08726743249028,
          179.82593601521882,
          null,
          180.15023885305231,
          190.88890707279128,
          null,
          179.82593601521882,
          190.88890707279128,
          null
         ]
        },
        {
         "marker": {
          "color": {
           "bdata": "AAAAAAAA8D8AAAAAAAAAAAAAAAAAAAAAAAAAAAAAAAAAAAAAAAAAAAAAAAAAAAAAAAAAAAAAAAAAAAAAAADwPwAAAAAAAAAAAAAAAAAAAAAAAAAAAAAAAAAAAAAAAPA/AAAAAAAAAAAAAAAAAADwPwAAAAAAAPA/",
           "dtype": "f8",
           "shape": "5, 3"
          },
          "size": 1
         },
         "mode": "markers",
         "type": "scatter3d",
         "x": {
          "bdata": "aJIjO1W0UkDd23DP1WFUQJhAYIpvOFVAcoSVNn6qSUBkuK+xsVdLQA==",
          "dtype": "f8"
         },
         "y": {
          "bdata": "AEhBZ4+Ac8DPavyXXwBzwCaFlU0HGHLA8ICvQLUTc8A7IhP2XCtywA==",
          "dtype": "f8"
         },
         "z": {
          "bdata": "RIOv/KemaECnERLlyiJlQFgOtsHOhGZAgr5dEW56ZkBL2j7tcdxnQA==",
          "dtype": "f8"
         }
        },
        {
         "mode": "lines",
         "type": "scatter3d",
         "x": [
          157.0810118943241,
          145.24232691782885,
          null,
          157.0810118943241,
          156.32934443126123,
          null,
          157.0810118943241,
          129.9894525874351,
          null,
          157.0810118943241,
          141.07647007024605,
          null,
          145.24232691782885,
          156.32934443126123,
          null,
          145.24232691782885,
          129.9894525874351,
          null,
          156.32934443126123,
          141.07647007024605,
          null,
          129.9894525874351,
          141.07647007024605,
          null
         ],
         "y": [
          -339.26700918732274,
          -326.0517795922436,
          null,
          -339.26700918732274,
          -314.63863409804816,
          null,
          -339.26700918732274,
          -326.3832720044532,
          null,
          -339.26700918732274,
          -314.9701267443109,
          null,
          -326.0517795922436,
          -314.63863409804816,
          null,
          -326.0517795922436,
          -326.3832720044532,
          null,
          -314.63863409804816,
          -314.9701267443109,
          null,
          -326.3832720044532,
          -314.9701267443109,
          null
         ],
         "z": [
          100.13700815909266,
          75.94603371041349,
          null,
          100.13700815909266,
          83.0233254319012,
          null,
          100.13700815909266,
          100.37518986296817,
          null,
          100.13700815909266,
          107.45248111385095,
          null,
          75.94603371041349,
          83.0233254319012,
          null,
          75.94603371041349,
          100.37518986296817,
          null,
          83.0233254319012,
          107.45248111385095,
          null,
          100.37518986296817,
          107.45248111385095,
          null
         ]
        },
        {
         "marker": {
          "color": {
           "bdata": "AAAAAAAA8D8AAAAAAAAAAAAAAAAAAAAAAAAAAAAAAAAAAAAAAAAAAAAAAAAAAAAAAAAAAAAAAAAAAAAAAADwPwAAAAAAAAAAAAAAAAAAAAAAAAAAAAAAAAAAAAAAAPA/AAAAAAAAAAAAAAAAAADwPwAAAAAAAPA/",
           "dtype": "f8",
           "shape": "5, 3"
          },
          "size": 1
         },
         "mode": "markers",
         "type": "scatter3d",
         "x": {
          "bdata": "sJZBppeiY0B+YGEkwSdiQGAsVf2JimNAPv94mKk/YECMWlxxcqJhQA==",
          "dtype": "f8"
         },
         "y": {
          "bdata": "hvRsq0U0dcCVdNYW1GB0wKNTY9g3qnPAlUnT4SFmdMCl/J6jha9zwA==",
          "dtype": "f8"
         },
         "z": {
          "bdata": "pKXevcQIWUDtyPnQi/xSQJHL8yl+wVRATM9XHAMYWUAKg1hz9dxaQA==",
          "dtype": "f8"
         }
        },
        {
         "mode": "lines",
         "type": "scatter3d",
         "x": [
          210.0969804896525,
          185.1237507119365,
          null,
          210.0969804896525,
          197.179735762518,
          null,
          210.0969804896525,
          186.84353475160867,
          null,
          210.0969804896525,
          198.89951956442823,
          null,
          185.1237507119365,
          197.179735762518,
          null,
          185.1237507119365,
          186.84353475160867,
          null,
          197.179735762518,
          198.89951956442823,
          null,
          186.84353475160867,
          198.89951956442823,
          null
         ],
         "y": [
          -312.46198325145593,
          -305.07852703624246,
          null,
          -312.46198325145593,
          -290.53919932590327,
          null,
          -312.46198325145593,
          -304.3083850191202,
          null,
          -312.46198325145593,
          -289.76905759066153,
          null,
          -305.07852703624246,
          -290.53919932590327,
          null,
          -305.07852703624246,
          -304.3083850191202,
          null,
          -290.53919932590327,
          -289.76905759066153,
          null,
          -304.3083850191202,
          -289.76905759066153,
          null
         ],
         "z": [
          -10.426699970135445,
          -25.320402289821605,
          null,
          -10.426699970135445,
          -26.318091778685275,
          null,
          -10.426699970135445,
          6.684585696742467,
          null,
          -10.426699970135445,
          5.686896580037143,
          null,
          -25.320402289821605,
          -26.318091778685275,
          null,
          -25.320402289821605,
          6.684585696742467,
          null,
          -26.318091778685275,
          5.686896580037143,
          null,
          6.684585696742467,
          5.686896580037143,
          null
         ]
        },
        {
         "marker": {
          "color": {
           "bdata": "AAAAAAAA8D8AAAAAAAAAAAAAAAAAAAAAAAAAAAAAAAAAAAAAAAAAAAAAAAAAAAAAAAAAAAAAAAAAAAAAAADwPwAAAAAAAAAAAAAAAAAAAAAAAAAAAAAAAAAAAAAAAPA/AAAAAAAAAAAAAAAAAADwPwAAAAAAAPA/",
           "dtype": "f8",
           "shape": "5, 3"
          },
          "size": 1
         },
         "mode": "markers",
         "type": "scatter3d",
         "x": {
          "bdata": "C+3TdhpDakD4kw3E9SNnQPe9NmXApWhAXGaXPP5aZ0Cb6kDdyNxoQA==",
          "dtype": "f8"
         },
         "y": {
          "bdata": "2cSMSGSHc8A2yJClQRFzwHrseI+gKHLAKTshJe8Ec8AcClUPThxywA==",
          "dtype": "f8"
         },
         "z": {
          "bdata": "MN8ha3jaJMDpWGziBVI5wGmUenZuUTrA6EVrCAS9GkCg+SvRYb8WQA==",
          "dtype": "f8"
         }
        }
       ],
       "layout": {
        "height": 400,
        "margin": {
         "b": 0,
         "l": 0,
         "r": 0,
         "t": 0
        },
        "scene": {
         "camera": {
          "center": {
           "x": 0,
           "y": 0,
           "z": 0
          },
          "up": {
           "x": 0,
           "y": 0,
           "z": 1
          }
         }
        },
        "showlegend": false,
        "template": {
         "data": {
          "bar": [
           {
            "error_x": {
             "color": "#2a3f5f"
            },
            "error_y": {
             "color": "#2a3f5f"
            },
            "marker": {
             "line": {
              "color": "#E5ECF6",
              "width": 0.5
             },
             "pattern": {
              "fillmode": "overlay",
              "size": 10,
              "solidity": 0.2
             }
            },
            "type": "bar"
           }
          ],
          "barpolar": [
           {
            "marker": {
             "line": {
              "color": "#E5ECF6",
              "width": 0.5
             },
             "pattern": {
              "fillmode": "overlay",
              "size": 10,
              "solidity": 0.2
             }
            },
            "type": "barpolar"
           }
          ],
          "carpet": [
           {
            "aaxis": {
             "endlinecolor": "#2a3f5f",
             "gridcolor": "white",
             "linecolor": "white",
             "minorgridcolor": "white",
             "startlinecolor": "#2a3f5f"
            },
            "baxis": {
             "endlinecolor": "#2a3f5f",
             "gridcolor": "white",
             "linecolor": "white",
             "minorgridcolor": "white",
             "startlinecolor": "#2a3f5f"
            },
            "type": "carpet"
           }
          ],
          "choropleth": [
           {
            "colorbar": {
             "outlinewidth": 0,
             "ticks": ""
            },
            "type": "choropleth"
           }
          ],
          "contour": [
           {
            "colorbar": {
             "outlinewidth": 0,
             "ticks": ""
            },
            "colorscale": [
             [
              0,
              "#0d0887"
             ],
             [
              0.1111111111111111,
              "#46039f"
             ],
             [
              0.2222222222222222,
              "#7201a8"
             ],
             [
              0.3333333333333333,
              "#9c179e"
             ],
             [
              0.4444444444444444,
              "#bd3786"
             ],
             [
              0.5555555555555556,
              "#d8576b"
             ],
             [
              0.6666666666666666,
              "#ed7953"
             ],
             [
              0.7777777777777778,
              "#fb9f3a"
             ],
             [
              0.8888888888888888,
              "#fdca26"
             ],
             [
              1,
              "#f0f921"
             ]
            ],
            "type": "contour"
           }
          ],
          "contourcarpet": [
           {
            "colorbar": {
             "outlinewidth": 0,
             "ticks": ""
            },
            "type": "contourcarpet"
           }
          ],
          "heatmap": [
           {
            "colorbar": {
             "outlinewidth": 0,
             "ticks": ""
            },
            "colorscale": [
             [
              0,
              "#0d0887"
             ],
             [
              0.1111111111111111,
              "#46039f"
             ],
             [
              0.2222222222222222,
              "#7201a8"
             ],
             [
              0.3333333333333333,
              "#9c179e"
             ],
             [
              0.4444444444444444,
              "#bd3786"
             ],
             [
              0.5555555555555556,
              "#d8576b"
             ],
             [
              0.6666666666666666,
              "#ed7953"
             ],
             [
              0.7777777777777778,
              "#fb9f3a"
             ],
             [
              0.8888888888888888,
              "#fdca26"
             ],
             [
              1,
              "#f0f921"
             ]
            ],
            "type": "heatmap"
           }
          ],
          "histogram": [
           {
            "marker": {
             "pattern": {
              "fillmode": "overlay",
              "size": 10,
              "solidity": 0.2
             }
            },
            "type": "histogram"
           }
          ],
          "histogram2d": [
           {
            "colorbar": {
             "outlinewidth": 0,
             "ticks": ""
            },
            "colorscale": [
             [
              0,
              "#0d0887"
             ],
             [
              0.1111111111111111,
              "#46039f"
             ],
             [
              0.2222222222222222,
              "#7201a8"
             ],
             [
              0.3333333333333333,
              "#9c179e"
             ],
             [
              0.4444444444444444,
              "#bd3786"
             ],
             [
              0.5555555555555556,
              "#d8576b"
             ],
             [
              0.6666666666666666,
              "#ed7953"
             ],
             [
              0.7777777777777778,
              "#fb9f3a"
             ],
             [
              0.8888888888888888,
              "#fdca26"
             ],
             [
              1,
              "#f0f921"
             ]
            ],
            "type": "histogram2d"
           }
          ],
          "histogram2dcontour": [
           {
            "colorbar": {
             "outlinewidth": 0,
             "ticks": ""
            },
            "colorscale": [
             [
              0,
              "#0d0887"
             ],
             [
              0.1111111111111111,
              "#46039f"
             ],
             [
              0.2222222222222222,
              "#7201a8"
             ],
             [
              0.3333333333333333,
              "#9c179e"
             ],
             [
              0.4444444444444444,
              "#bd3786"
             ],
             [
              0.5555555555555556,
              "#d8576b"
             ],
             [
              0.6666666666666666,
              "#ed7953"
             ],
             [
              0.7777777777777778,
              "#fb9f3a"
             ],
             [
              0.8888888888888888,
              "#fdca26"
             ],
             [
              1,
              "#f0f921"
             ]
            ],
            "type": "histogram2dcontour"
           }
          ],
          "mesh3d": [
           {
            "colorbar": {
             "outlinewidth": 0,
             "ticks": ""
            },
            "type": "mesh3d"
           }
          ],
          "parcoords": [
           {
            "line": {
             "colorbar": {
              "outlinewidth": 0,
              "ticks": ""
             }
            },
            "type": "parcoords"
           }
          ],
          "pie": [
           {
            "automargin": true,
            "type": "pie"
           }
          ],
          "scatter": [
           {
            "fillpattern": {
             "fillmode": "overlay",
             "size": 10,
             "solidity": 0.2
            },
            "type": "scatter"
           }
          ],
          "scatter3d": [
           {
            "line": {
             "colorbar": {
              "outlinewidth": 0,
              "ticks": ""
             }
            },
            "marker": {
             "colorbar": {
              "outlinewidth": 0,
              "ticks": ""
             }
            },
            "type": "scatter3d"
           }
          ],
          "scattercarpet": [
           {
            "marker": {
             "colorbar": {
              "outlinewidth": 0,
              "ticks": ""
             }
            },
            "type": "scattercarpet"
           }
          ],
          "scattergeo": [
           {
            "marker": {
             "colorbar": {
              "outlinewidth": 0,
              "ticks": ""
             }
            },
            "type": "scattergeo"
           }
          ],
          "scattergl": [
           {
            "marker": {
             "colorbar": {
              "outlinewidth": 0,
              "ticks": ""
             }
            },
            "type": "scattergl"
           }
          ],
          "scattermap": [
           {
            "marker": {
             "colorbar": {
              "outlinewidth": 0,
              "ticks": ""
             }
            },
            "type": "scattermap"
           }
          ],
          "scattermapbox": [
           {
            "marker": {
             "colorbar": {
              "outlinewidth": 0,
              "ticks": ""
             }
            },
            "type": "scattermapbox"
           }
          ],
          "scatterpolar": [
           {
            "marker": {
             "colorbar": {
              "outlinewidth": 0,
              "ticks": ""
             }
            },
            "type": "scatterpolar"
           }
          ],
          "scatterpolargl": [
           {
            "marker": {
             "colorbar": {
              "outlinewidth": 0,
              "ticks": ""
             }
            },
            "type": "scatterpolargl"
           }
          ],
          "scatterternary": [
           {
            "marker": {
             "colorbar": {
              "outlinewidth": 0,
              "ticks": ""
             }
            },
            "type": "scatterternary"
           }
          ],
          "surface": [
           {
            "colorbar": {
             "outlinewidth": 0,
             "ticks": ""
            },
            "colorscale": [
             [
              0,
              "#0d0887"
             ],
             [
              0.1111111111111111,
              "#46039f"
             ],
             [
              0.2222222222222222,
              "#7201a8"
             ],
             [
              0.3333333333333333,
              "#9c179e"
             ],
             [
              0.4444444444444444,
              "#bd3786"
             ],
             [
              0.5555555555555556,
              "#d8576b"
             ],
             [
              0.6666666666666666,
              "#ed7953"
             ],
             [
              0.7777777777777778,
              "#fb9f3a"
             ],
             [
              0.8888888888888888,
              "#fdca26"
             ],
             [
              1,
              "#f0f921"
             ]
            ],
            "type": "surface"
           }
          ],
          "table": [
           {
            "cells": {
             "fill": {
              "color": "#EBF0F8"
             },
             "line": {
              "color": "white"
             }
            },
            "header": {
             "fill": {
              "color": "#C8D4E3"
             },
             "line": {
              "color": "white"
             }
            },
            "type": "table"
           }
          ]
         },
         "layout": {
          "annotationdefaults": {
           "arrowcolor": "#2a3f5f",
           "arrowhead": 0,
           "arrowwidth": 1
          },
          "autotypenumbers": "strict",
          "coloraxis": {
           "colorbar": {
            "outlinewidth": 0,
            "ticks": ""
           }
          },
          "colorscale": {
           "diverging": [
            [
             0,
             "#8e0152"
            ],
            [
             0.1,
             "#c51b7d"
            ],
            [
             0.2,
             "#de77ae"
            ],
            [
             0.3,
             "#f1b6da"
            ],
            [
             0.4,
             "#fde0ef"
            ],
            [
             0.5,
             "#f7f7f7"
            ],
            [
             0.6,
             "#e6f5d0"
            ],
            [
             0.7,
             "#b8e186"
            ],
            [
             0.8,
             "#7fbc41"
            ],
            [
             0.9,
             "#4d9221"
            ],
            [
             1,
             "#276419"
            ]
           ],
           "sequential": [
            [
             0,
             "#0d0887"
            ],
            [
             0.1111111111111111,
             "#46039f"
            ],
            [
             0.2222222222222222,
             "#7201a8"
            ],
            [
             0.3333333333333333,
             "#9c179e"
            ],
            [
             0.4444444444444444,
             "#bd3786"
            ],
            [
             0.5555555555555556,
             "#d8576b"
            ],
            [
             0.6666666666666666,
             "#ed7953"
            ],
            [
             0.7777777777777778,
             "#fb9f3a"
            ],
            [
             0.8888888888888888,
             "#fdca26"
            ],
            [
             1,
             "#f0f921"
            ]
           ],
           "sequentialminus": [
            [
             0,
             "#0d0887"
            ],
            [
             0.1111111111111111,
             "#46039f"
            ],
            [
             0.2222222222222222,
             "#7201a8"
            ],
            [
             0.3333333333333333,
             "#9c179e"
            ],
            [
             0.4444444444444444,
             "#bd3786"
            ],
            [
             0.5555555555555556,
             "#d8576b"
            ],
            [
             0.6666666666666666,
             "#ed7953"
            ],
            [
             0.7777777777777778,
             "#fb9f3a"
            ],
            [
             0.8888888888888888,
             "#fdca26"
            ],
            [
             1,
             "#f0f921"
            ]
           ]
          },
          "colorway": [
           "#636efa",
           "#EF553B",
           "#00cc96",
           "#ab63fa",
           "#FFA15A",
           "#19d3f3",
           "#FF6692",
           "#B6E880",
           "#FF97FF",
           "#FECB52"
          ],
          "font": {
           "color": "#2a3f5f"
          },
          "geo": {
           "bgcolor": "white",
           "lakecolor": "white",
           "landcolor": "#E5ECF6",
           "showlakes": true,
           "showland": true,
           "subunitcolor": "white"
          },
          "hoverlabel": {
           "align": "left"
          },
          "hovermode": "closest",
          "mapbox": {
           "style": "light"
          },
          "paper_bgcolor": "white",
          "plot_bgcolor": "#E5ECF6",
          "polar": {
           "angularaxis": {
            "gridcolor": "white",
            "linecolor": "white",
            "ticks": ""
           },
           "bgcolor": "#E5ECF6",
           "radialaxis": {
            "gridcolor": "white",
            "linecolor": "white",
            "ticks": ""
           }
          },
          "scene": {
           "xaxis": {
            "backgroundcolor": "#E5ECF6",
            "gridcolor": "white",
            "gridwidth": 2,
            "linecolor": "white",
            "showbackground": true,
            "ticks": "",
            "zerolinecolor": "white"
           },
           "yaxis": {
            "backgroundcolor": "#E5ECF6",
            "gridcolor": "white",
            "gridwidth": 2,
            "linecolor": "white",
            "showbackground": true,
            "ticks": "",
            "zerolinecolor": "white"
           },
           "zaxis": {
            "backgroundcolor": "#E5ECF6",
            "gridcolor": "white",
            "gridwidth": 2,
            "linecolor": "white",
            "showbackground": true,
            "ticks": "",
            "zerolinecolor": "white"
           }
          },
          "shapedefaults": {
           "line": {
            "color": "#2a3f5f"
           }
          },
          "ternary": {
           "aaxis": {
            "gridcolor": "white",
            "linecolor": "white",
            "ticks": ""
           },
           "baxis": {
            "gridcolor": "white",
            "linecolor": "white",
            "ticks": ""
           },
           "bgcolor": "#E5ECF6",
           "caxis": {
            "gridcolor": "white",
            "linecolor": "white",
            "ticks": ""
           }
          },
          "title": {
           "x": 0.05
          },
          "xaxis": {
           "automargin": true,
           "gridcolor": "white",
           "linecolor": "white",
           "ticks": "",
           "title": {
            "standoff": 15
           },
           "zerolinecolor": "white",
           "zerolinewidth": 2
          },
          "yaxis": {
           "automargin": true,
           "gridcolor": "white",
           "linecolor": "white",
           "ticks": "",
           "title": {
            "standoff": 15
           },
           "zerolinecolor": "white",
           "zerolinewidth": 2
          }
         }
        },
        "width": 600
       }
      }
     },
     "metadata": {},
     "output_type": "display_data"
    }
   ],
   "source": [
    "rays = [pose_encoder._compute_view_rays(cam['Kinv'], cam['R'][:1], cam['t'][:1], (0, 0, 0, 0), cam['shape'][-2:]) for cam in cams]\n",
    "geometries = [i for o, d in rays for i in get_camera_geometry(o, d, d_multiplier=30)]\n",
    "\n",
    "# Also using point cloud bc for some reason colors in lines are not working\n",
    "draw_plotly(geometries)"
   ]
  },
  {
   "cell_type": "code",
   "execution_count": null,
   "metadata": {},
   "outputs": [
    {
     "data": {
      "text/plain": [
       "['res/tmp/panoptic/170307_dance6/hdVideos/hd_00_03_r.mp4',\n",
       " 'res/tmp/panoptic/170307_dance6/hdVideos/hd_00_00_r.mp4',\n",
       " 'res/tmp/panoptic/170307_dance6/hdVideos/hd_00_05_r.mp4',\n",
       " 'res/tmp/panoptic/170307_dance6/hdVideos/hd_00_06_r.mp4',\n",
       " 'res/tmp/panoptic/170307_dance6/hdVideos/hd_00_02_r.mp4',\n",
       " 'res/tmp/panoptic/170307_dance6/hdVideos/hd_00_07_r.mp4',\n",
       " 'res/tmp/panoptic/170307_dance6/hdVideos/hd_00_04_r.mp4',\n",
       " 'res/tmp/panoptic/170307_dance6/hdVideos/hd_00_01_r.mp4']"
      ]
     },
     "execution_count": 33,
     "metadata": {},
     "output_type": "execute_result"
    }
   ],
   "source": [
    "[i[0] for i in dataset_panoptic.data[0]]\n",
    "\n",
    "# it is the 170307_dance6 dataset\n",
    "# The cameras match with the positions in the plot"
   ]
  },
  {
   "cell_type": "code",
   "execution_count": null,
   "metadata": {},
   "outputs": [],
   "source": [
    "class DVSTDecoder(nn.Module):\n",
    "    def __init__(self, dvst_config, pose_encoder):\n",
    "        super().__init__()\n",
    "        \n",
    "        self.dvst_config = dvst_config\n",
    "        self.C = self.dvst_config.C\n",
    "        self.p = self.dvst_config.p\n",
    "        self.d_lat = self.dvst_config.d_lat\n",
    "        \n",
    "        self.pose_encoder = pose_encoder\n",
    "        self.transformer = lambda x: x #TODO\n",
    "        self.embeds_to_patch_embeds = nn.Sequential([\n",
    "            nn.Linear(in_features=self.d_lat, out_features=self.C * self.p ** 2),\n",
    "            nn.Sigmoid()\n",
    "        ])\n",
    "\n",
    "    # For now, generating only a single image at a time is supported, so, in all tensors, B=1\n",
    "    def forward(self, latent_embeds, Kinv, R, t, time, hw):\n",
    "        embeds, pad = self.pose_encoder(Kinv, R, t, time, None, hw) # Computes query embeddings\n",
    "        embeds = torch.concat([latent_embeds, embeds], dim=-2) # Concats embeddings with latent embeddings\n",
    "        embeds = self.transformer(embeds) # Creates image embeddings using transformer\n",
    "        embeds = embeds[latent_embeds.shape[-2]:] # Discards embeddings mapped from latent embeddings\n",
    "        embeds = self.embeds_to_patch_embeds(embeds) # Maps embeddings to patch embeddings\n",
    "        I_padded = einx.rearrange('... (h w) (c p1 p2) -> ... c (h p1) (w p2)', embeds, c=self.C, p1=self.p, p2=self.p) # Maps patch embeddings back to image\n",
    "        I = I_padded[pad[2]:I_padded.shape[-2]-pad[3], pad[0]:I_padded.shape[-1]-pad[1]]\n",
    "        \n",
    "        return I\n"
   ]
  },
  {
   "cell_type": "code",
   "execution_count": null,
   "metadata": {},
   "outputs": [
    {
     "ename": "NameError",
     "evalue": "name 'nn' is not defined",
     "output_type": "error",
     "traceback": [
      "\u001b[0;31m---------------------------------------------------------------------------\u001b[0m",
      "\u001b[0;31mNameError\u001b[0m                                 Traceback (most recent call last)",
      "Cell \u001b[0;32mIn[1], line 2\u001b[0m\n\u001b[1;32m      1\u001b[0m \u001b[38;5;66;03m# TODO change to RawDVST, create DVST that also has CNN to reduce dims and PoseWrapper to add a pose estimator to both\u001b[39;00m\n\u001b[0;32m----> 2\u001b[0m \u001b[38;5;28;01mclass\u001b[39;00m \u001b[38;5;21;01mDVST\u001b[39;00m(\u001b[43mnn\u001b[49m\u001b[38;5;241m.\u001b[39mModule):\n\u001b[1;32m      3\u001b[0m     \u001b[38;5;66;03m# not specified: H, W, C, N_{context}\u001b[39;00m\n\u001b[1;32m      4\u001b[0m     \u001b[38;5;66;03m# frames_per_scene is the size of the batches that the videos will be broken into to create scenes\u001b[39;00m\n\u001b[1;32m      5\u001b[0m     \u001b[38;5;66;03m# n_heads has to divide d_lat\u001b[39;00m\n\u001b[1;32m      6\u001b[0m     \u001b[38;5;66;03m# p has to divide H and W (padding, cropping and resizing)\u001b[39;00m\n\u001b[1;32m      7\u001b[0m     \u001b[38;5;28;01mdef\u001b[39;00m \u001b[38;5;21m__init__\u001b[39m(\u001b[38;5;28mself\u001b[39m, frames_per_scene, N_enc, N_dec, n_heads, d_lat, e_ff, n_lat, p, n_oct):\n\u001b[1;32m      8\u001b[0m         \u001b[38;5;28msuper\u001b[39m()\u001b[38;5;241m.\u001b[39m\u001b[38;5;21m__init__\u001b[39m()\n",
      "\u001b[0;31mNameError\u001b[0m: name 'nn' is not defined"
     ]
    }
   ],
   "source": [
    "# TODO change to RawDVST, create DVST that also has CNN to reduce dims and PoseWrapper to add a pose estimator to both\n",
    "class DVST(nn.Module):\n",
    "    # not specified: H, W, C, N_{context}\n",
    "    # frames_per_scene is the size of the batches that the videos will be broken into to create scenes\n",
    "    # n_heads has to divide d_lat\n",
    "    # p has to divide H and W (padding, cropping and resizing)\n",
    "    def __init__(self, dvst_config):\n",
    "        super().__init__()\n",
    "        \n",
    "        self.dvst_config = dvst_config\n",
    "        \n",
    "        self.pose_encoder = PoseEncoder(self.dvst_config)\n",
    "        self.encoder = DVSTEncoder(self.dvst_config, self.pose_encoder)\n",
    "        self.decoder = DVSTDecoder(self.dvst_config, self.pose_encoder)\n",
    "        \n",
    "    # We assume videos are not big enough so that they need to be loaded in batches into memory #TODO load in batches if size exceed n_frames (create new scene for each batch of n_frames)\n",
    "    def forward(self, scene, Kinv, R, t, time, hw):\n",
    "        latent_embeds = self.encoder(scene)\n",
    "        I = self.decoder(latent_embeds, Kinv, R, t, time, hw)\n"
   ]
  },
  {
   "cell_type": "code",
   "execution_count": null,
   "metadata": {},
   "outputs": [],
   "source": [
    "#TODO:\n",
    "# configure transformer enc and dec layers\n",
    "# add optimizations checkpointing mixed precision etc\n",
    "# do first testing of model w small parameters and check how much the pc can handle of it\n",
    "# create combinations of configs for small experiments\n"
   ]
  }
 ],
 "metadata": {
  "kernelspec": {
   "display_name": "Python 3",
   "language": "python",
   "name": "python3"
  },
  "language_info": {
   "codemirror_mode": {
    "name": "ipython",
    "version": 3
   },
   "file_extension": ".py",
   "mimetype": "text/x-python",
   "name": "python",
   "nbconvert_exporter": "python",
   "pygments_lexer": "ipython3",
   "version": "3.12.3"
  }
 },
 "nbformat": 4,
 "nbformat_minor": 2
}
