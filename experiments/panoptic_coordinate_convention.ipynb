{
 "cells": [
  {
   "cell_type": "code",
   "execution_count": null,
   "metadata": {},
   "outputs": [],
   "source": [
    "import sys\n",
    "import os\n",
    "\n",
    "sys.path.append(os.path.abspath(os.path.join(os.getcwd(), '..')))"
   ]
  },
  {
   "cell_type": "code",
   "execution_count": null,
   "metadata": {},
   "outputs": [],
   "source": [
    "import torch\n",
    "\n",
    "from src.dvst.datasets import PanopticDataset"
   ]
  },
  {
   "cell_type": "code",
   "execution_count": 3,
   "metadata": {},
   "outputs": [
    {
     "data": {
      "text/plain": [
       "'2.6.0+cu126'"
      ]
     },
     "execution_count": 3,
     "metadata": {},
     "output_type": "execute_result"
    }
   ],
   "source": [
    "torch.__version__"
   ]
  },
  {
   "cell_type": "code",
   "execution_count": null,
   "metadata": {},
   "outputs": [],
   "source": [
    "d = PanopticDataset('../res/tmp/scenes')"
   ]
  },
  {
   "cell_type": "code",
   "execution_count": null,
   "metadata": {},
   "outputs": [
    {
     "data": {
      "text/plain": [
       "[['170307_dance3',\n",
       "  [{'K': [[1633.51, 0, 947.691], [0, 1629.51, 571.838], [0, 0, 1]],\n",
       "    'R': [[-0.5295805751, -0.01150942367, 0.8481815535],\n",
       "     [0.6366490414, 0.6553762361, 0.4063988032],\n",
       "     [-0.56055545, 0.7552148849, -0.3397470605]],\n",
       "    'filename': '../res/tmp/scenes/170307_dance3/hd_00_04.mp4',\n",
       "    'fps': 29.97,\n",
       "    'shape': [9211, 3, 1080, 1920],\n",
       "    't': [[-5.652077537], [81.64650446], [378.2933504]],\n",
       "    'type': 'hd',\n",
       "    'url': 'http://domedb.perception.cs.cmu.edu/webdata/dataset/170307_dance3/videos/hd_shared_crf20/hd_00_04.mp4'},\n",
       "   {'K': [[1861.42, 0, 935.575], [0, 1856.72, 553.241], [0, 0, 1]],\n",
       "    'R': [[0.979300228, 0.02227476313, 0.2011837426],\n",
       "     [0.03031339467, 0.9665779971, -0.2545742989],\n",
       "     [-0.2001303612, 0.2554032312, 0.9458948293]],\n",
       "    'filename': '../res/tmp/scenes/170307_dance3/hd_00_27.mp4',\n",
       "    'fps': 29.97,\n",
       "    'shape': [9211, 3, 1080, 1920],\n",
       "    't': [[-0.5190184928], [123.2894969], [311.5216895]],\n",
       "    'type': 'hd',\n",
       "    'url': 'http://domedb.perception.cs.cmu.edu/webdata/dataset/170307_dance3/videos/hd_shared_crf20/hd_00_27.mp4'},\n",
       "   {'K': [[1398.56, 0, 955.661], [0, 1394.93, 545.136], [0, 0, 1]],\n",
       "    'R': [[-0.3862090246, -0.0590414942, -0.9205197941],\n",
       "     [0.02517028113, 0.9969032339, -0.07450100114],\n",
       "     [0.92206781, -0.05194270098, -0.3835269346]],\n",
       "    'filename': '../res/tmp/scenes/170307_dance3/hd_00_24.mp4',\n",
       "    'fps': 29.97,\n",
       "    'shape': [9211, 3, 1080, 1920],\n",
       "    't': [[-15.26873876], [132.7183452], [267.0796167]],\n",
       "    'type': 'hd',\n",
       "    'url': 'http://domedb.perception.cs.cmu.edu/webdata/dataset/170307_dance3/videos/hd_shared_crf20/hd_00_24.mp4'},\n",
       "   {'K': [[1633.06, 0, 942.748], [0, 1628.52, 557.335], [0, 0, 1]],\n",
       "    'R': [[0.1356324162, 0.03319748427, -0.9902028957],\n",
       "     [-0.0915430255, 0.9955830545, 0.02083881106],\n",
       "     [0.9865210196, 0.08781975063, 0.1380723334]],\n",
       "    'filename': '../res/tmp/scenes/170307_dance3/hd_00_00.mp4',\n",
       "    'fps': 29.97,\n",
       "    'shape': [9211, 3, 1080, 1920],\n",
       "    't': [[20.32229365], [126.5646775], [284.8755841]],\n",
       "    'type': 'hd',\n",
       "    'url': 'http://domedb.perception.cs.cmu.edu/webdata/dataset/170307_dance3/videos/hd_shared_crf20/hd_00_00.mp4'}]],\n",
       " ['170404_haggling_a2',\n",
       "  [{'K': [[1396.07, 0, 949.125], [0, 1392.72, 548.555], [0, 0, 1]],\n",
       "    'R': [[-0.9413327602, -0.03771956774, 0.3353652766],\n",
       "     [0.1810483745, 0.782187724, 0.5961575719],\n",
       "     [-0.2848054083, 0.6218999909, -0.7294698628]],\n",
       "    'filename': '../res/tmp/scenes/170404_haggling_a2/hd_00_07.mp4',\n",
       "    'fps': 29.97,\n",
       "    'shape': [11598, 3, 1080, 1920],\n",
       "    't': [[-6.467249592], [112.8077413], [359.5437064]],\n",
       "    'type': 'hd',\n",
       "    'url': 'http://domedb.perception.cs.cmu.edu/webdata/dataset/170404_haggling_a2/videos/hd_shared_crf20/hd_00_07.mp4'},\n",
       "   {'K': [[1633.6, 0, 942.156], [0, 1629.07, 557.748], [0, 0, 1]],\n",
       "    'R': [[0.1356279152, 0.03337323569, -0.9901976044],\n",
       "     [-0.0913968688, 0.9955923278, 0.02103637753],\n",
       "     [0.9865351899, 0.08764784051, 0.1380803211]],\n",
       "    'filename': '../res/tmp/scenes/170404_haggling_a2/hd_00_00.mp4',\n",
       "    'fps': 29.97,\n",
       "    'shape': [11598, 3, 1080, 1920],\n",
       "    't': [[20.43633413], [126.7064193], [284.1032286]],\n",
       "    'type': 'hd',\n",
       "    'url': 'http://domedb.perception.cs.cmu.edu/webdata/dataset/170404_haggling_a2/videos/hd_shared_crf20/hd_00_00.mp4'},\n",
       "   {'K': [[1648.27, 0, 936.39], [0, 1643.43, 564.953], [0, 0, 1]],\n",
       "    'R': [[0.8093079175, -0.06908930363, 0.5833072628],\n",
       "     [0.01123478908, 0.9946975111, 0.1022283767],\n",
       "     [-0.5872771698, -0.07618090062, 0.805792775]],\n",
       "    'filename': '../res/tmp/scenes/170404_haggling_a2/hd_00_14.mp4',\n",
       "    'fps': 29.97,\n",
       "    'shape': [11598, 3, 1080, 1920],\n",
       "    't': [[4.485184159], [141.7613824], [267.7024791]],\n",
       "    'type': 'hd',\n",
       "    'url': 'http://domedb.perception.cs.cmu.edu/webdata/dataset/170404_haggling_a2/videos/hd_shared_crf20/hd_00_14.mp4'},\n",
       "   {'K': [[1396.25, 0, 934.29], [0, 1392.66, 560.177], [0, 0, 1]],\n",
       "    'R': [[-0.9320378333, -0.01087186405, -0.3621978463],\n",
       "     [-0.02171892423, 0.999428842, 0.02588973037],\n",
       "     [0.3617095045, 0.03199675578, -0.9317416176]],\n",
       "    'filename': '../res/tmp/scenes/170404_haggling_a2/hd_00_05.mp4',\n",
       "    'fps': 29.97,\n",
       "    'shape': [11598, 3, 1080, 1920],\n",
       "    't': [[-7.397838909], [143.5612526], [280.2882672]],\n",
       "    'type': 'hd',\n",
       "    'url': 'http://domedb.perception.cs.cmu.edu/webdata/dataset/170404_haggling_a2/videos/hd_shared_crf20/hd_00_05.mp4'}]],\n",
       " ['170224_haggling_b2',\n",
       "  [{'K': [[1399.48, 0, 933.111], [0, 1396.61, 559.384], [0, 0, 1]],\n",
       "    'R': [[0.7953564642, 0.0007331454321, -0.6061415325],\n",
       "     [0.04530881098, 0.9971297036, 0.06065860004],\n",
       "     [0.6044461982, -0.07570876177, 0.7930403374]],\n",
       "    'filename': '../res/tmp/scenes/170224_haggling_b2/hd_00_25.mp4',\n",
       "    'fps': 29.97,\n",
       "    'shape': [21779, 3, 1080, 1920],\n",
       "    't': [[5.417816908], [139.4472582], [263.1660441]],\n",
       "    'type': 'hd',\n",
       "    'url': 'http://domedb.perception.cs.cmu.edu/webdata/dataset/170224_haggling_b2/videos/hd_shared_crf20/hd_00_25.mp4'},\n",
       "   {'K': [[1396.67, 0, 947.831], [0, 1393.47, 556.607], [0, 0, 1]],\n",
       "    'R': [[0.7345826343, 0.01029106392, 0.6784411894],\n",
       "     [0.5183698998, 0.6366631224, -0.5709226879],\n",
       "     [-0.4378138879, 0.7710733834, 0.4623470958]],\n",
       "    'filename': '../res/tmp/scenes/170224_haggling_b2/hd_00_19.mp4',\n",
       "    'fps': 29.97,\n",
       "    'shape': [21779, 3, 1080, 1920],\n",
       "    't': [[-22.74533085], [73.91734008], [379.6183806]],\n",
       "    'type': 'hd',\n",
       "    'url': 'http://domedb.perception.cs.cmu.edu/webdata/dataset/170224_haggling_b2/videos/hd_shared_crf20/hd_00_19.mp4'},\n",
       "   {'K': [[1395.51, 0, 965.235], [0, 1392.14, 564.753], [0, 0, 1]],\n",
       "    'R': [[-0.9950461056, 0.04272195217, -0.08976682304],\n",
       "     [-0.002783731639, 0.8906272248, 0.4547256285],\n",
       "     [0.09937554304, 0.4527228525, -0.8860962252]],\n",
       "    'filename': '../res/tmp/scenes/170224_haggling_b2/hd_00_12.mp4',\n",
       "    'fps': 29.97,\n",
       "    'shape': [21779, 3, 1080, 1920],\n",
       "    't': [[23.32673331], [97.7299617], [334.406516]],\n",
       "    'type': 'hd',\n",
       "    'url': 'http://domedb.perception.cs.cmu.edu/webdata/dataset/170224_haggling_b2/videos/hd_shared_crf20/hd_00_12.mp4'},\n",
       "   {'K': [[1631.95, 0, 946.596], [0, 1628.04, 573.248], [0, 0, 1]],\n",
       "    'R': [[-0.5311313021, -0.01143289185, 0.8472123871],\n",
       "     [0.635938818, 0.6553668086, 0.4075244361],\n",
       "     [-0.5598940611, 0.7552242284, -0.3408152067]],\n",
       "    'filename': '../res/tmp/scenes/170224_haggling_b2/hd_00_04.mp4',\n",
       "    'fps': 29.97,\n",
       "    'shape': [21779, 3, 1080, 1920],\n",
       "    't': [[-4.853446566], [81.08946852], [379.1498658]],\n",
       "    'type': 'hd',\n",
       "    'url': 'http://domedb.perception.cs.cmu.edu/webdata/dataset/170224_haggling_b2/videos/hd_shared_crf20/hd_00_04.mp4'}]]]"
      ]
     },
     "execution_count": 5,
     "metadata": {},
     "output_type": "execute_result"
    }
   ],
   "source": [
    "d.scenes"
   ]
  },
  {
   "cell_type": "code",
   "execution_count": 6,
   "metadata": {},
   "outputs": [
    {
     "data": {
      "text/plain": [
       "([(<torchcodec.decoders._video_decoder.VideoDecoder at 0x7f16fbe15220>,\n",
       "   tensor([[1.6335e+03, 0.0000e+00, 9.4769e+02],\n",
       "           [0.0000e+00, 1.6295e+03, 5.7184e+02],\n",
       "           [0.0000e+00, 0.0000e+00, 1.0000e+00]]),\n",
       "   tensor([[-0.5296, -0.0115,  0.8482],\n",
       "           [ 0.6366,  0.6554,  0.4064],\n",
       "           [-0.5606,  0.7552, -0.3397]]),\n",
       "   tensor([[ -5.6521],\n",
       "           [ 81.6465],\n",
       "           [378.2934]]),\n",
       "   29.97,\n",
       "   torch.Size([9211, 3, 1080, 1920])),\n",
       "  (<torchcodec.decoders._video_decoder.VideoDecoder at 0x7f175f0d3da0>,\n",
       "   tensor([[1.8614e+03, 0.0000e+00, 9.3558e+02],\n",
       "           [0.0000e+00, 1.8567e+03, 5.5324e+02],\n",
       "           [0.0000e+00, 0.0000e+00, 1.0000e+00]]),\n",
       "   tensor([[ 0.9793,  0.0223,  0.2012],\n",
       "           [ 0.0303,  0.9666, -0.2546],\n",
       "           [-0.2001,  0.2554,  0.9459]]),\n",
       "   tensor([[ -0.5190],\n",
       "           [123.2895],\n",
       "           [311.5217]]),\n",
       "   29.97,\n",
       "   torch.Size([9211, 3, 1080, 1920])),\n",
       "  (<torchcodec.decoders._video_decoder.VideoDecoder at 0x7f186daa6210>,\n",
       "   tensor([[1.3986e+03, 0.0000e+00, 9.5566e+02],\n",
       "           [0.0000e+00, 1.3949e+03, 5.4514e+02],\n",
       "           [0.0000e+00, 0.0000e+00, 1.0000e+00]]),\n",
       "   tensor([[-0.3862, -0.0590, -0.9205],\n",
       "           [ 0.0252,  0.9969, -0.0745],\n",
       "           [ 0.9221, -0.0519, -0.3835]]),\n",
       "   tensor([[-15.2687],\n",
       "           [132.7183],\n",
       "           [267.0796]]),\n",
       "   29.97,\n",
       "   torch.Size([9211, 3, 1080, 1920])),\n",
       "  (<torchcodec.decoders._video_decoder.VideoDecoder at 0x7f186db81ca0>,\n",
       "   tensor([[1.6331e+03, 0.0000e+00, 9.4275e+02],\n",
       "           [0.0000e+00, 1.6285e+03, 5.5734e+02],\n",
       "           [0.0000e+00, 0.0000e+00, 1.0000e+00]]),\n",
       "   tensor([[ 0.1356,  0.0332, -0.9902],\n",
       "           [-0.0915,  0.9956,  0.0208],\n",
       "           [ 0.9865,  0.0878,  0.1381]]),\n",
       "   tensor([[ 20.3223],\n",
       "           [126.5647],\n",
       "           [284.8756]]),\n",
       "   29.97,\n",
       "   torch.Size([9211, 3, 1080, 1920]))],\n",
       " [(<torchcodec.decoders._video_decoder.VideoDecoder at 0x7f175f154740>,\n",
       "   tensor([[1.3961e+03, 0.0000e+00, 9.4912e+02],\n",
       "           [0.0000e+00, 1.3927e+03, 5.4855e+02],\n",
       "           [0.0000e+00, 0.0000e+00, 1.0000e+00]]),\n",
       "   tensor([[-0.9413, -0.0377,  0.3354],\n",
       "           [ 0.1810,  0.7822,  0.5962],\n",
       "           [-0.2848,  0.6219, -0.7295]]),\n",
       "   tensor([[ -6.4672],\n",
       "           [112.8077],\n",
       "           [359.5437]]),\n",
       "   29.97,\n",
       "   torch.Size([11598, 3, 1080, 1920])),\n",
       "  (<torchcodec.decoders._video_decoder.VideoDecoder at 0x7f175f155580>,\n",
       "   tensor([[1.6336e+03, 0.0000e+00, 9.4216e+02],\n",
       "           [0.0000e+00, 1.6291e+03, 5.5775e+02],\n",
       "           [0.0000e+00, 0.0000e+00, 1.0000e+00]]),\n",
       "   tensor([[ 0.1356,  0.0334, -0.9902],\n",
       "           [-0.0914,  0.9956,  0.0210],\n",
       "           [ 0.9865,  0.0876,  0.1381]]),\n",
       "   tensor([[ 20.4363],\n",
       "           [126.7064],\n",
       "           [284.1032]]),\n",
       "   29.97,\n",
       "   torch.Size([11598, 3, 1080, 1920])),\n",
       "  (<torchcodec.decoders._video_decoder.VideoDecoder at 0x7f16fbe15c40>,\n",
       "   tensor([[1.6483e+03, 0.0000e+00, 9.3639e+02],\n",
       "           [0.0000e+00, 1.6434e+03, 5.6495e+02],\n",
       "           [0.0000e+00, 0.0000e+00, 1.0000e+00]]),\n",
       "   tensor([[ 0.8093, -0.0691,  0.5833],\n",
       "           [ 0.0112,  0.9947,  0.1022],\n",
       "           [-0.5873, -0.0762,  0.8058]]),\n",
       "   tensor([[  4.4852],\n",
       "           [141.7614],\n",
       "           [267.7025]]),\n",
       "   29.97,\n",
       "   torch.Size([11598, 3, 1080, 1920])),\n",
       "  (<torchcodec.decoders._video_decoder.VideoDecoder at 0x7f16fbe15c10>,\n",
       "   tensor([[1.3962e+03, 0.0000e+00, 9.3429e+02],\n",
       "           [0.0000e+00, 1.3927e+03, 5.6018e+02],\n",
       "           [0.0000e+00, 0.0000e+00, 1.0000e+00]]),\n",
       "   tensor([[-0.9320, -0.0109, -0.3622],\n",
       "           [-0.0217,  0.9994,  0.0259],\n",
       "           [ 0.3617,  0.0320, -0.9317]]),\n",
       "   tensor([[ -7.3978],\n",
       "           [143.5612],\n",
       "           [280.2883]]),\n",
       "   29.97,\n",
       "   torch.Size([11598, 3, 1080, 1920]))])"
      ]
     },
     "execution_count": 6,
     "metadata": {},
     "output_type": "execute_result"
    }
   ],
   "source": [
    "v = d.__getitem__(0)\n",
    "v2 = d.__getitem__(1)\n",
    "v, v2"
   ]
  },
  {
   "cell_type": "code",
   "execution_count": null,
   "metadata": {},
   "outputs": [
    {
     "data": {
      "text/plain": [
       "(9211, 11598)"
      ]
     },
     "execution_count": 7,
     "metadata": {},
     "output_type": "execute_result"
    }
   ],
   "source": [
    "v[0][0]._num_frames, v2[0][0]._num_frames"
   ]
  },
  {
   "cell_type": "code",
   "execution_count": 8,
   "metadata": {},
   "outputs": [
    {
     "data": {
      "text/plain": [
       "(torch.Size([3, 1080, 1920]), torch.Size([3, 1080, 1920]))"
      ]
     },
     "execution_count": 8,
     "metadata": {},
     "output_type": "execute_result"
    }
   ],
   "source": [
    "v[0][0][-1].shape, v2[0][0][-1].shape"
   ]
  },
  {
   "cell_type": "code",
   "execution_count": null,
   "metadata": {},
   "outputs": [],
   "source": [
    "def compute_origin(v):\n",
    "    K, R, t = v[1], v[2], v[3]\n",
    "    o = -R.T @ t\n",
    "    # d = R.T @ K.inverse() @ x\n",
    "    return o\n"
   ]
  },
  {
   "cell_type": "code",
   "execution_count": 10,
   "metadata": {},
   "outputs": [
    {
     "data": {
      "text/plain": [
       "([tensor([[ 157.0810],\n",
       "          [-339.2670],\n",
       "          [ 100.1370]]),\n",
       "  tensor([[  59.1159],\n",
       "          [-198.7210],\n",
       "          [-263.1760]]),\n",
       "  tensor([[-255.5030],\n",
       "          [-119.3360],\n",
       "          [  98.2647]]),\n",
       "  tensor([[-272.2060],\n",
       "          [-151.6980],\n",
       "          [ -21.8477]])],\n",
       " [tensor([[  75.8885],\n",
       "          [-312.0810],\n",
       "          [ 197.1940]]),\n",
       "  tensor([[-271.4690],\n",
       "          [-151.7310],\n",
       "          [ -21.6585]]),\n",
       "  tensor([[ 151.9930],\n",
       "          [-120.3060],\n",
       "          [-232.8210]]),\n",
       "  tensor([[-105.1600],\n",
       "          [-152.5280],\n",
       "          [ 254.7600]])])"
      ]
     },
     "execution_count": 10,
     "metadata": {},
     "output_type": "execute_result"
    }
   ],
   "source": [
    "a = [compute_origin(i) for i in v]\n",
    "a2 = [compute_origin(i) for i in v2]\n",
    "a, a2\n",
    "\n",
    "# Scenes:\n",
    "# 170307_dance3, hd videos 4, 27, 24, 0\n",
    "# 170404_haggling_a2, hd videos 7, 0, 14, 5"
   ]
  },
  {
   "cell_type": "markdown",
   "metadata": {},
   "source": [
    "TODO I ACTUALLY CHANGED BACK SINCE THIS (x, -y, -z) (right, down, forward) IS THE CONVENTION USED BY COLMAP AND ALSO USED IN MOST DATASETS\n",
    "SO I WILL ACTUALLY USE THAT CONVENTION INSTEAD\n",
    "in that case, for both panoptic and plenoptic, the matrix $Q$ will be the identity.\n",
    "\n",
    "From this, looking forward from the door of the dome towards the other side of it, we can find the conventions for the axes:\n",
    "\n",
    "- x is the right axis, with the origin in the dome center;\n",
    "- y is the down axis, with the origin in the ground;\n",
    "- z is the forward axis, with the origin in the dome center.\n",
    "\n",
    "Then, in order to map that space to the convention that we will use, we should use the following matrix:\n",
    "\n",
    "$$\n",
    "Q = Q^{-1} =\n",
    "\\begin{bmatrix}\n",
    "1 & 0 & 0 \\\\\n",
    "0 & -1 & 0 \\\\\n",
    "0 & 0 & -1\n",
    "\\end{bmatrix}\n",
    "$$\n"
   ]
  },
  {
   "cell_type": "code",
   "execution_count": 13,
   "metadata": {},
   "outputs": [],
   "source": [
    "def compute_origin_transformed(v):\n",
    "    Q = torch.tensor([[1.0, 0, 0], [0, -1, 0], [0, 0, -1]])\n",
    "    return Q @ compute_origin(v)\n"
   ]
  },
  {
   "cell_type": "code",
   "execution_count": 15,
   "metadata": {},
   "outputs": [
    {
     "data": {
      "text/plain": [
       "([tensor([[ 157.0810],\n",
       "          [ 339.2670],\n",
       "          [-100.1370]]),\n",
       "  tensor([[ 59.1159],\n",
       "          [198.7210],\n",
       "          [263.1760]]),\n",
       "  tensor([[-255.5030],\n",
       "          [ 119.3360],\n",
       "          [ -98.2647]]),\n",
       "  tensor([[-272.2060],\n",
       "          [ 151.6980],\n",
       "          [  21.8477]])],\n",
       " [tensor([[  75.8885],\n",
       "          [ 312.0810],\n",
       "          [-197.1940]]),\n",
       "  tensor([[-271.4690],\n",
       "          [ 151.7310],\n",
       "          [  21.6585]]),\n",
       "  tensor([[151.9930],\n",
       "          [120.3060],\n",
       "          [232.8210]]),\n",
       "  tensor([[-105.1600],\n",
       "          [ 152.5280],\n",
       "          [-254.7600]])])"
      ]
     },
     "execution_count": 15,
     "metadata": {},
     "output_type": "execute_result"
    }
   ],
   "source": [
    "a = [compute_origin_transformed(i) for i in v]\n",
    "a2 = [compute_origin_transformed(i) for i in v2]\n",
    "a, a2"
   ]
  }
 ],
 "metadata": {
  "kernelspec": {
   "display_name": "Python 3",
   "language": "python",
   "name": "python3"
  },
  "language_info": {
   "codemirror_mode": {
    "name": "ipython",
    "version": 3
   },
   "file_extension": ".py",
   "mimetype": "text/x-python",
   "name": "python",
   "nbconvert_exporter": "python",
   "pygments_lexer": "ipython3",
   "version": "3.12.3"
  }
 },
 "nbformat": 4,
 "nbformat_minor": 2
}
