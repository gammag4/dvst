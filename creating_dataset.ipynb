{
 "cells": [
  {
   "cell_type": "code",
   "execution_count": 1,
   "metadata": {},
   "outputs": [],
   "source": [
    "import os\n",
    "import numpy as np\n",
    "from matplotlib import pyplot as plt\n",
    "import torch.nn as nn\n",
    "from torch.utils.data import DataLoader, Dataset, RandomSampler\n"
   ]
  },
  {
   "cell_type": "code",
   "execution_count": 2,
   "metadata": {},
   "outputs": [],
   "source": [
    "def get_file_name(x):\n",
    "    return os.path.splitext(os.path.split(x)[-1])[0]\n"
   ]
  },
  {
   "cell_type": "code",
   "execution_count": 3,
   "metadata": {},
   "outputs": [
    {
     "data": {
      "text/plain": [
       "120000"
      ]
     },
     "metadata": {},
     "output_type": "display_data"
    },
    {
     "data": {
      "text/plain": [
       "['000-000\\\\000074a334c541878360457c672b6c2e\\\\012.npy',\n",
       " '000-000\\\\000074a334c541878360457c672b6c2e\\\\012.png',\n",
       " '000-000\\\\000074a334c541878360457c672b6c2e\\\\013.npy']"
      ]
     },
     "metadata": {},
     "output_type": "display_data"
    },
    {
     "data": {
      "text/plain": [
       "60000"
      ]
     },
     "metadata": {},
     "output_type": "display_data"
    },
    {
     "data": {
      "text/plain": [
       "['000-000\\\\000074a334c541878360457c672b6c2e\\\\012.png',\n",
       " '000-000\\\\000074a334c541878360457c672b6c2e\\\\013.png',\n",
       " '000-000\\\\000074a334c541878360457c672b6c2e\\\\014.png']"
      ]
     },
     "metadata": {},
     "output_type": "display_data"
    },
    {
     "data": {
      "text/plain": [
       "60000"
      ]
     },
     "metadata": {},
     "output_type": "display_data"
    },
    {
     "data": {
      "text/plain": [
       "['000-000\\\\000074a334c541878360457c672b6c2e\\\\012.npy',\n",
       " '000-000\\\\000074a334c541878360457c672b6c2e\\\\013.npy',\n",
       " '000-000\\\\000074a334c541878360457c672b6c2e\\\\014.npy']"
      ]
     },
     "metadata": {},
     "output_type": "display_data"
    }
   ],
   "source": [
    "path = '000-000'\n",
    "file_paths = [os.path.join(r, f) for r, _, fs in os.walk(path) for f in fs]\n",
    "file_paths.sort()\n",
    "img_paths, mat_paths = list(filter(lambda x: x.endswith('.png'), file_paths)), list(filter(lambda x: x.endswith('.npy'), file_paths))\n",
    "display(len(file_paths), file_paths[:3])\n",
    "display(len(img_paths), img_paths[:3])\n",
    "display(len(mat_paths), mat_paths[:3])\n",
    "assert all((get_file_name(x) == get_file_name(y) for x, y in zip(img_paths, mat_paths)))\n"
   ]
  },
  {
   "cell_type": "code",
   "execution_count": 4,
   "metadata": {},
   "outputs": [
    {
     "data": {
      "text/plain": [
       "array([[ 1.00000000e+00,  0.00000000e+00,  0.00000000e+00,\n",
       "         0.00000000e+00],\n",
       "       [ 0.00000000e+00, -1.34358856e-07,  1.00000012e+00,\n",
       "        -2.68717713e-07],\n",
       "       [ 0.00000000e+00, -1.00000012e+00, -1.34358856e-07,\n",
       "        -2.00000024e+00]])"
      ]
     },
     "execution_count": 4,
     "metadata": {},
     "output_type": "execute_result"
    }
   ],
   "source": [
    "T = np.load(mat_paths[0])\n",
    "T\n"
   ]
  },
  {
   "cell_type": "code",
   "execution_count": 5,
   "metadata": {},
   "outputs": [
    {
     "data": {
      "text/plain": [
       "array([[1.        , 0.        , 0.        , 0.        ],\n",
       "       [0.        , 1.00000024, 0.        , 0.        ],\n",
       "       [0.        , 0.        , 1.00000024, 0.        ],\n",
       "       [0.        , 0.        , 0.        , 1.        ]])"
      ]
     },
     "execution_count": 5,
     "metadata": {},
     "output_type": "execute_result"
    }
   ],
   "source": [
    "def invert_transform(T):\n",
    "    R, t = T[:3, :3], T[:3, 3:]\n",
    "    R2 = R.T\n",
    "    t2 = - R2 @ t\n",
    "    return np.concatenate([np.concatenate([R2, t2], axis=1), np.array([[0, 0, 0, 1]])], axis=0)\n",
    "\n",
    "invert_transform(T) @ np.concatenate([T, np.array([[0, 0, 0, 1]])], axis=0)\n"
   ]
  },
  {
   "cell_type": "code",
   "execution_count": null,
   "metadata": {},
   "outputs": [],
   "source": [
    "class NVSDataset(Dataset):\n",
    "    def __getitem__(self, i):\n",
    "        "
   ]
  }
 ],
 "metadata": {
  "kernelspec": {
   "display_name": "compvis",
   "language": "python",
   "name": "python3"
  },
  "language_info": {
   "codemirror_mode": {
    "name": "ipython",
    "version": 3
   },
   "file_extension": ".py",
   "mimetype": "text/x-python",
   "name": "python",
   "nbconvert_exporter": "python",
   "pygments_lexer": "ipython3",
   "version": "3.12.5"
  }
 },
 "nbformat": 4,
 "nbformat_minor": 2
}
