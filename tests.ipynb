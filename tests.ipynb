{
 "cells": [
  {
   "cell_type": "markdown",
   "metadata": {},
   "source": [
    "### Importing stuff"
   ]
  },
  {
   "cell_type": "code",
   "execution_count": 3,
   "metadata": {},
   "outputs": [
    {
     "name": "stdout",
     "output_type": "stream",
     "text": [
      "Jupyter environment detected. Enabling Open3D WebVisualizer.\n",
      "[Open3D INFO] WebRTC GUI backend enabled.\n",
      "[Open3D INFO] WebRTCWindowSystem: HTTP handshake server disabled.\n"
     ]
    }
   ],
   "source": [
    "import os\n",
    "from pathlib import Path\n",
    "import itertools\n",
    "from enum import Enum\n",
    "import hashlib\n",
    "import math\n",
    "import pickle\n",
    "import json\n",
    "import asyncio\n",
    "import aiohttp\n",
    "import random\n",
    "import progressbar\n",
    "\n",
    "from matplotlib import pyplot as plt\n",
    "import open3d as o3d\n",
    "from open3d.visualization import draw_plotly\n",
    "from mpl_toolkits.mplot3d import Axes3D\n",
    "\n",
    "import einops\n",
    "import einx\n",
    "import numpy as np\n",
    "import pandas as pd\n",
    "from sklearn.decomposition import PCA\n",
    "from sklearn.preprocessing import StandardScaler\n",
    "from sklearn.manifold import TSNE\n",
    "\n",
    "import torch\n",
    "import torch.nn as nn\n",
    "import torch.amp as amp\n",
    "import torch.nn.utils as utils\n",
    "import torch.nn.functional as F\n",
    "from torch.utils.data import DataLoader, Dataset, Sampler, RandomSampler, SubsetRandomSampler, BatchSampler\n",
    "import torchvision\n",
    "from torchvision.io import read_image, ImageReadMode\n",
    "from torchvision.utils import save_image\n",
    "from torchinfo import summary\n",
    "from torchcodec.decoders import VideoDecoder\n",
    "import lightning as L\n",
    "import lightning.pytorch as pl\n",
    "import lightning.pytorch.callbacks as callbacks"
   ]
  },
  {
   "cell_type": "code",
   "execution_count": null,
   "metadata": {},
   "outputs": [
    {
     "ename": "AttributeError",
     "evalue": "attribute '__isabstractmethod__' of 'property' objects is not writable",
     "output_type": "error",
     "traceback": [
      "\u001b[0;31m---------------------------------------------------------------------------\u001b[0m",
      "\u001b[0;31mAttributeError\u001b[0m                            Traceback (most recent call last)",
      "Cell \u001b[0;32mIn[4], line 1\u001b[0m\n\u001b[0;32m----> 1\u001b[0m \u001b[38;5;28;01mfrom\u001b[39;00m \u001b[38;5;21;01msrc\u001b[39;00m\u001b[38;5;21;01m.\u001b[39;00m\u001b[38;5;21;01mdatasets\u001b[39;00m\u001b[38;5;21;01m.\u001b[39;00m\u001b[38;5;21;01mraw_panoptic_dataset\u001b[39;00m \u001b[38;5;28;01mimport\u001b[39;00m RawPanopticDataset\n\u001b[1;32m      2\u001b[0m \u001b[38;5;28;01mfrom\u001b[39;00m \u001b[38;5;21;01msrc\u001b[39;00m\u001b[38;5;21;01m.\u001b[39;00m\u001b[38;5;21;01mdatasets\u001b[39;00m\u001b[38;5;21;01m.\u001b[39;00m\u001b[38;5;21;01mraw_plenoptic_dataset\u001b[39;00m \u001b[38;5;28;01mimport\u001b[39;00m RawPlenopticDataset\n\u001b[1;32m      3\u001b[0m \u001b[38;5;28;01mfrom\u001b[39;00m \u001b[38;5;21;01msrc\u001b[39;00m\u001b[38;5;21;01m.\u001b[39;00m\u001b[38;5;21;01mdatasets\u001b[39;00m\u001b[38;5;21;01m.\u001b[39;00m\u001b[38;5;21;01mfull_dataset\u001b[39;00m \u001b[38;5;28;01mimport\u001b[39;00m FullDataset\n",
      "File \u001b[0;32m~/Projects/tcc files/dvst/src/datasets/raw_panoptic_dataset.py:3\u001b[0m\n\u001b[1;32m      1\u001b[0m \u001b[38;5;28;01mimport\u001b[39;00m \u001b[38;5;21;01mos\u001b[39;00m\n\u001b[0;32m----> 3\u001b[0m \u001b[38;5;28;01mfrom\u001b[39;00m \u001b[38;5;21;01msrc\u001b[39;00m\u001b[38;5;21;01m.\u001b[39;00m\u001b[38;5;21;01mdatasets\u001b[39;00m\u001b[38;5;21;01m.\u001b[39;00m\u001b[38;5;21;01mscene_dataset\u001b[39;00m \u001b[38;5;28;01mimport\u001b[39;00m VideoViewData, SceneData, SceneDataset\n\u001b[1;32m      4\u001b[0m \u001b[38;5;28;01mfrom\u001b[39;00m \u001b[38;5;21;01msrc\u001b[39;00m\u001b[38;5;21;01m.\u001b[39;00m\u001b[38;5;21;01mutils\u001b[39;00m \u001b[38;5;28;01mimport\u001b[39;00m json_load, json_dump, json_get\n\u001b[1;32m      6\u001b[0m \u001b[38;5;66;03m#TODO resize_to, sources_idx, queries_targets_idx, batch_size\u001b[39;00m\n",
      "File \u001b[0;32m~/Projects/tcc files/dvst/src/datasets/scene_dataset.py:213\u001b[0m\n\u001b[1;32m    202\u001b[0m             random\u001b[38;5;241m.\u001b[39mshuffle(queries_targets_idx)\n\u001b[1;32m    204\u001b[0m         \u001b[38;5;28;01mreturn\u001b[39;00m SceneData(\n\u001b[1;32m    205\u001b[0m             view_datas,\n\u001b[1;32m    206\u001b[0m             n_frames,\n\u001b[0;32m   (...)\u001b[0m\n\u001b[1;32m    209\u001b[0m             batch_size\n\u001b[1;32m    210\u001b[0m         )\n\u001b[0;32m--> 213\u001b[0m \u001b[38;5;28;43;01mclass\u001b[39;49;00m\u001b[43m \u001b[49m\u001b[38;5;21;43;01mSceneDataset\u001b[39;49;00m\u001b[43m(\u001b[49m\u001b[43mABC\u001b[49m\u001b[43m,\u001b[49m\u001b[43m \u001b[49m\u001b[43mDataset\u001b[49m\u001b[43m[\u001b[49m\u001b[43mSceneData\u001b[49m\u001b[43m]\u001b[49m\u001b[43m)\u001b[49m\u001b[43m:\u001b[49m\n\u001b[1;32m    214\u001b[0m \u001b[43m    \u001b[49m\u001b[38;5;28;43;01mdef\u001b[39;49;00m\u001b[43m \u001b[49m\u001b[38;5;21;43m__init__\u001b[39;49m\u001b[43m(\u001b[49m\u001b[38;5;28;43mself\u001b[39;49m\u001b[43m)\u001b[49m\u001b[43m:\u001b[49m\n\u001b[1;32m    215\u001b[0m \u001b[43m        \u001b[49m\u001b[38;5;28;43;01mpass\u001b[39;49;00m\n",
      "File \u001b[0;32m~/Projects/tcc files/dvst/src/datasets/scene_dataset.py:221\u001b[0m, in \u001b[0;36mSceneDataset\u001b[0;34m()\u001b[0m\n\u001b[1;32m    217\u001b[0m \u001b[38;5;129m@abstractmethod\u001b[39m\n\u001b[1;32m    218\u001b[0m \u001b[38;5;28;01mdef\u001b[39;00m \u001b[38;5;21m__getitem__\u001b[39m(\u001b[38;5;28mself\u001b[39m, index) \u001b[38;5;241m-\u001b[39m\u001b[38;5;241m>\u001b[39m SceneData:\n\u001b[1;32m    219\u001b[0m     \u001b[38;5;28;01mpass\u001b[39;00m\n\u001b[0;32m--> 221\u001b[0m \u001b[43m\u001b[49m\u001b[38;5;129;43m@abstractmethod\u001b[39;49m\n\u001b[1;32m    222\u001b[0m \u001b[43m\u001b[49m\u001b[38;5;129;43m@property\u001b[39;49m\n\u001b[1;32m    223\u001b[0m \u001b[43m\u001b[49m\u001b[38;5;28;43;01mdef\u001b[39;49;00m\u001b[43m \u001b[49m\u001b[38;5;21;43mn_frames\u001b[39;49m\u001b[43m(\u001b[49m\u001b[38;5;28;43mself\u001b[39;49m\u001b[43m)\u001b[49m\u001b[43m:\u001b[49m\n\u001b[1;32m    224\u001b[0m \u001b[43m    \u001b[49m\u001b[38;5;28;43;01mpass\u001b[39;49;00m\n\u001b[1;32m    226\u001b[0m \u001b[38;5;129m@abstractmethod\u001b[39m\n\u001b[1;32m    227\u001b[0m \u001b[38;5;129m@property\u001b[39m\n\u001b[1;32m    228\u001b[0m \u001b[38;5;28;01mdef\u001b[39;00m \u001b[38;5;21mn_batches\u001b[39m(\u001b[38;5;28mself\u001b[39m):\n",
      "File \u001b[0;32m<frozen abc>:24\u001b[0m, in \u001b[0;36mabstractmethod\u001b[0;34m(funcobj)\u001b[0m\n",
      "\u001b[0;31mAttributeError\u001b[0m: attribute '__isabstractmethod__' of 'property' objects is not writable"
     ]
    }
   ],
   "source": [
    "from datasets.panoptic.dataset import PanopticDataset\n",
    "from src.datasets.raw_plenoptic_dataset import RawPlenopticDataset\n",
    "from src.datasets.full_dataset import FullDataset\n",
    "\n",
    "from src.model.pose_encoder import compute_pad, compute_octaves, compute_view_rays\n",
    "\n",
    "from src.config import load_config\n",
    "\n",
    "from src.model import PoseEncoder, DVST, latent_aggregators\n",
    "\n",
    "from src.draw import get_camera_geometry\n",
    "\n",
    "from src.utils import preprocess_scene_videos\n"
   ]
  },
  {
   "cell_type": "code",
   "execution_count": null,
   "metadata": {},
   "outputs": [
    {
     "data": {
      "text/plain": [
       "'2.7.0+cu126'"
      ]
     },
     "execution_count": 3,
     "metadata": {},
     "output_type": "execute_result"
    }
   ],
   "source": [
    "torch.__version__"
   ]
  },
  {
   "cell_type": "code",
   "execution_count": null,
   "metadata": {},
   "outputs": [
    {
     "data": {
      "text/plain": [
       "'cuda'"
      ]
     },
     "execution_count": 4,
     "metadata": {},
     "output_type": "execute_result"
    }
   ],
   "source": [
    "device = (\n",
    "    \"cuda\"\n",
    "    if torch.cuda.is_available()\n",
    "    else \"mps\"\n",
    "    if torch.backends.mps.is_available()\n",
    "    else \"cpu\"\n",
    ")\n",
    "device\n"
   ]
  },
  {
   "cell_type": "markdown",
   "metadata": {},
   "source": [
    "### DVST Config"
   ]
  },
  {
   "cell_type": "code",
   "execution_count": null,
   "metadata": {},
   "outputs": [
    {
     "data": {
      "text/plain": [
       "(0, torch.bfloat16, device(type='cuda', index=0))"
      ]
     },
     "execution_count": 5,
     "metadata": {},
     "output_type": "execute_result"
    }
   ],
   "source": [
    "# To make it easier to pass around and validate configs\n",
    "config = load_config('res/config.yaml')\n",
    "\n",
    "config.setup.ddp.rank, config.setup.amp.dtype, config.setup.device"
   ]
  },
  {
   "cell_type": "markdown",
   "metadata": {},
   "source": [
    "### Loading datasets"
   ]
  },
  {
   "cell_type": "markdown",
   "metadata": {},
   "source": [
    "Panoptic dataset"
   ]
  },
  {
   "cell_type": "code",
   "execution_count": null,
   "metadata": {},
   "outputs": [
    {
     "data": {
      "text/plain": [
       "81"
      ]
     },
     "execution_count": 6,
     "metadata": {},
     "output_type": "execute_result"
    }
   ],
   "source": [
    "dataset_panoptic = PanopticDataset('res/tmp/panoptic/')\n",
    "len(dataset_panoptic)"
   ]
  },
  {
   "cell_type": "code",
   "execution_count": null,
   "metadata": {},
   "outputs": [
    {
     "data": {
      "text/plain": [
       "{'video': <torchcodec.decoders._video_decoder.VideoDecoder at 0x7f24ea0a29f0>,\n",
       " 'K': tensor([[1.4107e+03, 0.0000e+00, 9.6000e+02],\n",
       "         [0.0000e+00, 1.3299e+03, 5.4000e+02],\n",
       "         [0.0000e+00, 0.0000e+00, 1.0000e+00]], device='cuda:0'),\n",
       " 'Kinv': tensor([[ 7.0888e-04,  0.0000e+00, -6.8053e-01],\n",
       "         [ 0.0000e+00,  7.5194e-04, -4.0605e-01],\n",
       "         [ 0.0000e+00,  0.0000e+00,  1.0000e+00]], device='cuda:0'),\n",
       " 'R': tensor([[[-0.6212, -0.0284,  0.7832],\n",
       "          [ 0.0751,  0.9926,  0.0955],\n",
       "          [-0.7801,  0.1182, -0.6144]]], device='cuda:0'),\n",
       " 't': tensor([[-15.3971, 117.3840, 288.2436]], device='cuda:0'),\n",
       " 'time': tensor([0.0000e+00, 3.3367e-02, 6.6733e-02,  ..., 2.0254e+02, 2.0257e+02,\n",
       "         2.0260e+02], device='cuda:0'),\n",
       " 'shape': torch.Size([6073, 3, 1080, 1920])}"
      ]
     },
     "execution_count": 7,
     "metadata": {},
     "output_type": "execute_result"
    }
   ],
   "source": [
    "v = preprocess_scene_videos(dataset_panoptic[0], device)\n",
    "v.videos[0]"
   ]
  },
  {
   "cell_type": "code",
   "execution_count": null,
   "metadata": {},
   "outputs": [
    {
     "data": {
      "text/plain": [
       "(<torchcodec.decoders._video_decoder.VideoDecoder at 0x7f24ea0a29f0>,\n",
       " tensor([[1.4107e+03, 0.0000e+00, 9.6000e+02],\n",
       "         [0.0000e+00, 1.3299e+03, 5.4000e+02],\n",
       "         [0.0000e+00, 0.0000e+00, 1.0000e+00]], device='cuda:0'),\n",
       " tensor([[[-0.6212, -0.0284,  0.7832],\n",
       "          [ 0.0751,  0.9926,  0.0955],\n",
       "          [-0.7801,  0.1182, -0.6144]]], device='cuda:0'),\n",
       " tensor([[-15.3971, 117.3840, 288.2436]], device='cuda:0'))"
      ]
     },
     "execution_count": 8,
     "metadata": {},
     "output_type": "execute_result"
    }
   ],
   "source": [
    "v, K, R, t2 = [v.videos[0][i] for i in ['video', 'K', 'R', 't']]\n",
    "v, K, R, t2"
   ]
  },
  {
   "cell_type": "markdown",
   "metadata": {},
   "source": [
    "Plenoptic dataset"
   ]
  },
  {
   "cell_type": "code",
   "execution_count": null,
   "metadata": {},
   "outputs": [
    {
     "data": {
      "text/plain": [
       "6"
      ]
     },
     "execution_count": 9,
     "metadata": {},
     "output_type": "execute_result"
    }
   ],
   "source": [
    "dataset_plenoptic = RawPlenopticDataset('res/tmp/plenoptic/')\n",
    "len(dataset_plenoptic)"
   ]
  },
  {
   "cell_type": "code",
   "execution_count": null,
   "metadata": {},
   "outputs": [
    {
     "data": {
      "text/plain": [
       "{'video': <torchcodec.decoders._video_decoder.VideoDecoder at 0x7f235d410aa0>,\n",
       " 'K': tensor([[1.4585e+03, 0.0000e+00, 1.3520e+03],\n",
       "         [0.0000e+00, 1.4585e+03, 1.0140e+03],\n",
       "         [0.0000e+00, 0.0000e+00, 1.0000e+00]], device='cuda:0'),\n",
       " 'Kinv': tensor([[ 6.8564e-04,  0.0000e+00, -9.2698e-01],\n",
       "         [ 0.0000e+00,  6.8564e-04, -6.9523e-01],\n",
       "         [ 0.0000e+00,  0.0000e+00,  1.0000e+00]], device='cuda:0'),\n",
       " 'R': tensor([[[-0.0272,  0.8776,  0.4786],\n",
       "          [ 0.9996,  0.0286,  0.0042],\n",
       "          [-0.0100,  0.4786, -0.8780]]], device='cuda:0', dtype=torch.float64),\n",
       " 't': tensor([[ 5.4591, -1.0853,  0.6145]], device='cuda:0', dtype=torch.float64),\n",
       " 'time': tensor([0.0000e+00, 3.3333e-02, 6.6667e-02,  ..., 3.9900e+01, 3.9933e+01,\n",
       "         3.9967e+01], device='cuda:0'),\n",
       " 'shape': torch.Size([1200, 3, 2028, 2704])}"
      ]
     },
     "execution_count": 10,
     "metadata": {},
     "output_type": "execute_result"
    }
   ],
   "source": [
    "v = preprocess_scene_videos(dataset_plenoptic[0], device)\n",
    "v.videos[0]"
   ]
  },
  {
   "cell_type": "markdown",
   "metadata": {},
   "source": [
    "Full dataset"
   ]
  },
  {
   "cell_type": "code",
   "execution_count": null,
   "metadata": {},
   "outputs": [
    {
     "data": {
      "text/plain": [
       "87"
      ]
     },
     "execution_count": 11,
     "metadata": {},
     "output_type": "execute_result"
    }
   ],
   "source": [
    "dataset_full = FullDataset(config.train.data.datasets)\n",
    "len(dataset_full)"
   ]
  },
  {
   "cell_type": "code",
   "execution_count": null,
   "metadata": {},
   "outputs": [
    {
     "data": {
      "text/plain": [
       "({'video': <torchcodec.decoders._video_decoder.VideoDecoder at 0x7f231476a600>,\n",
       "  'K': tensor([[1.4107e+03, 0.0000e+00, 9.6000e+02],\n",
       "          [0.0000e+00, 1.3299e+03, 5.4000e+02],\n",
       "          [0.0000e+00, 0.0000e+00, 1.0000e+00]], device='cuda:0'),\n",
       "  'Kinv': tensor([[ 7.0888e-04,  0.0000e+00, -6.8053e-01],\n",
       "          [ 0.0000e+00,  7.5194e-04, -4.0605e-01],\n",
       "          [ 0.0000e+00,  0.0000e+00,  1.0000e+00]], device='cuda:0'),\n",
       "  'R': tensor([[[-0.6212, -0.0284,  0.7832],\n",
       "           [ 0.0751,  0.9926,  0.0955],\n",
       "           [-0.7801,  0.1182, -0.6144]]], device='cuda:0'),\n",
       "  't': tensor([[-15.3971, 117.3840, 288.2436]], device='cuda:0'),\n",
       "  'time': tensor([0.0000e+00, 3.3367e-02, 6.6733e-02,  ..., 2.0254e+02, 2.0257e+02,\n",
       "          2.0260e+02], device='cuda:0'),\n",
       "  'shape': torch.Size([6073, 3, 1080, 1920])},\n",
       " '',\n",
       " <torchcodec.decoders._video_decoder.VideoDecoder at 0x7f23149f9f10>,\n",
       " '',\n",
       " {'video': <torchcodec.decoders._video_decoder.VideoDecoder at 0x7f23149f9f10>,\n",
       "  'K': tensor([[1.4083e+03, 0.0000e+00, 9.6000e+02],\n",
       "          [0.0000e+00, 1.3423e+03, 5.4000e+02],\n",
       "          [0.0000e+00, 0.0000e+00, 1.0000e+00]], device='cuda:0'),\n",
       "  'Kinv': tensor([[ 7.1006e-04,  0.0000e+00, -6.8166e-01],\n",
       "          [ 0.0000e+00,  7.4501e-04, -4.0230e-01],\n",
       "          [ 0.0000e+00,  0.0000e+00,  1.0000e+00]], device='cuda:0'),\n",
       "  'R': tensor([[[ 0.0536,  0.0240,  0.9983],\n",
       "           [ 0.6374,  0.7687, -0.0527],\n",
       "           [-0.7687,  0.6391,  0.0259]]], device='cuda:0'),\n",
       "  't': tensor([[  6.6445, 105.7245, 361.4694]], device='cuda:0'),\n",
       "  'time': tensor([0.0000e+00, 3.3367e-02, 6.6733e-02,  ..., 2.0254e+02, 2.0257e+02,\n",
       "          2.0260e+02], device='cuda:0'),\n",
       "  'shape': torch.Size([6073, 3, 1080, 1920])},\n",
       " '',\n",
       " 6073)"
      ]
     },
     "execution_count": 12,
     "metadata": {},
     "output_type": "execute_result"
    }
   ],
   "source": [
    "v = preprocess_scene_videos(dataset_full[0], device)\n",
    "v.sources[0], '', v.targets[0], '', v.queries[0], '', v.n_frames"
   ]
  },
  {
   "cell_type": "code",
   "execution_count": null,
   "metadata": {},
   "outputs": [
    {
     "data": {
      "text/plain": [
       "({'video': <torchcodec.decoders._video_decoder.VideoDecoder at 0x7f23149fa180>,\n",
       "  'K': tensor([[1.4623e+03, 0.0000e+00, 1.3520e+03],\n",
       "          [0.0000e+00, 1.4623e+03, 1.0140e+03],\n",
       "          [0.0000e+00, 0.0000e+00, 1.0000e+00]], device='cuda:0'),\n",
       "  'Kinv': tensor([[ 6.8386e-04,  0.0000e+00, -9.2457e-01],\n",
       "          [ 0.0000e+00,  6.8386e-04, -6.9343e-01],\n",
       "          [ 0.0000e+00,  0.0000e+00,  1.0000e+00]], device='cuda:0'),\n",
       "  'R': tensor([[[ 0.0501,  0.9571, -0.2855],\n",
       "           [ 0.9953, -0.0242,  0.0935],\n",
       "           [ 0.0826, -0.2888, -0.9538]]], device='cuda:0', dtype=torch.float64),\n",
       "  't': tensor([[-4.7647,  1.3549,  0.5705]], device='cuda:0', dtype=torch.float64),\n",
       "  'time': tensor([0.0000, 0.0333, 0.0667, 0.1000, 0.1333, 0.1667, 0.2000, 0.2333, 0.2667,\n",
       "          0.3000, 0.3333, 0.3667, 0.4000, 0.4333, 0.4667, 0.5000, 0.5333, 0.5667,\n",
       "          0.6000, 0.6333, 0.6667, 0.7000, 0.7333, 0.7667, 0.8000, 0.8333, 0.8667,\n",
       "          0.9000, 0.9333, 0.9667, 1.0000, 1.0333, 1.0667, 1.1000, 1.1333, 1.1667,\n",
       "          1.2000, 1.2333, 1.2667, 1.3000, 1.3333, 1.3667, 1.4000, 1.4333, 1.4667,\n",
       "          1.5000, 1.5333, 1.5667, 1.6000, 1.6333, 1.6667, 1.7000, 1.7333, 1.7667,\n",
       "          1.8000, 1.8333, 1.8667, 1.9000, 1.9333, 1.9667, 2.0000, 2.0333, 2.0667,\n",
       "          2.1000, 2.1333, 2.1667, 2.2000, 2.2333, 2.2667, 2.3000, 2.3333, 2.3667,\n",
       "          2.4000, 2.4333, 2.4667, 2.5000, 2.5333, 2.5667, 2.6000, 2.6333, 2.6667,\n",
       "          2.7000, 2.7333, 2.7667, 2.8000, 2.8333, 2.8667, 2.9000, 2.9333, 2.9667,\n",
       "          3.0000, 3.0333, 3.0667, 3.1000, 3.1333, 3.1667, 3.2000, 3.2333, 3.2667,\n",
       "          3.3000, 3.3333, 3.3667, 3.4000, 3.4333, 3.4667, 3.5000, 3.5333, 3.5667,\n",
       "          3.6000, 3.6333, 3.6667, 3.7000, 3.7333, 3.7667, 3.8000, 3.8333, 3.8667,\n",
       "          3.9000, 3.9333, 3.9667, 4.0000, 4.0333, 4.0667, 4.1000, 4.1333, 4.1667,\n",
       "          4.2000, 4.2333, 4.2667, 4.3000, 4.3333, 4.3667, 4.4000, 4.4333, 4.4667,\n",
       "          4.5000, 4.5333, 4.5667, 4.6000, 4.6333, 4.6667, 4.7000, 4.7333, 4.7667,\n",
       "          4.8000, 4.8333, 4.8667, 4.9000, 4.9333, 4.9667, 5.0000, 5.0333, 5.0667,\n",
       "          5.1000, 5.1333, 5.1667, 5.2000, 5.2333, 5.2667, 5.3000, 5.3333, 5.3667,\n",
       "          5.4000, 5.4333, 5.4667, 5.5000, 5.5333, 5.5667, 5.6000, 5.6333, 5.6667,\n",
       "          5.7000, 5.7333, 5.7667, 5.8000, 5.8333, 5.8667, 5.9000, 5.9333, 5.9667,\n",
       "          6.0000, 6.0333, 6.0667, 6.1000, 6.1333, 6.1667, 6.2000, 6.2333, 6.2667,\n",
       "          6.3000, 6.3333, 6.3667, 6.4000, 6.4333, 6.4667, 6.5000, 6.5333, 6.5667,\n",
       "          6.6000, 6.6333, 6.6667, 6.7000, 6.7333, 6.7667, 6.8000, 6.8333, 6.8667,\n",
       "          6.9000, 6.9333, 6.9667, 7.0000, 7.0333, 7.0667, 7.1000, 7.1333, 7.1667,\n",
       "          7.2000, 7.2333, 7.2667, 7.3000, 7.3333, 7.3667, 7.4000, 7.4333, 7.4667,\n",
       "          7.5000, 7.5333, 7.5667, 7.6000, 7.6333, 7.6667, 7.7000, 7.7333, 7.7667,\n",
       "          7.8000, 7.8333, 7.8667, 7.9000, 7.9333, 7.9667, 8.0000, 8.0333, 8.0667,\n",
       "          8.1000, 8.1333, 8.1667, 8.2000, 8.2333, 8.2667, 8.3000, 8.3333, 8.3667,\n",
       "          8.4000, 8.4333, 8.4667, 8.5000, 8.5333, 8.5667, 8.6000, 8.6333, 8.6667,\n",
       "          8.7000, 8.7333, 8.7667, 8.8000, 8.8333, 8.8667, 8.9000, 8.9333, 8.9667,\n",
       "          9.0000, 9.0333, 9.0667, 9.1000, 9.1333, 9.1667, 9.2000, 9.2333, 9.2667,\n",
       "          9.3000, 9.3333, 9.3667, 9.4000, 9.4333, 9.4667, 9.5000, 9.5333, 9.5667,\n",
       "          9.6000, 9.6333, 9.6667, 9.7000, 9.7333, 9.7667, 9.8000, 9.8333, 9.8667,\n",
       "          9.9000, 9.9333, 9.9667], device='cuda:0'),\n",
       "  'shape': torch.Size([300, 3, 2028, 2704])},\n",
       " '',\n",
       " <torchcodec.decoders._video_decoder.VideoDecoder at 0x7f23149fa210>,\n",
       " '',\n",
       " {'video': <torchcodec.decoders._video_decoder.VideoDecoder at 0x7f23149fa210>,\n",
       "  'K': tensor([[1.4623e+03, 0.0000e+00, 1.3520e+03],\n",
       "          [0.0000e+00, 1.4623e+03, 1.0140e+03],\n",
       "          [0.0000e+00, 0.0000e+00, 1.0000e+00]], device='cuda:0'),\n",
       "  'Kinv': tensor([[ 6.8386e-04,  0.0000e+00, -9.2457e-01],\n",
       "          [ 0.0000e+00,  6.8386e-04, -6.9343e-01],\n",
       "          [ 0.0000e+00,  0.0000e+00,  1.0000e+00]], device='cuda:0'),\n",
       "  'R': tensor([[[ 0.1237,  0.9043, -0.4086],\n",
       "           [ 0.9845, -0.0602,  0.1649],\n",
       "           [ 0.1245, -0.4227, -0.8977]]], device='cuda:0', dtype=torch.float64),\n",
       "  't': tensor([[-5.7001,  1.3544,  0.9255]], device='cuda:0', dtype=torch.float64),\n",
       "  'time': tensor([0.0000, 0.0333, 0.0667, 0.1000, 0.1333, 0.1667, 0.2000, 0.2333, 0.2667,\n",
       "          0.3000, 0.3333, 0.3667, 0.4000, 0.4333, 0.4667, 0.5000, 0.5333, 0.5667,\n",
       "          0.6000, 0.6333, 0.6667, 0.7000, 0.7333, 0.7667, 0.8000, 0.8333, 0.8667,\n",
       "          0.9000, 0.9333, 0.9667, 1.0000, 1.0333, 1.0667, 1.1000, 1.1333, 1.1667,\n",
       "          1.2000, 1.2333, 1.2667, 1.3000, 1.3333, 1.3667, 1.4000, 1.4333, 1.4667,\n",
       "          1.5000, 1.5333, 1.5667, 1.6000, 1.6333, 1.6667, 1.7000, 1.7333, 1.7667,\n",
       "          1.8000, 1.8333, 1.8667, 1.9000, 1.9333, 1.9667, 2.0000, 2.0333, 2.0667,\n",
       "          2.1000, 2.1333, 2.1667, 2.2000, 2.2333, 2.2667, 2.3000, 2.3333, 2.3667,\n",
       "          2.4000, 2.4333, 2.4667, 2.5000, 2.5333, 2.5667, 2.6000, 2.6333, 2.6667,\n",
       "          2.7000, 2.7333, 2.7667, 2.8000, 2.8333, 2.8667, 2.9000, 2.9333, 2.9667,\n",
       "          3.0000, 3.0333, 3.0667, 3.1000, 3.1333, 3.1667, 3.2000, 3.2333, 3.2667,\n",
       "          3.3000, 3.3333, 3.3667, 3.4000, 3.4333, 3.4667, 3.5000, 3.5333, 3.5667,\n",
       "          3.6000, 3.6333, 3.6667, 3.7000, 3.7333, 3.7667, 3.8000, 3.8333, 3.8667,\n",
       "          3.9000, 3.9333, 3.9667, 4.0000, 4.0333, 4.0667, 4.1000, 4.1333, 4.1667,\n",
       "          4.2000, 4.2333, 4.2667, 4.3000, 4.3333, 4.3667, 4.4000, 4.4333, 4.4667,\n",
       "          4.5000, 4.5333, 4.5667, 4.6000, 4.6333, 4.6667, 4.7000, 4.7333, 4.7667,\n",
       "          4.8000, 4.8333, 4.8667, 4.9000, 4.9333, 4.9667, 5.0000, 5.0333, 5.0667,\n",
       "          5.1000, 5.1333, 5.1667, 5.2000, 5.2333, 5.2667, 5.3000, 5.3333, 5.3667,\n",
       "          5.4000, 5.4333, 5.4667, 5.5000, 5.5333, 5.5667, 5.6000, 5.6333, 5.6667,\n",
       "          5.7000, 5.7333, 5.7667, 5.8000, 5.8333, 5.8667, 5.9000, 5.9333, 5.9667,\n",
       "          6.0000, 6.0333, 6.0667, 6.1000, 6.1333, 6.1667, 6.2000, 6.2333, 6.2667,\n",
       "          6.3000, 6.3333, 6.3667, 6.4000, 6.4333, 6.4667, 6.5000, 6.5333, 6.5667,\n",
       "          6.6000, 6.6333, 6.6667, 6.7000, 6.7333, 6.7667, 6.8000, 6.8333, 6.8667,\n",
       "          6.9000, 6.9333, 6.9667, 7.0000, 7.0333, 7.0667, 7.1000, 7.1333, 7.1667,\n",
       "          7.2000, 7.2333, 7.2667, 7.3000, 7.3333, 7.3667, 7.4000, 7.4333, 7.4667,\n",
       "          7.5000, 7.5333, 7.5667, 7.6000, 7.6333, 7.6667, 7.7000, 7.7333, 7.7667,\n",
       "          7.8000, 7.8333, 7.8667, 7.9000, 7.9333, 7.9667, 8.0000, 8.0333, 8.0667,\n",
       "          8.1000, 8.1333, 8.1667, 8.2000, 8.2333, 8.2667, 8.3000, 8.3333, 8.3667,\n",
       "          8.4000, 8.4333, 8.4667, 8.5000, 8.5333, 8.5667, 8.6000, 8.6333, 8.6667,\n",
       "          8.7000, 8.7333, 8.7667, 8.8000, 8.8333, 8.8667, 8.9000, 8.9333, 8.9667,\n",
       "          9.0000, 9.0333, 9.0667, 9.1000, 9.1333, 9.1667, 9.2000, 9.2333, 9.2667,\n",
       "          9.3000, 9.3333, 9.3667, 9.4000, 9.4333, 9.4667, 9.5000, 9.5333, 9.5667,\n",
       "          9.6000, 9.6333, 9.6667, 9.7000, 9.7333, 9.7667, 9.8000, 9.8333, 9.8667,\n",
       "          9.9000, 9.9333, 9.9667], device='cuda:0'),\n",
       "  'shape': torch.Size([300, 3, 2028, 2704])},\n",
       " '',\n",
       " 300)"
      ]
     },
     "execution_count": 13,
     "metadata": {},
     "output_type": "execute_result"
    }
   ],
   "source": [
    "v = preprocess_scene_videos(dataset_full[84], device)\n",
    "v.sources[0], '', v.targets[0], '', v.queries[0], '', v.n_frames"
   ]
  },
  {
   "cell_type": "markdown",
   "metadata": {},
   "source": [
    "### Pose encoder"
   ]
  },
  {
   "cell_type": "markdown",
   "metadata": {},
   "source": [
    "Auxiliary functions"
   ]
  },
  {
   "cell_type": "code",
   "execution_count": null,
   "metadata": {},
   "outputs": [
    {
     "data": {
      "text/plain": [
       "([8, 4], (0, 0, 1, 2))"
      ]
     },
     "execution_count": 14,
     "metadata": {},
     "output_type": "execute_result"
    }
   ],
   "source": [
    "compute_pad([5, 4], 4)"
   ]
  },
  {
   "cell_type": "code",
   "execution_count": null,
   "metadata": {},
   "outputs": [
    {
     "data": {
      "text/plain": [
       "tensor([[[-8.7423e-08,  0.0000e+00],\n",
       "         [-1.0000e+00,  1.0000e+00],\n",
       "         [ 1.7485e-07,  0.0000e+00],\n",
       "         [ 1.0000e+00,  1.0000e+00],\n",
       "         [ 3.4969e-07,  0.0000e+00],\n",
       "         [ 1.0000e+00,  1.0000e+00],\n",
       "         [ 6.9938e-07,  0.0000e+00],\n",
       "         [ 1.0000e+00,  1.0000e+00],\n",
       "         [ 0.0000e+00,  0.0000e+00],\n",
       "         [ 1.0000e+00,  1.0000e+00],\n",
       "         [ 0.0000e+00,  0.0000e+00],\n",
       "         [ 1.0000e+00,  1.0000e+00],\n",
       "         [ 0.0000e+00,  0.0000e+00],\n",
       "         [ 1.0000e+00,  1.0000e+00],\n",
       "         [ 0.0000e+00,  0.0000e+00],\n",
       "         [ 1.0000e+00,  1.0000e+00],\n",
       "         [ 0.0000e+00,  0.0000e+00],\n",
       "         [ 1.0000e+00,  1.0000e+00],\n",
       "         [ 0.0000e+00,  0.0000e+00],\n",
       "         [ 1.0000e+00,  1.0000e+00],\n",
       "         [ 0.0000e+00,  0.0000e+00],\n",
       "         [ 1.0000e+00,  1.0000e+00],\n",
       "         [ 0.0000e+00,  0.0000e+00],\n",
       "         [ 1.0000e+00,  1.0000e+00],\n",
       "         [ 0.0000e+00,  0.0000e+00],\n",
       "         [ 1.0000e+00,  1.0000e+00],\n",
       "         [ 0.0000e+00,  0.0000e+00],\n",
       "         [ 1.0000e+00,  1.0000e+00],\n",
       "         [ 0.0000e+00,  0.0000e+00],\n",
       "         [ 1.0000e+00,  1.0000e+00],\n",
       "         [ 0.0000e+00,  0.0000e+00],\n",
       "         [ 1.0000e+00,  1.0000e+00],\n",
       "         [ 0.0000e+00,  0.0000e+00],\n",
       "         [ 1.0000e+00,  1.0000e+00],\n",
       "         [ 0.0000e+00,  0.0000e+00],\n",
       "         [ 1.0000e+00,  1.0000e+00],\n",
       "         [ 0.0000e+00,  0.0000e+00],\n",
       "         [ 1.0000e+00,  1.0000e+00],\n",
       "         [ 0.0000e+00,  0.0000e+00],\n",
       "         [ 1.0000e+00,  1.0000e+00],\n",
       "         [ 0.0000e+00,  0.0000e+00],\n",
       "         [ 1.0000e+00,  1.0000e+00],\n",
       "         [ 0.0000e+00,  0.0000e+00],\n",
       "         [ 1.0000e+00,  1.0000e+00],\n",
       "         [ 0.0000e+00,  0.0000e+00],\n",
       "         [ 1.0000e+00,  1.0000e+00],\n",
       "         [ 0.0000e+00,  0.0000e+00],\n",
       "         [ 1.0000e+00,  1.0000e+00]],\n",
       "\n",
       "        [[ 0.0000e+00,  0.0000e+00],\n",
       "         [ 1.0000e+00,  1.0000e+00],\n",
       "         [ 0.0000e+00,  0.0000e+00],\n",
       "         [ 1.0000e+00,  1.0000e+00],\n",
       "         [ 0.0000e+00,  0.0000e+00],\n",
       "         [ 1.0000e+00,  1.0000e+00],\n",
       "         [ 0.0000e+00,  0.0000e+00],\n",
       "         [ 1.0000e+00,  1.0000e+00],\n",
       "         [ 0.0000e+00,  0.0000e+00],\n",
       "         [ 1.0000e+00,  1.0000e+00],\n",
       "         [ 0.0000e+00,  0.0000e+00],\n",
       "         [ 1.0000e+00,  1.0000e+00],\n",
       "         [ 0.0000e+00,  0.0000e+00],\n",
       "         [ 1.0000e+00,  1.0000e+00],\n",
       "         [ 0.0000e+00,  0.0000e+00],\n",
       "         [ 1.0000e+00,  1.0000e+00],\n",
       "         [ 0.0000e+00,  0.0000e+00],\n",
       "         [ 1.0000e+00,  1.0000e+00],\n",
       "         [ 0.0000e+00,  0.0000e+00],\n",
       "         [ 1.0000e+00,  1.0000e+00],\n",
       "         [ 0.0000e+00,  0.0000e+00],\n",
       "         [ 1.0000e+00,  1.0000e+00],\n",
       "         [ 0.0000e+00,  0.0000e+00],\n",
       "         [ 1.0000e+00,  1.0000e+00],\n",
       "         [ 0.0000e+00,  0.0000e+00],\n",
       "         [ 1.0000e+00,  1.0000e+00],\n",
       "         [ 0.0000e+00,  0.0000e+00],\n",
       "         [ 1.0000e+00,  1.0000e+00],\n",
       "         [ 0.0000e+00,  0.0000e+00],\n",
       "         [ 1.0000e+00,  1.0000e+00],\n",
       "         [ 0.0000e+00,  0.0000e+00],\n",
       "         [ 1.0000e+00,  1.0000e+00],\n",
       "         [ 0.0000e+00,  0.0000e+00],\n",
       "         [ 1.0000e+00,  1.0000e+00],\n",
       "         [ 0.0000e+00,  0.0000e+00],\n",
       "         [ 1.0000e+00,  1.0000e+00],\n",
       "         [ 0.0000e+00,  0.0000e+00],\n",
       "         [ 1.0000e+00,  1.0000e+00],\n",
       "         [ 0.0000e+00,  0.0000e+00],\n",
       "         [ 1.0000e+00,  1.0000e+00],\n",
       "         [ 0.0000e+00,  0.0000e+00],\n",
       "         [ 1.0000e+00,  1.0000e+00],\n",
       "         [ 0.0000e+00,  0.0000e+00],\n",
       "         [ 1.0000e+00,  1.0000e+00],\n",
       "         [ 0.0000e+00,  0.0000e+00],\n",
       "         [ 1.0000e+00,  1.0000e+00],\n",
       "         [ 0.0000e+00,  0.0000e+00],\n",
       "         [ 1.0000e+00,  1.0000e+00]],\n",
       "\n",
       "        [[ 0.0000e+00,  0.0000e+00],\n",
       "         [ 1.0000e+00,  1.0000e+00],\n",
       "         [ 0.0000e+00,  0.0000e+00],\n",
       "         [ 1.0000e+00,  1.0000e+00],\n",
       "         [ 0.0000e+00,  0.0000e+00],\n",
       "         [ 1.0000e+00,  1.0000e+00],\n",
       "         [ 0.0000e+00,  0.0000e+00],\n",
       "         [ 1.0000e+00,  1.0000e+00],\n",
       "         [ 0.0000e+00,  0.0000e+00],\n",
       "         [ 1.0000e+00,  1.0000e+00],\n",
       "         [ 0.0000e+00,  0.0000e+00],\n",
       "         [ 1.0000e+00,  1.0000e+00],\n",
       "         [ 0.0000e+00,  0.0000e+00],\n",
       "         [ 1.0000e+00,  1.0000e+00],\n",
       "         [ 0.0000e+00,  0.0000e+00],\n",
       "         [ 1.0000e+00,  1.0000e+00],\n",
       "         [ 0.0000e+00,  0.0000e+00],\n",
       "         [ 1.0000e+00,  1.0000e+00],\n",
       "         [ 0.0000e+00,  0.0000e+00],\n",
       "         [ 1.0000e+00,  1.0000e+00],\n",
       "         [ 0.0000e+00,  0.0000e+00],\n",
       "         [ 1.0000e+00,  1.0000e+00],\n",
       "         [ 0.0000e+00,  0.0000e+00],\n",
       "         [ 1.0000e+00,  1.0000e+00],\n",
       "         [ 0.0000e+00,  0.0000e+00],\n",
       "         [ 1.0000e+00,  1.0000e+00],\n",
       "         [ 0.0000e+00,  0.0000e+00],\n",
       "         [ 1.0000e+00,  1.0000e+00],\n",
       "         [ 0.0000e+00,  0.0000e+00],\n",
       "         [ 1.0000e+00,  1.0000e+00],\n",
       "         [ 0.0000e+00,  0.0000e+00],\n",
       "         [ 1.0000e+00,  1.0000e+00],\n",
       "         [ 0.0000e+00,  0.0000e+00],\n",
       "         [ 1.0000e+00,  1.0000e+00],\n",
       "         [ 0.0000e+00,  0.0000e+00],\n",
       "         [ 1.0000e+00,  1.0000e+00],\n",
       "         [ 0.0000e+00,  0.0000e+00],\n",
       "         [ 1.0000e+00,  1.0000e+00],\n",
       "         [ 0.0000e+00,  0.0000e+00],\n",
       "         [ 1.0000e+00,  1.0000e+00],\n",
       "         [ 0.0000e+00,  0.0000e+00],\n",
       "         [ 1.0000e+00,  1.0000e+00],\n",
       "         [ 0.0000e+00,  0.0000e+00],\n",
       "         [ 1.0000e+00,  1.0000e+00],\n",
       "         [ 0.0000e+00,  0.0000e+00],\n",
       "         [ 1.0000e+00,  1.0000e+00],\n",
       "         [ 0.0000e+00,  0.0000e+00],\n",
       "         [ 1.0000e+00,  1.0000e+00]]])"
      ]
     },
     "execution_count": 15,
     "metadata": {},
     "output_type": "execute_result"
    }
   ],
   "source": [
    "v = torch.zeros((3, 6, 2))\n",
    "v[0, 0, 0] = 1\n",
    "compute_octaves(v, n_oct=4, dim=-2)"
   ]
  },
  {
   "cell_type": "code",
   "execution_count": null,
   "metadata": {},
   "outputs": [
    {
     "data": {
      "text/plain": [
       "(torch.Size([4, 3, 128, 128]), torch.Size([4, 3, 128, 128]))"
      ]
     },
     "execution_count": 16,
     "metadata": {},
     "output_type": "execute_result"
    }
   ],
   "source": [
    "import torch\n",
    "import einx\n",
    "\n",
    "\n",
    "vecs = torch.rand((3, 128, 128))\n",
    "Kinv = torch.rand((3, 3))\n",
    "R = torch.rand((4, 3, 3))\n",
    "t = torch.rand((4, 3))\n",
    "\n",
    "o, d = compute_view_rays(vecs, Kinv, R, t)\n",
    "\n",
    "o.shape, d.shape"
   ]
  },
  {
   "cell_type": "markdown",
   "metadata": {},
   "source": [
    "Pose encoder"
   ]
  },
  {
   "cell_type": "code",
   "execution_count": null,
   "metadata": {},
   "outputs": [
    {
     "data": {
      "text/plain": [
       "torch.Size([4, 1, 192])"
      ]
     },
     "execution_count": 17,
     "metadata": {},
     "output_type": "execute_result"
    }
   ],
   "source": [
    "B = 4\n",
    "C = config.model.C\n",
    "K = torch.linalg.inv(torch.arange(9).reshape((3, 3)) + 4.0)\n",
    "Kinv = K.inverse()\n",
    "R, t = torch.arange(B * 9).reshape((B, 3, 3)) + 0.0, torch.arange(B * 3).reshape((B, 3)) + 0.0\n",
    "I = torch.ones((B, config.model.C, 5, 4)) + 0.0\n",
    "\n",
    "pose_encoder = PoseEncoder(config.model)\n",
    "pose_encoder(Kinv, R, t, torch.arange(B) / 4, I)[0].shape # (4, 2, 12)\n",
    "#pose_encoder(Kinv, R, t, torch.arange(B) / 4, None, I.shape[-2:])"
   ]
  },
  {
   "cell_type": "markdown",
   "metadata": {},
   "source": [
    "Displaying view rays from compute_view_rays"
   ]
  },
  {
   "cell_type": "code",
   "execution_count": null,
   "metadata": {},
   "outputs": [],
   "source": [
    "scene = preprocess_scene_videos(dataset_panoptic[0], device)"
   ]
  },
  {
   "cell_type": "code",
   "execution_count": null,
   "metadata": {},
   "outputs": [
    {
     "data": {
      "text/plain": [
       "{'video': <torchcodec.decoders._video_decoder.VideoDecoder at 0x7f22ee098290>,\n",
       " 'K': tensor([[1.4107e+03, 0.0000e+00, 9.6000e+02],\n",
       "         [0.0000e+00, 1.3299e+03, 5.4000e+02],\n",
       "         [0.0000e+00, 0.0000e+00, 1.0000e+00]], device='cuda:0'),\n",
       " 'Kinv': tensor([[ 7.0888e-04,  0.0000e+00, -6.8053e-01],\n",
       "         [ 0.0000e+00,  7.5194e-04, -4.0605e-01],\n",
       "         [ 0.0000e+00,  0.0000e+00,  1.0000e+00]], device='cuda:0'),\n",
       " 'R': tensor([[[-0.6212, -0.0284,  0.7832],\n",
       "          [ 0.0751,  0.9926,  0.0955],\n",
       "          [-0.7801,  0.1182, -0.6144]]], device='cuda:0'),\n",
       " 't': tensor([[-15.3971, 117.3840, 288.2436]], device='cuda:0'),\n",
       " 'time': tensor([0.0000e+00, 3.3367e-02, 6.6733e-02,  ..., 2.0254e+02, 2.0257e+02,\n",
       "         2.0260e+02], device='cuda:0'),\n",
       " 'shape': torch.Size([6073, 3, 1080, 1920])}"
      ]
     },
     "execution_count": 19,
     "metadata": {},
     "output_type": "execute_result"
    }
   ],
   "source": [
    "scene.videos[0]"
   ]
  },
  {
   "cell_type": "code",
   "execution_count": null,
   "metadata": {},
   "outputs": [
    {
     "data": {
      "application/vnd.plotly.v1+json": {
       "config": {
        "plotlyServerURL": "https://plot.ly"
       },
       "data": [
        {
         "mode": "lines",
         "type": "scatter3d",
         "x": [
          206.46499633789062,
          197.3388671875,
          null,
          206.46499633789062,
          198.77259826660156,
          null,
          206.46499633789062,
          177.4661407470703,
          null,
          206.46499633789062,
          178.89987182617188,
          null,
          197.3388671875,
          198.77259826660156,
          null,
          197.3388671875,
          177.4661407470703,
          null,
          198.77259826660156,
          178.89987182617188,
          null,
          177.4661407470703,
          178.89987182617188,
          null
         ],
         "y": [
          -151.01800537109375,
          -157.254638671875,
          null,
          -151.01800537109375,
          -138.31494140625,
          null,
          -151.01800537109375,
          -158.16184997558594,
          null,
          -151.01800537109375,
          -139.22216796875,
          null,
          -157.254638671875,
          -138.31494140625,
          null,
          -157.254638671875,
          -158.16184997558594,
          null,
          -138.31494140625,
          -139.22216796875,
          null,
          -158.16184997558594,
          -139.22216796875,
          null
         ],
         "z": [
          177.95001220703125,
          150.0606231689453,
          null,
          177.95001220703125,
          151.88357543945312,
          null,
          177.95001220703125,
          175.11602783203125,
          null,
          177.95001220703125,
          176.93898010253906,
          null,
          150.0606231689453,
          151.88357543945312,
          null,
          150.0606231689453,
          175.11602783203125,
          null,
          151.88357543945312,
          176.93898010253906,
          null,
          175.11602783203125,
          176.93898010253906,
          null
         ]
        },
        {
         "marker": {
          "color": {
           "bdata": "AAAAAAAA8D8AAAAAAAAAAAAAAAAAAAAAAAAAAAAAAAAAAAAAAAAAAAAAAAAAAAAAAAAAAAAAAAAAAAAAAADwPwAAAAAAAAAAAAAAAAAAAAAAAAAAAAAAAAAAAAAAAPA/AAAAAAAAAAAAAAAAAADwPwAAAAAAAPA/",
           "dtype": "f8",
           "shape": "5, 3"
          },
          "size": 1
         },
         "mode": "markers",
         "type": "scatter3d",
         "x": {
          "bdata": "AAAAQOHOaUAAAAAA2KpoQAAAACC52GhAAAAAoOouZkAAAADAy1xmQA==",
          "dtype": "f8"
         },
         "y": {
          "bdata": "AAAAgJPgYsAAAAAAJqhjwAAAAAAUSmHAAAAA4C3FY8AAAAAAHGdhwA==",
          "dtype": "f8"
         },
         "z": {
          "bdata": "AAAAgGY+ZkAAAACg8MFiQAAAAEBG/GJAAAAAgLbjZUAAAAAgDB5mQA==",
          "dtype": "f8"
         }
        },
        {
         "mode": "lines",
         "type": "scatter3d",
         "x": [
          -272.20599365234375,
          -248.796630859375,
          null,
          -272.20599365234375,
          -250.3563232421875,
          null,
          -272.20599365234375,
          -244.89698791503906,
          null,
          -272.20599365234375,
          -246.45669555664062,
          null,
          -248.796630859375,
          -250.3563232421875,
          null,
          -248.796630859375,
          -244.89698791503906,
          null,
          -250.3563232421875,
          -246.45669555664062,
          null,
          -244.89698791503906,
          -246.45669555664062,
          null
         ],
         "y": [
          -151.697998046875,
          -158.46849060058594,
          null,
          -151.697998046875,
          -141.5059051513672,
          null,
          -151.697998046875,
          -157.51400756835938,
          null,
          -151.697998046875,
          -140.55142211914062,
          null,
          -158.46849060058594,
          -141.5059051513672,
          null,
          -158.46849060058594,
          -157.51400756835938,
          null,
          -141.5059051513672,
          -140.55142211914062,
          null,
          -157.51400756835938,
          -140.55142211914062,
          null
         ],
         "z": [
          -21.84769630432129,
          -4.35020637512207,
          null,
          -21.84769630432129,
          -3.995157241821289,
          null,
          -21.84769630432129,
          -32.82004928588867,
          null,
          -21.84769630432129,
          -32.464996337890625,
          null,
          -4.35020637512207,
          -3.995157241821289,
          null,
          -4.35020637512207,
          -32.82004928588867,
          null,
          -3.995157241821289,
          -32.464996337890625,
          null,
          -32.82004928588867,
          -32.464996337890625,
          null
         ]
        },
        {
         "marker": {
          "color": {
           "bdata": "AAAAAAAA8D8AAAAAAAAAAAAAAAAAAAAAAAAAAAAAAAAAAAAAAAAAAAAAAAAAAAAAAAAAAAAAAAAAAAAAAADwPwAAAAAAAAAAAAAAAAAAAAAAAAAAAAAAAAAAAAAAAPA/AAAAAAAAAAAAAAAAAADwPwAAAAAAAPA/",
           "dtype": "f8",
           "shape": "5, 3"
          },
          "size": 1
         },
         "mode": "markers",
         "type": "scatter3d",
         "x": {
          "bdata": "AAAAwEsDccAAAAAAfhlvwAAAAABnS2/AAAAAILScbsAAAABAnc5uwA==",
          "dtype": "f8"
         },
         "y": {
          "bdata": "AAAAAFb2YsAAAADg/c5jwAAAAGAwsGHAAAAAwHKwY8AAAABApZFhwA==",
          "dtype": "f8"
         },
         "z": {
          "bdata": "AAAAoALZNcAAAACAnGYRwAAAAAAV9g/AAAAAYPdoQMAAAAAAhTtAwA==",
          "dtype": "f8"
         }
        },
        {
         "mode": "lines",
         "type": "scatter3d",
         "x": [
          -106.24099731445312,
          -82.72513580322266,
          null,
          -106.24099731445312,
          -83.13783264160156,
          null,
          -106.24099731445312,
          -112.1887435913086,
          null,
          -106.24099731445312,
          -112.6014404296875,
          null,
          -82.72513580322266,
          -83.13783264160156,
          null,
          -82.72513580322266,
          -112.1887435913086,
          null,
          -83.13783264160156,
          -112.6014404296875,
          null,
          -112.1887435913086,
          -112.6014404296875,
          null
         ],
         "y": [
          -152.48800659179688,
          -161.05873107910156,
          null,
          -152.48800659179688,
          -142.06629943847656,
          null,
          -152.48800659179688,
          -161.40377807617188,
          null,
          -152.48800659179688,
          -142.41134643554688,
          null,
          -161.05873107910156,
          -142.06629943847656,
          null,
          -161.05873107910156,
          -161.40377807617188,
          null,
          -142.06629943847656,
          -142.41134643554688,
          null,
          -161.40377807617188,
          -142.41134643554688,
          null
         ],
         "z": [
          254.6630096435547,
          238.12376403808594,
          null,
          254.6630096435547,
          238.61209106445312,
          null,
          254.6630096435547,
          226.6427764892578,
          null,
          254.6630096435547,
          227.131103515625,
          null,
          238.12376403808594,
          238.61209106445312,
          null,
          238.12376403808594,
          226.6427764892578,
          null,
          238.61209106445312,
          227.131103515625,
          null,
          226.6427764892578,
          227.131103515625,
          null
         ]
        },
        {
         "marker": {
          "color": {
           "bdata": "AAAAAAAA8D8AAAAAAAAAAAAAAAAAAAAAAAAAAAAAAAAAAAAAAAAAAAAAAAAAAAAAAAAAAAAAAAAAAAAAAADwPwAAAAAAAAAAAAAAAAAAAAAAAAAAAAAAAAAAAAAAAPA/AAAAAAAAAAAAAAAAAADwPwAAAAAAAPA/",
           "dtype": "f8",
           "shape": "5, 3"
          },
          "size": 1
         },
         "mode": "markers",
         "type": "scatter3d",
         "x": {
          "bdata": "AAAAgGyPWsAAAACgaK5UwAAAAEDSyFTAAAAAYBQMXMAAAAAAfiZcwA==",
          "dtype": "f8"
         },
         "y": {
          "bdata": "AAAAwJ0PY8AAAAAg4SFkwAAAACAfwmHAAAAAwOssZMAAAADAKc1hwA==",
          "dtype": "f8"
         },
         "z": {
          "bdata": "AAAAYDfVb0AAAADg9cNtQAAAAECW021AAAAAoJFUbEAAAAAAMmRsQA==",
          "dtype": "f8"
         }
        },
        {
         "mode": "lines",
         "type": "scatter3d",
         "x": [
          -67.85599517822266,
          -75.18315124511719,
          null,
          -67.85599517822266,
          -79.15421295166016,
          null,
          -67.85599517822266,
          -44.850120544433594,
          null,
          -67.85599517822266,
          -48.821189880371094,
          null,
          -75.18315124511719,
          -79.15421295166016,
          null,
          -75.18315124511719,
          -44.850120544433594,
          null,
          -79.15421295166016,
          -48.821189880371094,
          null,
          -44.850120544433594,
          -48.821189880371094,
          null
         ],
         "y": [
          -339.4869689941406,
          -327.0424499511719,
          null,
          -339.4869689941406,
          -314.8631286621094,
          null,
          -339.4869689941406,
          -328.6112365722656,
          null,
          -339.4869689941406,
          -316.4319152832031,
          null,
          -327.0424499511719,
          -314.8631286621094,
          null,
          -327.0424499511719,
          -328.6112365722656,
          null,
          -314.8631286621094,
          -316.4319152832031,
          null,
          -328.6112365722656,
          -316.4319152832031,
          null
         ],
         "z": [
          -172.25299072265625,
          -145.95761108398438,
          null,
          -172.25299072265625,
          -159.3682403564453,
          null,
          -172.25299072265625,
          -156.36436462402344,
          null,
          -172.25299072265625,
          -169.77499389648438,
          null,
          -145.95761108398438,
          -159.3682403564453,
          null,
          -145.95761108398438,
          -156.36436462402344,
          null,
          -159.3682403564453,
          -169.77499389648438,
          null,
          -156.36436462402344,
          -169.77499389648438,
          null
         ]
        },
        {
         "marker": {
          "color": {
           "bdata": "AAAAAAAA8D8AAAAAAAAAAAAAAAAAAAAAAAAAAAAAAAAAAAAAAAAAAAAAAAAAAAAAAAAAAAAAAAAAAAAAAADwPwAAAAAAAAAAAAAAAAAAAAAAAAAAAAAAAAAAAAAAAPA/AAAAAAAAAAAAAAAAAADwPwAAAAAAAPA/",
           "dtype": "f8",
           "shape": "5, 3"
          },
          "size": 1
         },
         "mode": "markers",
         "type": "scatter3d",
         "x": {
          "bdata": "AAAAoMj2UMAAAADAuMtSwAAAAKDeyVPAAAAAwNBsRsAAAADAHGlIwA==",
          "dtype": "f8"
         },
         "y": {
          "bdata": "AAAAoMo3dcAAAADgrXB0wAAAAGDPrXPAAAAAoMeJdMAAAAAg6cZzwA==",
          "dtype": "f8"
         },
         "z": {
          "bdata": "AAAAgBiIZcAAAADApD5iwAAAAKDI62PAAAAA4KiLY8AAAADAzDhlwA==",
          "dtype": "f8"
         }
        },
        {
         "mode": "lines",
         "type": "scatter3d",
         "x": [
          -46.296302795410156,
          -28.553682327270508,
          null,
          -46.296302795410156,
          -28.754972457885742,
          null,
          -46.296302795410156,
          -60.192657470703125,
          null,
          -46.296302795410156,
          -60.39394760131836,
          null,
          -28.553682327270508,
          -28.754972457885742,
          null,
          -28.553682327270508,
          -60.192657470703125,
          null,
          -28.754972457885742,
          -60.39394760131836,
          null,
          -60.192657470703125,
          -60.39394760131836,
          null
         ],
         "y": [
          -338.9139709472656,
          -326.8538818359375,
          null,
          -338.9139709472656,
          -315.3402404785156,
          null,
          -338.9139709472656,
          -325.1241455078125,
          null,
          -338.9139709472656,
          -313.6104736328125,
          null,
          -326.8538818359375,
          -315.3402404785156,
          null,
          -326.8538818359375,
          -325.1241455078125,
          null,
          -315.3402404785156,
          -313.6104736328125,
          null,
          -325.1241455078125,
          -313.6104736328125,
          null
         ],
         "z": [
          180.00698852539062,
          159.03668212890625,
          null,
          180.00698852539062,
          173.9588165283203,
          null,
          180.00698852539062,
          157.27523803710938,
          null,
          180.00698852539062,
          172.1973876953125,
          null,
          159.03668212890625,
          173.9588165283203,
          null,
          159.03668212890625,
          157.27523803710938,
          null,
          173.9588165283203,
          172.1973876953125,
          null,
          157.27523803710938,
          172.1973876953125,
          null
         ]
        },
        {
         "marker": {
          "color": {
           "bdata": "AAAAAAAA8D8AAAAAAAAAAAAAAAAAAAAAAAAAAAAAAAAAAAAAAAAAAAAAAAAAAAAAAAAAAAAAAAAAAAAAAADwPwAAAAAAAAAAAAAAAAAAAAAAAAAAAAAAAAAAAAAAAPA/AAAAAAAAAAAAAAAAAADwPwAAAAAAAPA/",
           "dtype": "f8",
           "shape": "5, 3"
          },
          "size": 1
         },
         "mode": "markers",
         "type": "scatter3d",
         "x": {
          "bdata": "AAAAQO0lR8AAAAAgvo08wAAAAOBFwTzAAAAAAKkYTsAAAADgbDJOwA==",
          "dtype": "f8"
         },
         "y": {
          "bdata": "AAAAoJ8udcAAAACAqW10wAAAAKBxtXPAAAAAgPxRdMAAAACAxJlzwA==",
          "dtype": "f8"
         },
         "z": {
          "bdata": "AAAAQDmAZkAAAACALOFjQAAAAKCuvmVAAAAAwM6oY0AAAAAAUYZlQA==",
          "dtype": "f8"
         }
        },
        {
         "mode": "lines",
         "type": "scatter3d",
         "x": [
          74.81769561767578,
          81.52867126464844,
          null,
          74.81769561767578,
          84.88180541992188,
          null,
          74.81769561767578,
          51.33197021484375,
          null,
          74.81769561767578,
          54.68510437011719,
          null,
          81.52867126464844,
          84.88180541992188,
          null,
          81.52867126464844,
          51.33197021484375,
          null,
          84.88180541992188,
          54.68510437011719,
          null,
          51.33197021484375,
          54.68510437011719,
          null
         ],
         "y": [
          -312.0350036621094,
          -304.0233459472656,
          null,
          -312.0350036621094,
          -289.50177001953125,
          null,
          -312.0350036621094,
          -305.23175048828125,
          null,
          -312.0350036621094,
          -290.7101745605469,
          null,
          -304.0233459472656,
          -289.50177001953125,
          null,
          -304.0233459472656,
          -305.23175048828125,
          null,
          -289.50177001953125,
          -290.7101745605469,
          null,
          -305.23175048828125,
          -290.7101745605469,
          null
         ],
         "z": [
          197.2080078125,
          169.08726501464844,
          null,
          197.2080078125,
          180.15023803710938,
          null,
          197.2080078125,
          179.82594299316406,
          null,
          197.2080078125,
          190.888916015625,
          null,
          169.08726501464844,
          180.15023803710938,
          null,
          169.08726501464844,
          179.82594299316406,
          null,
          180.15023803710938,
          190.888916015625,
          null,
          179.82594299316406,
          190.888916015625,
          null
         ]
        },
        {
         "marker": {
          "color": {
           "bdata": "AAAAAAAA8D8AAAAAAAAAAAAAAAAAAAAAAAAAAAAAAAAAAAAAAAAAAAAAAAAAAAAAAAAAAAAAAAAAAAAAAADwPwAAAAAAAAAAAAAAAAAAAAAAAAAAAAAAAAAAAAAAAPA/AAAAAAAAAAAAAAAAAADwPwAAAAAAAPA/",
           "dtype": "f8",
           "shape": "5, 3"
          },
          "size": 1
         },
         "mode": "markers",
         "type": "scatter3d",
         "x": {
          "bdata": "AAAAIFW0UkAAAADA1WFUQAAAAIBvOFVAAAAAAH6qSUAAAACAsVdLQA==",
          "dtype": "f8"
         },
         "y": {
          "bdata": "AAAAYI+Ac8AAAACgXwBzwAAAAEAHGHLAAAAAQLUTc8AAAADgXCtywA==",
          "dtype": "f8"
         },
         "z": {
          "bdata": "AAAAAKimaEAAAADgyiJlQAAAAMDOhGZAAAAAIG56ZkAAAAAActxnQA==",
          "dtype": "f8"
         }
        },
        {
         "mode": "lines",
         "type": "scatter3d",
         "x": [
          157.0810089111328,
          145.24232482910156,
          null,
          157.0810089111328,
          156.329345703125,
          null,
          157.0810089111328,
          129.9894561767578,
          null,
          157.0810089111328,
          141.0764617919922,
          null,
          145.24232482910156,
          156.329345703125,
          null,
          145.24232482910156,
          129.9894561767578,
          null,
          156.329345703125,
          141.0764617919922,
          null,
          129.9894561767578,
          141.0764617919922,
          null
         ],
         "y": [
          -339.26702880859375,
          -326.0517883300781,
          null,
          -339.26702880859375,
          -314.6386413574219,
          null,
          -339.26702880859375,
          -326.38330078125,
          null,
          -339.26702880859375,
          -314.97015380859375,
          null,
          -326.0517883300781,
          -314.6386413574219,
          null,
          -326.0517883300781,
          -326.38330078125,
          null,
          -314.6386413574219,
          -314.97015380859375,
          null,
          -326.38330078125,
          -314.97015380859375,
          null
         ],
         "z": [
          100.13700866699219,
          75.94603729248047,
          null,
          100.13700866699219,
          83.02333068847656,
          null,
          100.13700866699219,
          100.37519073486328,
          null,
          100.13700866699219,
          107.45247650146484,
          null,
          75.94603729248047,
          83.02333068847656,
          null,
          75.94603729248047,
          100.37519073486328,
          null,
          83.02333068847656,
          107.45247650146484,
          null,
          100.37519073486328,
          107.45247650146484,
          null
         ]
        },
        {
         "marker": {
          "color": {
           "bdata": "AAAAAAAA8D8AAAAAAAAAAAAAAAAAAAAAAAAAAAAAAAAAAAAAAAAAAAAAAAAAAAAAAAAAAAAAAAAAAAAAAADwPwAAAAAAAAAAAAAAAAAAAAAAAAAAAAAAAAAAAAAAAPA/AAAAAAAAAAAAAAAAAADwPwAAAAAAAPA/",
           "dtype": "f8",
           "shape": "5, 3"
          },
          "size": 1
         },
         "mode": "markers",
         "type": "scatter3d",
         "x": {
          "bdata": "AAAAoJeiY0AAAAAgwSdiQAAAAACKimNAAAAAoKk/YEAAAABgcqJhQA==",
          "dtype": "f8"
         },
         "y": {
          "bdata": "AAAAwEU0dcAAAAAg1GB0wAAAAOA3qnPAAAAAACJmdMAAAADAha9zwA==",
          "dtype": "f8"
         },
         "z": {
          "bdata": "AAAAwMQIWUAAAADgi/xSQAAAAEB+wVRAAAAAIAMYWUAAAABg9dxaQA==",
          "dtype": "f8"
         }
        },
        {
         "mode": "lines",
         "type": "scatter3d",
         "x": [
          210.09698486328125,
          185.12374877929688,
          null,
          210.09698486328125,
          197.1797332763672,
          null,
          210.09698486328125,
          186.84353637695312,
          null,
          210.09698486328125,
          198.89952087402344,
          null,
          185.12374877929688,
          197.1797332763672,
          null,
          185.12374877929688,
          186.84353637695312,
          null,
          197.1797332763672,
          198.89952087402344,
          null,
          186.84353637695312,
          198.89952087402344,
          null
         ],
         "y": [
          -312.46197509765625,
          -305.0785217285156,
          null,
          -312.46197509765625,
          -290.5391845703125,
          null,
          -312.46197509765625,
          -304.3083801269531,
          null,
          -312.46197509765625,
          -289.76904296875,
          null,
          -305.0785217285156,
          -290.5391845703125,
          null,
          -305.0785217285156,
          -304.3083801269531,
          null,
          -290.5391845703125,
          -289.76904296875,
          null,
          -304.3083801269531,
          -289.76904296875,
          null
         ],
         "z": [
          -10.4266996383667,
          -25.320402145385742,
          null,
          -10.4266996383667,
          -26.318090438842773,
          null,
          -10.4266996383667,
          6.684584617614746,
          null,
          -10.4266996383667,
          5.686896324157715,
          null,
          -25.320402145385742,
          -26.318090438842773,
          null,
          -25.320402145385742,
          6.684584617614746,
          null,
          -26.318090438842773,
          5.686896324157715,
          null,
          6.684584617614746,
          5.686896324157715,
          null
         ]
        },
        {
         "marker": {
          "color": {
           "bdata": "AAAAAAAA8D8AAAAAAAAAAAAAAAAAAAAAAAAAAAAAAAAAAAAAAAAAAAAAAAAAAAAAAAAAAAAAAAAAAAAAAADwPwAAAAAAAAAAAAAAAAAAAAAAAAAAAAAAAAAAAAAAAPA/AAAAAAAAAAAAAAAAAADwPwAAAAAAAPA/",
           "dtype": "f8",
           "shape": "5, 3"
          },
          "size": 1
         },
         "mode": "markers",
         "type": "scatter3d",
         "x": {
          "bdata": "AAAAgBpDakAAAADA9SNnQAAAAGDApWhAAAAAQP5aZ0AAAADgyNxoQA==",
          "dtype": "f8"
         },
         "y": {
          "bdata": "AAAAQGSHc8AAAACgQRFzwAAAAICgKHLAAAAAIO8Ec8AAAAAAThxywA==",
          "dtype": "f8"
         },
         "z": {
          "bdata": "AAAAYHjaJMAAAADgBVI5wAAAAGBuUTrAAAAAwAO9GkAAAADAYb8WQA==",
          "dtype": "f8"
         }
        }
       ],
       "layout": {
        "height": 400,
        "margin": {
         "b": 0,
         "l": 0,
         "r": 0,
         "t": 0
        },
        "scene": {
         "camera": {
          "center": {
           "x": 0,
           "y": 0,
           "z": 0
          },
          "up": {
           "x": 0,
           "y": 0,
           "z": 1
          }
         }
        },
        "showlegend": false,
        "template": {
         "data": {
          "bar": [
           {
            "error_x": {
             "color": "#2a3f5f"
            },
            "error_y": {
             "color": "#2a3f5f"
            },
            "marker": {
             "line": {
              "color": "#E5ECF6",
              "width": 0.5
             },
             "pattern": {
              "fillmode": "overlay",
              "size": 10,
              "solidity": 0.2
             }
            },
            "type": "bar"
           }
          ],
          "barpolar": [
           {
            "marker": {
             "line": {
              "color": "#E5ECF6",
              "width": 0.5
             },
             "pattern": {
              "fillmode": "overlay",
              "size": 10,
              "solidity": 0.2
             }
            },
            "type": "barpolar"
           }
          ],
          "carpet": [
           {
            "aaxis": {
             "endlinecolor": "#2a3f5f",
             "gridcolor": "white",
             "linecolor": "white",
             "minorgridcolor": "white",
             "startlinecolor": "#2a3f5f"
            },
            "baxis": {
             "endlinecolor": "#2a3f5f",
             "gridcolor": "white",
             "linecolor": "white",
             "minorgridcolor": "white",
             "startlinecolor": "#2a3f5f"
            },
            "type": "carpet"
           }
          ],
          "choropleth": [
           {
            "colorbar": {
             "outlinewidth": 0,
             "ticks": ""
            },
            "type": "choropleth"
           }
          ],
          "contour": [
           {
            "colorbar": {
             "outlinewidth": 0,
             "ticks": ""
            },
            "colorscale": [
             [
              0,
              "#0d0887"
             ],
             [
              0.1111111111111111,
              "#46039f"
             ],
             [
              0.2222222222222222,
              "#7201a8"
             ],
             [
              0.3333333333333333,
              "#9c179e"
             ],
             [
              0.4444444444444444,
              "#bd3786"
             ],
             [
              0.5555555555555556,
              "#d8576b"
             ],
             [
              0.6666666666666666,
              "#ed7953"
             ],
             [
              0.7777777777777778,
              "#fb9f3a"
             ],
             [
              0.8888888888888888,
              "#fdca26"
             ],
             [
              1,
              "#f0f921"
             ]
            ],
            "type": "contour"
           }
          ],
          "contourcarpet": [
           {
            "colorbar": {
             "outlinewidth": 0,
             "ticks": ""
            },
            "type": "contourcarpet"
           }
          ],
          "heatmap": [
           {
            "colorbar": {
             "outlinewidth": 0,
             "ticks": ""
            },
            "colorscale": [
             [
              0,
              "#0d0887"
             ],
             [
              0.1111111111111111,
              "#46039f"
             ],
             [
              0.2222222222222222,
              "#7201a8"
             ],
             [
              0.3333333333333333,
              "#9c179e"
             ],
             [
              0.4444444444444444,
              "#bd3786"
             ],
             [
              0.5555555555555556,
              "#d8576b"
             ],
             [
              0.6666666666666666,
              "#ed7953"
             ],
             [
              0.7777777777777778,
              "#fb9f3a"
             ],
             [
              0.8888888888888888,
              "#fdca26"
             ],
             [
              1,
              "#f0f921"
             ]
            ],
            "type": "heatmap"
           }
          ],
          "histogram": [
           {
            "marker": {
             "pattern": {
              "fillmode": "overlay",
              "size": 10,
              "solidity": 0.2
             }
            },
            "type": "histogram"
           }
          ],
          "histogram2d": [
           {
            "colorbar": {
             "outlinewidth": 0,
             "ticks": ""
            },
            "colorscale": [
             [
              0,
              "#0d0887"
             ],
             [
              0.1111111111111111,
              "#46039f"
             ],
             [
              0.2222222222222222,
              "#7201a8"
             ],
             [
              0.3333333333333333,
              "#9c179e"
             ],
             [
              0.4444444444444444,
              "#bd3786"
             ],
             [
              0.5555555555555556,
              "#d8576b"
             ],
             [
              0.6666666666666666,
              "#ed7953"
             ],
             [
              0.7777777777777778,
              "#fb9f3a"
             ],
             [
              0.8888888888888888,
              "#fdca26"
             ],
             [
              1,
              "#f0f921"
             ]
            ],
            "type": "histogram2d"
           }
          ],
          "histogram2dcontour": [
           {
            "colorbar": {
             "outlinewidth": 0,
             "ticks": ""
            },
            "colorscale": [
             [
              0,
              "#0d0887"
             ],
             [
              0.1111111111111111,
              "#46039f"
             ],
             [
              0.2222222222222222,
              "#7201a8"
             ],
             [
              0.3333333333333333,
              "#9c179e"
             ],
             [
              0.4444444444444444,
              "#bd3786"
             ],
             [
              0.5555555555555556,
              "#d8576b"
             ],
             [
              0.6666666666666666,
              "#ed7953"
             ],
             [
              0.7777777777777778,
              "#fb9f3a"
             ],
             [
              0.8888888888888888,
              "#fdca26"
             ],
             [
              1,
              "#f0f921"
             ]
            ],
            "type": "histogram2dcontour"
           }
          ],
          "mesh3d": [
           {
            "colorbar": {
             "outlinewidth": 0,
             "ticks": ""
            },
            "type": "mesh3d"
           }
          ],
          "parcoords": [
           {
            "line": {
             "colorbar": {
              "outlinewidth": 0,
              "ticks": ""
             }
            },
            "type": "parcoords"
           }
          ],
          "pie": [
           {
            "automargin": true,
            "type": "pie"
           }
          ],
          "scatter": [
           {
            "fillpattern": {
             "fillmode": "overlay",
             "size": 10,
             "solidity": 0.2
            },
            "type": "scatter"
           }
          ],
          "scatter3d": [
           {
            "line": {
             "colorbar": {
              "outlinewidth": 0,
              "ticks": ""
             }
            },
            "marker": {
             "colorbar": {
              "outlinewidth": 0,
              "ticks": ""
             }
            },
            "type": "scatter3d"
           }
          ],
          "scattercarpet": [
           {
            "marker": {
             "colorbar": {
              "outlinewidth": 0,
              "ticks": ""
             }
            },
            "type": "scattercarpet"
           }
          ],
          "scattergeo": [
           {
            "marker": {
             "colorbar": {
              "outlinewidth": 0,
              "ticks": ""
             }
            },
            "type": "scattergeo"
           }
          ],
          "scattergl": [
           {
            "marker": {
             "colorbar": {
              "outlinewidth": 0,
              "ticks": ""
             }
            },
            "type": "scattergl"
           }
          ],
          "scattermap": [
           {
            "marker": {
             "colorbar": {
              "outlinewidth": 0,
              "ticks": ""
             }
            },
            "type": "scattermap"
           }
          ],
          "scattermapbox": [
           {
            "marker": {
             "colorbar": {
              "outlinewidth": 0,
              "ticks": ""
             }
            },
            "type": "scattermapbox"
           }
          ],
          "scatterpolar": [
           {
            "marker": {
             "colorbar": {
              "outlinewidth": 0,
              "ticks": ""
             }
            },
            "type": "scatterpolar"
           }
          ],
          "scatterpolargl": [
           {
            "marker": {
             "colorbar": {
              "outlinewidth": 0,
              "ticks": ""
             }
            },
            "type": "scatterpolargl"
           }
          ],
          "scatterternary": [
           {
            "marker": {
             "colorbar": {
              "outlinewidth": 0,
              "ticks": ""
             }
            },
            "type": "scatterternary"
           }
          ],
          "surface": [
           {
            "colorbar": {
             "outlinewidth": 0,
             "ticks": ""
            },
            "colorscale": [
             [
              0,
              "#0d0887"
             ],
             [
              0.1111111111111111,
              "#46039f"
             ],
             [
              0.2222222222222222,
              "#7201a8"
             ],
             [
              0.3333333333333333,
              "#9c179e"
             ],
             [
              0.4444444444444444,
              "#bd3786"
             ],
             [
              0.5555555555555556,
              "#d8576b"
             ],
             [
              0.6666666666666666,
              "#ed7953"
             ],
             [
              0.7777777777777778,
              "#fb9f3a"
             ],
             [
              0.8888888888888888,
              "#fdca26"
             ],
             [
              1,
              "#f0f921"
             ]
            ],
            "type": "surface"
           }
          ],
          "table": [
           {
            "cells": {
             "fill": {
              "color": "#EBF0F8"
             },
             "line": {
              "color": "white"
             }
            },
            "header": {
             "fill": {
              "color": "#C8D4E3"
             },
             "line": {
              "color": "white"
             }
            },
            "type": "table"
           }
          ]
         },
         "layout": {
          "annotationdefaults": {
           "arrowcolor": "#2a3f5f",
           "arrowhead": 0,
           "arrowwidth": 1
          },
          "autotypenumbers": "strict",
          "coloraxis": {
           "colorbar": {
            "outlinewidth": 0,
            "ticks": ""
           }
          },
          "colorscale": {
           "diverging": [
            [
             0,
             "#8e0152"
            ],
            [
             0.1,
             "#c51b7d"
            ],
            [
             0.2,
             "#de77ae"
            ],
            [
             0.3,
             "#f1b6da"
            ],
            [
             0.4,
             "#fde0ef"
            ],
            [
             0.5,
             "#f7f7f7"
            ],
            [
             0.6,
             "#e6f5d0"
            ],
            [
             0.7,
             "#b8e186"
            ],
            [
             0.8,
             "#7fbc41"
            ],
            [
             0.9,
             "#4d9221"
            ],
            [
             1,
             "#276419"
            ]
           ],
           "sequential": [
            [
             0,
             "#0d0887"
            ],
            [
             0.1111111111111111,
             "#46039f"
            ],
            [
             0.2222222222222222,
             "#7201a8"
            ],
            [
             0.3333333333333333,
             "#9c179e"
            ],
            [
             0.4444444444444444,
             "#bd3786"
            ],
            [
             0.5555555555555556,
             "#d8576b"
            ],
            [
             0.6666666666666666,
             "#ed7953"
            ],
            [
             0.7777777777777778,
             "#fb9f3a"
            ],
            [
             0.8888888888888888,
             "#fdca26"
            ],
            [
             1,
             "#f0f921"
            ]
           ],
           "sequentialminus": [
            [
             0,
             "#0d0887"
            ],
            [
             0.1111111111111111,
             "#46039f"
            ],
            [
             0.2222222222222222,
             "#7201a8"
            ],
            [
             0.3333333333333333,
             "#9c179e"
            ],
            [
             0.4444444444444444,
             "#bd3786"
            ],
            [
             0.5555555555555556,
             "#d8576b"
            ],
            [
             0.6666666666666666,
             "#ed7953"
            ],
            [
             0.7777777777777778,
             "#fb9f3a"
            ],
            [
             0.8888888888888888,
             "#fdca26"
            ],
            [
             1,
             "#f0f921"
            ]
           ]
          },
          "colorway": [
           "#636efa",
           "#EF553B",
           "#00cc96",
           "#ab63fa",
           "#FFA15A",
           "#19d3f3",
           "#FF6692",
           "#B6E880",
           "#FF97FF",
           "#FECB52"
          ],
          "font": {
           "color": "#2a3f5f"
          },
          "geo": {
           "bgcolor": "white",
           "lakecolor": "white",
           "landcolor": "#E5ECF6",
           "showlakes": true,
           "showland": true,
           "subunitcolor": "white"
          },
          "hoverlabel": {
           "align": "left"
          },
          "hovermode": "closest",
          "mapbox": {
           "style": "light"
          },
          "paper_bgcolor": "white",
          "plot_bgcolor": "#E5ECF6",
          "polar": {
           "angularaxis": {
            "gridcolor": "white",
            "linecolor": "white",
            "ticks": ""
           },
           "bgcolor": "#E5ECF6",
           "radialaxis": {
            "gridcolor": "white",
            "linecolor": "white",
            "ticks": ""
           }
          },
          "scene": {
           "xaxis": {
            "backgroundcolor": "#E5ECF6",
            "gridcolor": "white",
            "gridwidth": 2,
            "linecolor": "white",
            "showbackground": true,
            "ticks": "",
            "zerolinecolor": "white"
           },
           "yaxis": {
            "backgroundcolor": "#E5ECF6",
            "gridcolor": "white",
            "gridwidth": 2,
            "linecolor": "white",
            "showbackground": true,
            "ticks": "",
            "zerolinecolor": "white"
           },
           "zaxis": {
            "backgroundcolor": "#E5ECF6",
            "gridcolor": "white",
            "gridwidth": 2,
            "linecolor": "white",
            "showbackground": true,
            "ticks": "",
            "zerolinecolor": "white"
           }
          },
          "shapedefaults": {
           "line": {
            "color": "#2a3f5f"
           }
          },
          "ternary": {
           "aaxis": {
            "gridcolor": "white",
            "linecolor": "white",
            "ticks": ""
           },
           "baxis": {
            "gridcolor": "white",
            "linecolor": "white",
            "ticks": ""
           },
           "bgcolor": "#E5ECF6",
           "caxis": {
            "gridcolor": "white",
            "linecolor": "white",
            "ticks": ""
           }
          },
          "title": {
           "x": 0.05
          },
          "xaxis": {
           "automargin": true,
           "gridcolor": "white",
           "linecolor": "white",
           "ticks": "",
           "title": {
            "standoff": 15
           },
           "zerolinecolor": "white",
           "zerolinewidth": 2
          },
          "yaxis": {
           "automargin": true,
           "gridcolor": "white",
           "linecolor": "white",
           "ticks": "",
           "title": {
            "standoff": 15
           },
           "zerolinecolor": "white",
           "zerolinewidth": 2
          }
         }
        },
        "width": 600
       }
      }
     },
     "metadata": {},
     "output_type": "display_data"
    }
   ],
   "source": [
    "rays = [pose_encoder._compute_view_rays(s.Kinv, s.R[:1], s.t[:1], (0, 0, 0, 0), s.shape[-2:]) for s in scene.videos]\n",
    "geometries = [i for o, d in rays for i in get_camera_geometry(o.cpu(), d.cpu(), d_multiplier=30)]\n",
    "\n",
    "# Also using point cloud bc for some reason colors in lines are not working\n",
    "draw_plotly(geometries)"
   ]
  },
  {
   "cell_type": "code",
   "execution_count": null,
   "metadata": {},
   "outputs": [
    {
     "data": {
      "text/plain": [
       "['res/tmp/panoptic/170307_dance6/hdVideos/hd_00_03_r.mp4',\n",
       " 'res/tmp/panoptic/170307_dance6/hdVideos/hd_00_00_r.mp4',\n",
       " 'res/tmp/panoptic/170307_dance6/hdVideos/hd_00_05_r.mp4',\n",
       " 'res/tmp/panoptic/170307_dance6/hdVideos/hd_00_06_r.mp4',\n",
       " 'res/tmp/panoptic/170307_dance6/hdVideos/hd_00_02_r.mp4',\n",
       " 'res/tmp/panoptic/170307_dance6/hdVideos/hd_00_07_r.mp4',\n",
       " 'res/tmp/panoptic/170307_dance6/hdVideos/hd_00_04_r.mp4',\n",
       " 'res/tmp/panoptic/170307_dance6/hdVideos/hd_00_01_r.mp4']"
      ]
     },
     "execution_count": 21,
     "metadata": {},
     "output_type": "execute_result"
    }
   ],
   "source": [
    "[i[0] for i in dataset_panoptic.scenes[0]]\n",
    "\n",
    "# it is the 170307_dance6 dataset\n",
    "# The cameras match with the positions in the plot"
   ]
  },
  {
   "cell_type": "markdown",
   "metadata": {},
   "source": [
    "### DVST"
   ]
  },
  {
   "cell_type": "markdown",
   "metadata": {},
   "source": [
    "Transformer"
   ]
  },
  {
   "cell_type": "code",
   "execution_count": null,
   "metadata": {},
   "outputs": [
    {
     "data": {
      "text/plain": [
       "torch.Size([1, 32])"
      ]
     },
     "execution_count": 22,
     "metadata": {},
     "output_type": "execute_result"
    }
   ],
   "source": [
    "import torch\n",
    "import torch.nn as nn\n",
    "import src.model.transformer as t\n",
    "\n",
    "a = t.Encoder(2, 32, 4, 4, True, 1e-5, 0.1, nn.GELU).to(torch.bfloat16).cuda()\n",
    "a.forward(torch.rand([1, 32]).to(torch.bfloat16).cuda()).shape"
   ]
  },
  {
   "cell_type": "markdown",
   "metadata": {},
   "source": [
    "DVST"
   ]
  },
  {
   "cell_type": "code",
   "execution_count": null,
   "metadata": {},
   "outputs": [],
   "source": [
    "model = DVST(config=config.model).to(device)\n"
   ]
  },
  {
   "cell_type": "code",
   "execution_count": null,
   "metadata": {},
   "outputs": [
    {
     "name": "stdout",
     "output_type": "stream",
     "text": [
      "Total params: 7.87M; Trainable params: 7.87M\n"
     ]
    }
   ],
   "source": [
    "from src.utils import get_num_params\n",
    "\n",
    "get_num_params(model)\n"
   ]
  },
  {
   "cell_type": "code",
   "execution_count": null,
   "metadata": {},
   "outputs": [
    {
     "data": {
      "text/plain": [
       "{'sources': [{'video': <torchcodec.decoders._video_decoder.VideoDecoder at 0x7f22e15b6a80>,\n",
       "   'K': tensor([[1.6547e+03, 0.0000e+00, 9.6000e+02],\n",
       "           [0.0000e+00, 1.5388e+03, 5.4000e+02],\n",
       "           [0.0000e+00, 0.0000e+00, 1.0000e+00]], device='cuda:0'),\n",
       "   'Kinv': tensor([[ 6.0433e-04,  0.0000e+00, -5.8016e-01],\n",
       "           [ 0.0000e+00,  6.4986e-04, -3.5093e-01],\n",
       "           [ 0.0000e+00,  0.0000e+00,  1.0000e+00]], device='cuda:0'),\n",
       "   'R': tensor([[[-0.5296, -0.0115,  0.8482],\n",
       "            [ 0.6366,  0.6554,  0.4064],\n",
       "            [-0.5606,  0.7552, -0.3397]]], device='cuda:0'),\n",
       "   't': tensor([[ -5.6521,  81.6465, 378.2934]], device='cuda:0'),\n",
       "   'time': tensor([0.0000e+00, 3.3367e-02, 6.6733e-02,  ..., 2.0254e+02, 2.0257e+02,\n",
       "           2.0260e+02], device='cuda:0'),\n",
       "   'shape': torch.Size([6073, 3, 1080, 1920])},\n",
       "  {'video': <torchcodec.decoders._video_decoder.VideoDecoder at 0x7f22c960cb60>,\n",
       "   'K': tensor([[1.4302e+03, 0.0000e+00, 9.6000e+02],\n",
       "           [0.0000e+00, 1.3539e+03, 5.4000e+02],\n",
       "           [0.0000e+00, 0.0000e+00, 1.0000e+00]], device='cuda:0'),\n",
       "   'Kinv': tensor([[ 6.9920e-04,  0.0000e+00, -6.7124e-01],\n",
       "           [ 0.0000e+00,  7.3858e-04, -3.9883e-01],\n",
       "           [ 0.0000e+00,  0.0000e+00,  1.0000e+00]], device='cuda:0'),\n",
       "   'R': tensor([[[-0.9970,  0.0545, -0.0555],\n",
       "            [-0.0107,  0.6108,  0.7917],\n",
       "            [ 0.0771,  0.7899, -0.6084]]], device='cuda:0'),\n",
       "   't': tensor([[-17.6922,  64.0220, 380.7844]], device='cuda:0'),\n",
       "   'time': tensor([0.0000e+00, 3.3367e-02, 6.6733e-02,  ..., 2.0254e+02, 2.0257e+02,\n",
       "           2.0260e+02], device='cuda:0'),\n",
       "   'shape': torch.Size([6073, 3, 1080, 1920])}],\n",
       " 'queries': [{'video': <torchcodec.decoders._video_decoder.VideoDecoder at 0x7f22c960c9e0>,\n",
       "   'K': tensor([[1.4083e+03, 0.0000e+00, 9.6000e+02],\n",
       "           [0.0000e+00, 1.3423e+03, 5.4000e+02],\n",
       "           [0.0000e+00, 0.0000e+00, 1.0000e+00]], device='cuda:0'),\n",
       "   'Kinv': tensor([[ 7.1006e-04,  0.0000e+00, -6.8166e-01],\n",
       "           [ 0.0000e+00,  7.4501e-04, -4.0230e-01],\n",
       "           [ 0.0000e+00,  0.0000e+00,  1.0000e+00]], device='cuda:0'),\n",
       "   'R': tensor([[[ 0.0536,  0.0240,  0.9983],\n",
       "            [ 0.6374,  0.7687, -0.0527],\n",
       "            [-0.7687,  0.6391,  0.0259]]], device='cuda:0'),\n",
       "   't': tensor([[  6.6445, 105.7245, 361.4694]], device='cuda:0'),\n",
       "   'time': tensor([0.0000e+00, 3.3367e-02, 6.6733e-02,  ..., 2.0254e+02, 2.0257e+02,\n",
       "           2.0260e+02], device='cuda:0'),\n",
       "   'shape': torch.Size([6073, 3, 1080, 1920])},\n",
       "  {'video': <torchcodec.decoders._video_decoder.VideoDecoder at 0x7f22c960cdd0>,\n",
       "   'K': tensor([[1.4118e+03, 0.0000e+00, 9.6000e+02],\n",
       "           [0.0000e+00, 1.3716e+03, 5.4000e+02],\n",
       "           [0.0000e+00, 0.0000e+00, 1.0000e+00]], device='cuda:0'),\n",
       "   'Kinv': tensor([[ 7.0833e-04,  0.0000e+00, -6.8000e-01],\n",
       "           [ 0.0000e+00,  7.2906e-04, -3.9369e-01],\n",
       "           [ 0.0000e+00,  0.0000e+00,  1.0000e+00]], device='cuda:0'),\n",
       "   'R': tensor([[[-0.9415, -0.0377,  0.3348],\n",
       "            [ 0.1807,  0.7824,  0.5960],\n",
       "            [-0.2844,  0.6217, -0.7298]]], device='cuda:0'),\n",
       "   't': tensor([[ -7.3450, 113.0683, 359.1882]], device='cuda:0'),\n",
       "   'time': tensor([0.0000e+00, 3.3367e-02, 6.6733e-02,  ..., 2.0254e+02, 2.0257e+02,\n",
       "           2.0260e+02], device='cuda:0'),\n",
       "   'shape': torch.Size([6073, 3, 1080, 1920])},\n",
       "  {'video': <torchcodec.decoders._video_decoder.VideoDecoder at 0x7f22c95a5730>,\n",
       "   'K': tensor([[1.4107e+03, 0.0000e+00, 9.6000e+02],\n",
       "           [0.0000e+00, 1.3299e+03, 5.4000e+02],\n",
       "           [0.0000e+00, 0.0000e+00, 1.0000e+00]], device='cuda:0'),\n",
       "   'Kinv': tensor([[ 7.0888e-04,  0.0000e+00, -6.8053e-01],\n",
       "           [ 0.0000e+00,  7.5194e-04, -4.0605e-01],\n",
       "           [ 0.0000e+00,  0.0000e+00,  1.0000e+00]], device='cuda:0'),\n",
       "   'R': tensor([[[-0.6212, -0.0284,  0.7832],\n",
       "            [ 0.0751,  0.9926,  0.0955],\n",
       "            [-0.7801,  0.1182, -0.6144]]], device='cuda:0'),\n",
       "   't': tensor([[-15.3971, 117.3840, 288.2436]], device='cuda:0'),\n",
       "   'time': tensor([0.0000e+00, 3.3367e-02, 6.6733e-02,  ..., 2.0254e+02, 2.0257e+02,\n",
       "           2.0260e+02], device='cuda:0'),\n",
       "   'shape': torch.Size([6073, 3, 1080, 1920])},\n",
       "  {'video': <torchcodec.decoders._video_decoder.VideoDecoder at 0x7f22e15b4920>,\n",
       "   'K': tensor([[1.4357e+03, 0.0000e+00, 9.6000e+02],\n",
       "           [0.0000e+00, 1.3433e+03, 5.4000e+02],\n",
       "           [0.0000e+00, 0.0000e+00, 1.0000e+00]], device='cuda:0'),\n",
       "   'Kinv': tensor([[ 6.9655e-04,  0.0000e+00, -6.6869e-01],\n",
       "           [ 0.0000e+00,  7.4443e-04, -4.0199e-01],\n",
       "           [ 0.0000e+00,  0.0000e+00,  1.0000e+00]], device='cuda:0'),\n",
       "   'R': tensor([[[-0.9317, -0.0109, -0.3631],\n",
       "            [-0.0217,  0.9994,  0.0257],\n",
       "            [ 0.3626,  0.0318, -0.9314]]], device='cuda:0'),\n",
       "   't': tensor([[ -8.1925, 143.5502, 280.5694]], device='cuda:0'),\n",
       "   'time': tensor([0.0000e+00, 3.3367e-02, 6.6733e-02,  ..., 2.0254e+02, 2.0257e+02,\n",
       "           2.0260e+02], device='cuda:0'),\n",
       "   'shape': torch.Size([6073, 3, 1080, 1920])},\n",
       "  {'video': <torchcodec.decoders._video_decoder.VideoDecoder at 0x7f22e15b4aa0>,\n",
       "   'K': tensor([[1.6629e+03, 0.0000e+00, 9.6000e+02],\n",
       "           [0.0000e+00, 1.5779e+03, 5.4000e+02],\n",
       "           [0.0000e+00, 0.0000e+00, 1.0000e+00]], device='cuda:0'),\n",
       "   'Kinv': tensor([[ 6.0134e-04,  0.0000e+00, -5.7729e-01],\n",
       "           [ 0.0000e+00,  6.3377e-04, -3.4223e-01],\n",
       "           [ 0.0000e+00,  0.0000e+00,  1.0000e+00]], device='cuda:0'),\n",
       "   'R': tensor([[[ 0.1356,  0.0332, -0.9902],\n",
       "            [-0.0915,  0.9956,  0.0208],\n",
       "            [ 0.9865,  0.0878,  0.1381]]], device='cuda:0'),\n",
       "   't': tensor([[ 20.3223, 126.5647, 284.8756]], device='cuda:0'),\n",
       "   'time': tensor([0.0000e+00, 3.3367e-02, 6.6733e-02,  ..., 2.0254e+02, 2.0257e+02,\n",
       "           2.0260e+02], device='cuda:0'),\n",
       "   'shape': torch.Size([6073, 3, 1080, 1920])},\n",
       "  {'video': <torchcodec.decoders._video_decoder.VideoDecoder at 0x7f22c960e7b0>,\n",
       "   'K': tensor([[1.4097e+03, 0.0000e+00, 9.6000e+02],\n",
       "           [0.0000e+00, 1.3722e+03, 5.4000e+02],\n",
       "           [0.0000e+00, 0.0000e+00, 1.0000e+00]], device='cuda:0'),\n",
       "   'Kinv': tensor([[ 7.0936e-04,  0.0000e+00, -6.8099e-01],\n",
       "           [ 0.0000e+00,  7.2874e-04, -3.9352e-01],\n",
       "           [ 0.0000e+00,  0.0000e+00,  1.0000e+00]], device='cuda:0'),\n",
       "   'R': tensor([[[ 0.9448, -0.0489, -0.3241],\n",
       "            [-0.2141,  0.6567, -0.7231],\n",
       "            [ 0.2482,  0.7526,  0.6100]]], device='cuda:0'),\n",
       "   't': tensor([[ -8.3128,  83.8591, 377.3930]], device='cuda:0'),\n",
       "   'time': tensor([0.0000e+00, 3.3367e-02, 6.6733e-02,  ..., 2.0254e+02, 2.0257e+02,\n",
       "           2.0260e+02], device='cuda:0'),\n",
       "   'shape': torch.Size([6073, 3, 1080, 1920])},\n",
       "  {'video': <torchcodec.decoders._video_decoder.VideoDecoder at 0x7f22e15b6a80>,\n",
       "   'K': tensor([[1.6547e+03, 0.0000e+00, 9.6000e+02],\n",
       "           [0.0000e+00, 1.5388e+03, 5.4000e+02],\n",
       "           [0.0000e+00, 0.0000e+00, 1.0000e+00]], device='cuda:0'),\n",
       "   'Kinv': tensor([[ 6.0433e-04,  0.0000e+00, -5.8016e-01],\n",
       "           [ 0.0000e+00,  6.4986e-04, -3.5093e-01],\n",
       "           [ 0.0000e+00,  0.0000e+00,  1.0000e+00]], device='cuda:0'),\n",
       "   'R': tensor([[[-0.5296, -0.0115,  0.8482],\n",
       "            [ 0.6366,  0.6554,  0.4064],\n",
       "            [-0.5606,  0.7552, -0.3397]]], device='cuda:0'),\n",
       "   't': tensor([[ -5.6521,  81.6465, 378.2934]], device='cuda:0'),\n",
       "   'time': tensor([0.0000e+00, 3.3367e-02, 6.6733e-02,  ..., 2.0254e+02, 2.0257e+02,\n",
       "           2.0260e+02], device='cuda:0'),\n",
       "   'shape': torch.Size([6073, 3, 1080, 1920])},\n",
       "  {'video': <torchcodec.decoders._video_decoder.VideoDecoder at 0x7f22c960cb60>,\n",
       "   'K': tensor([[1.4302e+03, 0.0000e+00, 9.6000e+02],\n",
       "           [0.0000e+00, 1.3539e+03, 5.4000e+02],\n",
       "           [0.0000e+00, 0.0000e+00, 1.0000e+00]], device='cuda:0'),\n",
       "   'Kinv': tensor([[ 6.9920e-04,  0.0000e+00, -6.7124e-01],\n",
       "           [ 0.0000e+00,  7.3858e-04, -3.9883e-01],\n",
       "           [ 0.0000e+00,  0.0000e+00,  1.0000e+00]], device='cuda:0'),\n",
       "   'R': tensor([[[-0.9970,  0.0545, -0.0555],\n",
       "            [-0.0107,  0.6108,  0.7917],\n",
       "            [ 0.0771,  0.7899, -0.6084]]], device='cuda:0'),\n",
       "   't': tensor([[-17.6922,  64.0220, 380.7844]], device='cuda:0'),\n",
       "   'time': tensor([0.0000e+00, 3.3367e-02, 6.6733e-02,  ..., 2.0254e+02, 2.0257e+02,\n",
       "           2.0260e+02], device='cuda:0'),\n",
       "   'shape': torch.Size([6073, 3, 1080, 1920])}],\n",
       " 'targets': [<torchcodec.decoders._video_decoder.VideoDecoder at 0x7f22c960c9e0>,\n",
       "  <torchcodec.decoders._video_decoder.VideoDecoder at 0x7f22c960cdd0>,\n",
       "  <torchcodec.decoders._video_decoder.VideoDecoder at 0x7f22c95a5730>,\n",
       "  <torchcodec.decoders._video_decoder.VideoDecoder at 0x7f22e15b4920>,\n",
       "  <torchcodec.decoders._video_decoder.VideoDecoder at 0x7f22e15b4aa0>,\n",
       "  <torchcodec.decoders._video_decoder.VideoDecoder at 0x7f22c960e7b0>,\n",
       "  <torchcodec.decoders._video_decoder.VideoDecoder at 0x7f22e15b6a80>,\n",
       "  <torchcodec.decoders._video_decoder.VideoDecoder at 0x7f22c960cb60>],\n",
       " 'n_frames': 6073}"
      ]
     },
     "execution_count": 25,
     "metadata": {},
     "output_type": "execute_result"
    }
   ],
   "source": [
    "s = preprocess_scene_videos(dataset_full[0], device)\n",
    "s"
   ]
  },
  {
   "cell_type": "markdown",
   "metadata": {},
   "source": [
    "Model gets out of memory really fast, so the grads should be computed after computing each target frame"
   ]
  },
  {
   "cell_type": "code",
   "execution_count": null,
   "metadata": {},
   "outputs": [
    {
     "data": {
      "text/plain": [
       "torch.Size([20, 3, 64, 64])"
      ]
     },
     "execution_count": 26,
     "metadata": {},
     "output_type": "execute_result"
    }
   ],
   "source": [
    "s.n_frames = 20\n",
    "\n",
    "for i in s.sources:\n",
    "    i.video = i.video[:s.n_frames][:, :, :64, :64]\n",
    "    i.shape = torch.Size((s.n_frames, 3, 64, 64))\n",
    "for i in s.queries:\n",
    "    i.video = i.video[:s.n_frames][:, :, :64, :64]\n",
    "    i.shape = torch.Size((s.n_frames, 3, 64, 64))\n",
    "for i in range(len(s.targets)):\n",
    "    s.targets[i] = s.targets[i][:s.n_frames][:, :, :64, :64]\n",
    "\n",
    "s.sources[0].video.shape"
   ]
  },
  {
   "cell_type": "code",
   "execution_count": null,
   "metadata": {},
   "outputs": [
    {
     "ename": "OutOfMemoryError",
     "evalue": "CUDA out of memory. Tried to allocate 2.00 MiB. GPU 0 has a total capacity of 7.62 GiB of which 83.00 MiB is free. Including non-PyTorch memory, this process has 5.83 GiB memory in use. Of the allocated memory 4.17 GiB is allocated by PyTorch, and 36.74 MiB is reserved by PyTorch but unallocated. If reserved but unallocated memory is large try setting PYTORCH_CUDA_ALLOC_CONF=expandable_segments:True to avoid fragmentation.  See documentation for Memory Management  (https://pytorch.org/docs/stable/notes/cuda.html#environment-variables)",
     "output_type": "error",
     "traceback": [
      "\u001b[0;31m---------------------------------------------------------------------------\u001b[0m",
      "\u001b[0;31mOutOfMemoryError\u001b[0m                          Traceback (most recent call last)",
      "Cell \u001b[0;32mIn[27], line 2\u001b[0m\n\u001b[1;32m      1\u001b[0m \u001b[38;5;28;01mwith\u001b[39;00m amp\u001b[38;5;241m.\u001b[39mautocast(device_type\u001b[38;5;241m=\u001b[39mdevice, dtype\u001b[38;5;241m=\u001b[39mtorch\u001b[38;5;241m.\u001b[39mbfloat16):\n\u001b[0;32m----> 2\u001b[0m     out \u001b[38;5;241m=\u001b[39m \u001b[43mmodel\u001b[49m\u001b[43m(\u001b[49m\u001b[43ms\u001b[49m\u001b[43m)\u001b[49m\n\u001b[1;32m      3\u001b[0m out[\u001b[38;5;241m0\u001b[39m]\u001b[38;5;241m.\u001b[39mshape\n",
      "File \u001b[0;32m/usr/local/lib/python3.12/dist-packages/torch/nn/modules/module.py:1751\u001b[0m, in \u001b[0;36mModule._wrapped_call_impl\u001b[0;34m(self, *args, **kwargs)\u001b[0m\n\u001b[1;32m   1749\u001b[0m     \u001b[38;5;28;01mreturn\u001b[39;00m \u001b[38;5;28mself\u001b[39m\u001b[38;5;241m.\u001b[39m_compiled_call_impl(\u001b[38;5;241m*\u001b[39margs, \u001b[38;5;241m*\u001b[39m\u001b[38;5;241m*\u001b[39mkwargs)  \u001b[38;5;66;03m# type: ignore[misc]\u001b[39;00m\n\u001b[1;32m   1750\u001b[0m \u001b[38;5;28;01melse\u001b[39;00m:\n\u001b[0;32m-> 1751\u001b[0m     \u001b[38;5;28;01mreturn\u001b[39;00m \u001b[38;5;28;43mself\u001b[39;49m\u001b[38;5;241;43m.\u001b[39;49m\u001b[43m_call_impl\u001b[49m\u001b[43m(\u001b[49m\u001b[38;5;241;43m*\u001b[39;49m\u001b[43margs\u001b[49m\u001b[43m,\u001b[49m\u001b[43m \u001b[49m\u001b[38;5;241;43m*\u001b[39;49m\u001b[38;5;241;43m*\u001b[39;49m\u001b[43mkwargs\u001b[49m\u001b[43m)\u001b[49m\n",
      "File \u001b[0;32m/usr/local/lib/python3.12/dist-packages/torch/nn/modules/module.py:1762\u001b[0m, in \u001b[0;36mModule._call_impl\u001b[0;34m(self, *args, **kwargs)\u001b[0m\n\u001b[1;32m   1757\u001b[0m \u001b[38;5;66;03m# If we don't have any hooks, we want to skip the rest of the logic in\u001b[39;00m\n\u001b[1;32m   1758\u001b[0m \u001b[38;5;66;03m# this function, and just call forward.\u001b[39;00m\n\u001b[1;32m   1759\u001b[0m \u001b[38;5;28;01mif\u001b[39;00m \u001b[38;5;129;01mnot\u001b[39;00m (\u001b[38;5;28mself\u001b[39m\u001b[38;5;241m.\u001b[39m_backward_hooks \u001b[38;5;129;01mor\u001b[39;00m \u001b[38;5;28mself\u001b[39m\u001b[38;5;241m.\u001b[39m_backward_pre_hooks \u001b[38;5;129;01mor\u001b[39;00m \u001b[38;5;28mself\u001b[39m\u001b[38;5;241m.\u001b[39m_forward_hooks \u001b[38;5;129;01mor\u001b[39;00m \u001b[38;5;28mself\u001b[39m\u001b[38;5;241m.\u001b[39m_forward_pre_hooks\n\u001b[1;32m   1760\u001b[0m         \u001b[38;5;129;01mor\u001b[39;00m _global_backward_pre_hooks \u001b[38;5;129;01mor\u001b[39;00m _global_backward_hooks\n\u001b[1;32m   1761\u001b[0m         \u001b[38;5;129;01mor\u001b[39;00m _global_forward_hooks \u001b[38;5;129;01mor\u001b[39;00m _global_forward_pre_hooks):\n\u001b[0;32m-> 1762\u001b[0m     \u001b[38;5;28;01mreturn\u001b[39;00m \u001b[43mforward_call\u001b[49m\u001b[43m(\u001b[49m\u001b[38;5;241;43m*\u001b[39;49m\u001b[43margs\u001b[49m\u001b[43m,\u001b[49m\u001b[43m \u001b[49m\u001b[38;5;241;43m*\u001b[39;49m\u001b[38;5;241;43m*\u001b[39;49m\u001b[43mkwargs\u001b[49m\u001b[43m)\u001b[49m\n\u001b[1;32m   1764\u001b[0m result \u001b[38;5;241m=\u001b[39m \u001b[38;5;28;01mNone\u001b[39;00m\n\u001b[1;32m   1765\u001b[0m called_always_called_hooks \u001b[38;5;241m=\u001b[39m \u001b[38;5;28mset\u001b[39m()\n",
      "File \u001b[0;32m~/Projects/tcc files/dvst/src/model/model.py:52\u001b[0m, in \u001b[0;36mDVST.forward\u001b[0;34m(self, scene)\u001b[0m\n\u001b[1;32m     50\u001b[0m \u001b[38;5;28;01mdef\u001b[39;00m \u001b[38;5;21mforward\u001b[39m(\u001b[38;5;28mself\u001b[39m, scene):\n\u001b[1;32m     51\u001b[0m     latent_embeds \u001b[38;5;241m=\u001b[39m \u001b[38;5;28mself\u001b[39m\u001b[38;5;241m.\u001b[39mcreate_scene_latents(scene\u001b[38;5;241m.\u001b[39msources, scene\u001b[38;5;241m.\u001b[39mn_frames)\n\u001b[0;32m---> 52\u001b[0m     I \u001b[38;5;241m=\u001b[39m \u001b[38;5;28;43mself\u001b[39;49m\u001b[38;5;241;43m.\u001b[39;49m\u001b[43mget_frames\u001b[49m\u001b[43m(\u001b[49m\u001b[43mlatent_embeds\u001b[49m\u001b[43m,\u001b[49m\u001b[43m \u001b[49m\u001b[43mscene\u001b[49m\u001b[38;5;241;43m.\u001b[39;49m\u001b[43mqueries\u001b[49m\u001b[43m,\u001b[49m\u001b[43m \u001b[49m\u001b[43mscene\u001b[49m\u001b[38;5;241;43m.\u001b[39;49m\u001b[43mn_frames\u001b[49m\u001b[43m)\u001b[49m\n\u001b[1;32m     53\u001b[0m     \u001b[38;5;28;01mreturn\u001b[39;00m I\n",
      "File \u001b[0;32m~/Projects/tcc files/dvst/src/model/model.py:43\u001b[0m, in \u001b[0;36mDVST.get_frames\u001b[0;34m(self, latent_embeds, queries, n_frames)\u001b[0m\n\u001b[1;32m     39\u001b[0m         hw \u001b[38;5;241m=\u001b[39m v\u001b[38;5;241m.\u001b[39mshape[\u001b[38;5;241m-\u001b[39m\u001b[38;5;241m2\u001b[39m:]\n\u001b[1;32m     41\u001b[0m         \u001b[38;5;66;03m# a = self.get_frame(latent_embeds, Kinv, R, t, time, hw)\u001b[39;00m\n\u001b[1;32m     42\u001b[0m         \u001b[38;5;66;03m# print(a.shape)\u001b[39;00m\n\u001b[0;32m---> 43\u001b[0m         video\u001b[38;5;241m.\u001b[39mappend(\u001b[38;5;28;43mself\u001b[39;49m\u001b[38;5;241;43m.\u001b[39;49m\u001b[43mget_frame\u001b[49m\u001b[43m(\u001b[49m\u001b[43mlatent_embeds\u001b[49m\u001b[43m,\u001b[49m\u001b[43m \u001b[49m\u001b[43mKinv\u001b[49m\u001b[43m,\u001b[49m\u001b[43m \u001b[49m\u001b[43mR\u001b[49m\u001b[43m,\u001b[49m\u001b[43m \u001b[49m\u001b[43mt\u001b[49m\u001b[43m,\u001b[49m\u001b[43m \u001b[49m\u001b[43mtime\u001b[49m\u001b[43m,\u001b[49m\u001b[43m \u001b[49m\u001b[43mhw\u001b[49m\u001b[43m)\u001b[49m)\n\u001b[1;32m     45\u001b[0m     videos\u001b[38;5;241m.\u001b[39mappend(torch\u001b[38;5;241m.\u001b[39mconcat(video))\n\u001b[1;32m     47\u001b[0m \u001b[38;5;28;01mreturn\u001b[39;00m videos\n",
      "File \u001b[0;32m~/Projects/tcc files/dvst/src/model/model.py:28\u001b[0m, in \u001b[0;36mDVST.get_frame\u001b[0;34m(self, latent_embeds, Kinv, R, t, time, hw)\u001b[0m\n\u001b[1;32m     27\u001b[0m \u001b[38;5;28;01mdef\u001b[39;00m \u001b[38;5;21mget_frame\u001b[39m(\u001b[38;5;28mself\u001b[39m, latent_embeds, Kinv, R, t, time, hw):\n\u001b[0;32m---> 28\u001b[0m     \u001b[38;5;28;01mreturn\u001b[39;00m \u001b[38;5;28;43mself\u001b[39;49m\u001b[38;5;241;43m.\u001b[39;49m\u001b[43mdecoder\u001b[49m\u001b[43m(\u001b[49m\u001b[43mlatent_embeds\u001b[49m\u001b[43m,\u001b[49m\u001b[43m \u001b[49m\u001b[43mKinv\u001b[49m\u001b[43m,\u001b[49m\u001b[43m \u001b[49m\u001b[43mR\u001b[49m\u001b[43m,\u001b[49m\u001b[43m \u001b[49m\u001b[43mt\u001b[49m\u001b[43m,\u001b[49m\u001b[43m \u001b[49m\u001b[43mtime\u001b[49m\u001b[43m,\u001b[49m\u001b[43m \u001b[49m\u001b[43mhw\u001b[49m\u001b[43m)\u001b[49m\n",
      "File \u001b[0;32m/usr/local/lib/python3.12/dist-packages/torch/nn/modules/module.py:1751\u001b[0m, in \u001b[0;36mModule._wrapped_call_impl\u001b[0;34m(self, *args, **kwargs)\u001b[0m\n\u001b[1;32m   1749\u001b[0m     \u001b[38;5;28;01mreturn\u001b[39;00m \u001b[38;5;28mself\u001b[39m\u001b[38;5;241m.\u001b[39m_compiled_call_impl(\u001b[38;5;241m*\u001b[39margs, \u001b[38;5;241m*\u001b[39m\u001b[38;5;241m*\u001b[39mkwargs)  \u001b[38;5;66;03m# type: ignore[misc]\u001b[39;00m\n\u001b[1;32m   1750\u001b[0m \u001b[38;5;28;01melse\u001b[39;00m:\n\u001b[0;32m-> 1751\u001b[0m     \u001b[38;5;28;01mreturn\u001b[39;00m \u001b[38;5;28;43mself\u001b[39;49m\u001b[38;5;241;43m.\u001b[39;49m\u001b[43m_call_impl\u001b[49m\u001b[43m(\u001b[49m\u001b[38;5;241;43m*\u001b[39;49m\u001b[43margs\u001b[49m\u001b[43m,\u001b[49m\u001b[43m \u001b[49m\u001b[38;5;241;43m*\u001b[39;49m\u001b[38;5;241;43m*\u001b[39;49m\u001b[43mkwargs\u001b[49m\u001b[43m)\u001b[49m\n",
      "File \u001b[0;32m/usr/local/lib/python3.12/dist-packages/torch/nn/modules/module.py:1762\u001b[0m, in \u001b[0;36mModule._call_impl\u001b[0;34m(self, *args, **kwargs)\u001b[0m\n\u001b[1;32m   1757\u001b[0m \u001b[38;5;66;03m# If we don't have any hooks, we want to skip the rest of the logic in\u001b[39;00m\n\u001b[1;32m   1758\u001b[0m \u001b[38;5;66;03m# this function, and just call forward.\u001b[39;00m\n\u001b[1;32m   1759\u001b[0m \u001b[38;5;28;01mif\u001b[39;00m \u001b[38;5;129;01mnot\u001b[39;00m (\u001b[38;5;28mself\u001b[39m\u001b[38;5;241m.\u001b[39m_backward_hooks \u001b[38;5;129;01mor\u001b[39;00m \u001b[38;5;28mself\u001b[39m\u001b[38;5;241m.\u001b[39m_backward_pre_hooks \u001b[38;5;129;01mor\u001b[39;00m \u001b[38;5;28mself\u001b[39m\u001b[38;5;241m.\u001b[39m_forward_hooks \u001b[38;5;129;01mor\u001b[39;00m \u001b[38;5;28mself\u001b[39m\u001b[38;5;241m.\u001b[39m_forward_pre_hooks\n\u001b[1;32m   1760\u001b[0m         \u001b[38;5;129;01mor\u001b[39;00m _global_backward_pre_hooks \u001b[38;5;129;01mor\u001b[39;00m _global_backward_hooks\n\u001b[1;32m   1761\u001b[0m         \u001b[38;5;129;01mor\u001b[39;00m _global_forward_hooks \u001b[38;5;129;01mor\u001b[39;00m _global_forward_pre_hooks):\n\u001b[0;32m-> 1762\u001b[0m     \u001b[38;5;28;01mreturn\u001b[39;00m \u001b[43mforward_call\u001b[49m\u001b[43m(\u001b[49m\u001b[38;5;241;43m*\u001b[39;49m\u001b[43margs\u001b[49m\u001b[43m,\u001b[49m\u001b[43m \u001b[49m\u001b[38;5;241;43m*\u001b[39;49m\u001b[38;5;241;43m*\u001b[39;49m\u001b[43mkwargs\u001b[49m\u001b[43m)\u001b[49m\n\u001b[1;32m   1764\u001b[0m result \u001b[38;5;241m=\u001b[39m \u001b[38;5;28;01mNone\u001b[39;00m\n\u001b[1;32m   1765\u001b[0m called_always_called_hooks \u001b[38;5;241m=\u001b[39m \u001b[38;5;28mset\u001b[39m()\n",
      "File \u001b[0;32m~/Projects/tcc files/dvst/src/model/decoder.py:48\u001b[0m, in \u001b[0;36mDVSTDecoder.forward\u001b[0;34m(self, latent_embeds, Kinv, R, t, time, hw)\u001b[0m\n\u001b[1;32m     46\u001b[0m embeds, pad \u001b[38;5;241m=\u001b[39m \u001b[38;5;28mself\u001b[39m\u001b[38;5;241m.\u001b[39mpose_encoder(Kinv, R, t, time, \u001b[38;5;28;01mNone\u001b[39;00m, hw) \u001b[38;5;66;03m# Computes query embeddings\u001b[39;00m\n\u001b[1;32m     47\u001b[0m embeds \u001b[38;5;241m=\u001b[39m torch\u001b[38;5;241m.\u001b[39mconcat([latent_embeds, embeds], dim\u001b[38;5;241m=\u001b[39m\u001b[38;5;241m-\u001b[39m\u001b[38;5;241m2\u001b[39m) \u001b[38;5;66;03m# Concats embeddings with latent embeddings\u001b[39;00m\n\u001b[0;32m---> 48\u001b[0m embeds \u001b[38;5;241m=\u001b[39m \u001b[38;5;28;43mself\u001b[39;49m\u001b[38;5;241;43m.\u001b[39;49m\u001b[43mtransformer\u001b[49m\u001b[43m(\u001b[49m\u001b[43membeds\u001b[49m\u001b[43m)\u001b[49m \u001b[38;5;66;03m# Creates image embeddings using transformer\u001b[39;00m\n\u001b[1;32m     49\u001b[0m embeds \u001b[38;5;241m=\u001b[39m embeds[\u001b[38;5;241m.\u001b[39m\u001b[38;5;241m.\u001b[39m\u001b[38;5;241m.\u001b[39m, latent_embeds\u001b[38;5;241m.\u001b[39mshape[\u001b[38;5;241m-\u001b[39m\u001b[38;5;241m2\u001b[39m]:, :] \u001b[38;5;66;03m# Discards embeddings mapped from latent embeddings\u001b[39;00m\n\u001b[1;32m     50\u001b[0m embeds \u001b[38;5;241m=\u001b[39m \u001b[38;5;28mself\u001b[39m\u001b[38;5;241m.\u001b[39membeds_to_patch_embeds(embeds) \u001b[38;5;66;03m# Maps embeddings to patch embeddings\u001b[39;00m\n",
      "File \u001b[0;32m/usr/local/lib/python3.12/dist-packages/torch/nn/modules/module.py:1751\u001b[0m, in \u001b[0;36mModule._wrapped_call_impl\u001b[0;34m(self, *args, **kwargs)\u001b[0m\n\u001b[1;32m   1749\u001b[0m     \u001b[38;5;28;01mreturn\u001b[39;00m \u001b[38;5;28mself\u001b[39m\u001b[38;5;241m.\u001b[39m_compiled_call_impl(\u001b[38;5;241m*\u001b[39margs, \u001b[38;5;241m*\u001b[39m\u001b[38;5;241m*\u001b[39mkwargs)  \u001b[38;5;66;03m# type: ignore[misc]\u001b[39;00m\n\u001b[1;32m   1750\u001b[0m \u001b[38;5;28;01melse\u001b[39;00m:\n\u001b[0;32m-> 1751\u001b[0m     \u001b[38;5;28;01mreturn\u001b[39;00m \u001b[38;5;28;43mself\u001b[39;49m\u001b[38;5;241;43m.\u001b[39;49m\u001b[43m_call_impl\u001b[49m\u001b[43m(\u001b[49m\u001b[38;5;241;43m*\u001b[39;49m\u001b[43margs\u001b[49m\u001b[43m,\u001b[49m\u001b[43m \u001b[49m\u001b[38;5;241;43m*\u001b[39;49m\u001b[38;5;241;43m*\u001b[39;49m\u001b[43mkwargs\u001b[49m\u001b[43m)\u001b[49m\n",
      "File \u001b[0;32m/usr/local/lib/python3.12/dist-packages/torch/nn/modules/module.py:1762\u001b[0m, in \u001b[0;36mModule._call_impl\u001b[0;34m(self, *args, **kwargs)\u001b[0m\n\u001b[1;32m   1757\u001b[0m \u001b[38;5;66;03m# If we don't have any hooks, we want to skip the rest of the logic in\u001b[39;00m\n\u001b[1;32m   1758\u001b[0m \u001b[38;5;66;03m# this function, and just call forward.\u001b[39;00m\n\u001b[1;32m   1759\u001b[0m \u001b[38;5;28;01mif\u001b[39;00m \u001b[38;5;129;01mnot\u001b[39;00m (\u001b[38;5;28mself\u001b[39m\u001b[38;5;241m.\u001b[39m_backward_hooks \u001b[38;5;129;01mor\u001b[39;00m \u001b[38;5;28mself\u001b[39m\u001b[38;5;241m.\u001b[39m_backward_pre_hooks \u001b[38;5;129;01mor\u001b[39;00m \u001b[38;5;28mself\u001b[39m\u001b[38;5;241m.\u001b[39m_forward_hooks \u001b[38;5;129;01mor\u001b[39;00m \u001b[38;5;28mself\u001b[39m\u001b[38;5;241m.\u001b[39m_forward_pre_hooks\n\u001b[1;32m   1760\u001b[0m         \u001b[38;5;129;01mor\u001b[39;00m _global_backward_pre_hooks \u001b[38;5;129;01mor\u001b[39;00m _global_backward_hooks\n\u001b[1;32m   1761\u001b[0m         \u001b[38;5;129;01mor\u001b[39;00m _global_forward_hooks \u001b[38;5;129;01mor\u001b[39;00m _global_forward_pre_hooks):\n\u001b[0;32m-> 1762\u001b[0m     \u001b[38;5;28;01mreturn\u001b[39;00m \u001b[43mforward_call\u001b[49m\u001b[43m(\u001b[49m\u001b[38;5;241;43m*\u001b[39;49m\u001b[43margs\u001b[49m\u001b[43m,\u001b[49m\u001b[43m \u001b[49m\u001b[38;5;241;43m*\u001b[39;49m\u001b[38;5;241;43m*\u001b[39;49m\u001b[43mkwargs\u001b[49m\u001b[43m)\u001b[49m\n\u001b[1;32m   1764\u001b[0m result \u001b[38;5;241m=\u001b[39m \u001b[38;5;28;01mNone\u001b[39;00m\n\u001b[1;32m   1765\u001b[0m called_always_called_hooks \u001b[38;5;241m=\u001b[39m \u001b[38;5;28mset\u001b[39m()\n",
      "File \u001b[0;32m~/Projects/tcc files/dvst/src/model/transformer.py:122\u001b[0m, in \u001b[0;36mEncoder.forward\u001b[0;34m(self, X, attn_bias)\u001b[0m\n\u001b[1;32m    120\u001b[0m \u001b[38;5;28;01mdef\u001b[39;00m \u001b[38;5;21mforward\u001b[39m(\u001b[38;5;28mself\u001b[39m, X, attn_bias\u001b[38;5;241m=\u001b[39m\u001b[38;5;28;01mNone\u001b[39;00m):\n\u001b[1;32m    121\u001b[0m     \u001b[38;5;28;01mfor\u001b[39;00m block \u001b[38;5;129;01min\u001b[39;00m \u001b[38;5;28mself\u001b[39m\u001b[38;5;241m.\u001b[39mblocks:\n\u001b[0;32m--> 122\u001b[0m         X \u001b[38;5;241m=\u001b[39m \u001b[43mblock\u001b[49m\u001b[43m(\u001b[49m\u001b[43mX\u001b[49m\u001b[43m,\u001b[49m\u001b[43m \u001b[49m\u001b[43mattn_bias\u001b[49m\u001b[38;5;241;43m=\u001b[39;49m\u001b[43mattn_bias\u001b[49m\u001b[43m)\u001b[49m\n\u001b[1;32m    123\u001b[0m     \u001b[38;5;28;01mreturn\u001b[39;00m X\n",
      "File \u001b[0;32m/usr/local/lib/python3.12/dist-packages/torch/nn/modules/module.py:1751\u001b[0m, in \u001b[0;36mModule._wrapped_call_impl\u001b[0;34m(self, *args, **kwargs)\u001b[0m\n\u001b[1;32m   1749\u001b[0m     \u001b[38;5;28;01mreturn\u001b[39;00m \u001b[38;5;28mself\u001b[39m\u001b[38;5;241m.\u001b[39m_compiled_call_impl(\u001b[38;5;241m*\u001b[39margs, \u001b[38;5;241m*\u001b[39m\u001b[38;5;241m*\u001b[39mkwargs)  \u001b[38;5;66;03m# type: ignore[misc]\u001b[39;00m\n\u001b[1;32m   1750\u001b[0m \u001b[38;5;28;01melse\u001b[39;00m:\n\u001b[0;32m-> 1751\u001b[0m     \u001b[38;5;28;01mreturn\u001b[39;00m \u001b[38;5;28;43mself\u001b[39;49m\u001b[38;5;241;43m.\u001b[39;49m\u001b[43m_call_impl\u001b[49m\u001b[43m(\u001b[49m\u001b[38;5;241;43m*\u001b[39;49m\u001b[43margs\u001b[49m\u001b[43m,\u001b[49m\u001b[43m \u001b[49m\u001b[38;5;241;43m*\u001b[39;49m\u001b[38;5;241;43m*\u001b[39;49m\u001b[43mkwargs\u001b[49m\u001b[43m)\u001b[49m\n",
      "File \u001b[0;32m/usr/local/lib/python3.12/dist-packages/torch/nn/modules/module.py:1762\u001b[0m, in \u001b[0;36mModule._call_impl\u001b[0;34m(self, *args, **kwargs)\u001b[0m\n\u001b[1;32m   1757\u001b[0m \u001b[38;5;66;03m# If we don't have any hooks, we want to skip the rest of the logic in\u001b[39;00m\n\u001b[1;32m   1758\u001b[0m \u001b[38;5;66;03m# this function, and just call forward.\u001b[39;00m\n\u001b[1;32m   1759\u001b[0m \u001b[38;5;28;01mif\u001b[39;00m \u001b[38;5;129;01mnot\u001b[39;00m (\u001b[38;5;28mself\u001b[39m\u001b[38;5;241m.\u001b[39m_backward_hooks \u001b[38;5;129;01mor\u001b[39;00m \u001b[38;5;28mself\u001b[39m\u001b[38;5;241m.\u001b[39m_backward_pre_hooks \u001b[38;5;129;01mor\u001b[39;00m \u001b[38;5;28mself\u001b[39m\u001b[38;5;241m.\u001b[39m_forward_hooks \u001b[38;5;129;01mor\u001b[39;00m \u001b[38;5;28mself\u001b[39m\u001b[38;5;241m.\u001b[39m_forward_pre_hooks\n\u001b[1;32m   1760\u001b[0m         \u001b[38;5;129;01mor\u001b[39;00m _global_backward_pre_hooks \u001b[38;5;129;01mor\u001b[39;00m _global_backward_hooks\n\u001b[1;32m   1761\u001b[0m         \u001b[38;5;129;01mor\u001b[39;00m _global_forward_hooks \u001b[38;5;129;01mor\u001b[39;00m _global_forward_pre_hooks):\n\u001b[0;32m-> 1762\u001b[0m     \u001b[38;5;28;01mreturn\u001b[39;00m \u001b[43mforward_call\u001b[49m\u001b[43m(\u001b[49m\u001b[38;5;241;43m*\u001b[39;49m\u001b[43margs\u001b[49m\u001b[43m,\u001b[49m\u001b[43m \u001b[49m\u001b[38;5;241;43m*\u001b[39;49m\u001b[38;5;241;43m*\u001b[39;49m\u001b[43mkwargs\u001b[49m\u001b[43m)\u001b[49m\n\u001b[1;32m   1764\u001b[0m result \u001b[38;5;241m=\u001b[39m \u001b[38;5;28;01mNone\u001b[39;00m\n\u001b[1;32m   1765\u001b[0m called_always_called_hooks \u001b[38;5;241m=\u001b[39m \u001b[38;5;28mset\u001b[39m()\n",
      "File \u001b[0;32m~/Projects/tcc files/dvst/src/model/transformer.py:109\u001b[0m, in \u001b[0;36mBlock.forward\u001b[0;34m(self, X, attn_bias)\u001b[0m\n\u001b[1;32m    108\u001b[0m \u001b[38;5;28;01mdef\u001b[39;00m \u001b[38;5;21mforward\u001b[39m(\u001b[38;5;28mself\u001b[39m, X, attn_bias\u001b[38;5;241m=\u001b[39m\u001b[38;5;28;01mNone\u001b[39;00m):\n\u001b[0;32m--> 109\u001b[0m     X \u001b[38;5;241m=\u001b[39m \u001b[38;5;28;43mself\u001b[39;49m\u001b[38;5;241;43m.\u001b[39;49m\u001b[43mattn\u001b[49m\u001b[43m(\u001b[49m\u001b[38;5;28;43mself\u001b[39;49m\u001b[38;5;241;43m.\u001b[39;49m\u001b[43mnorm1\u001b[49m\u001b[43m(\u001b[49m\u001b[43mX\u001b[49m\u001b[43m)\u001b[49m\u001b[43m,\u001b[49m\u001b[43m \u001b[49m\u001b[43mattn_bias\u001b[49m\u001b[38;5;241;43m=\u001b[39;49m\u001b[43mattn_bias\u001b[49m\u001b[43m)\u001b[49m \u001b[38;5;241m+\u001b[39m X\n\u001b[1;32m    110\u001b[0m     X \u001b[38;5;241m=\u001b[39m \u001b[38;5;28mself\u001b[39m\u001b[38;5;241m.\u001b[39mff(X) \u001b[38;5;241m+\u001b[39m X\n\u001b[1;32m    111\u001b[0m     \u001b[38;5;28;01mreturn\u001b[39;00m X\n",
      "File \u001b[0;32m/usr/local/lib/python3.12/dist-packages/torch/nn/modules/module.py:1751\u001b[0m, in \u001b[0;36mModule._wrapped_call_impl\u001b[0;34m(self, *args, **kwargs)\u001b[0m\n\u001b[1;32m   1749\u001b[0m     \u001b[38;5;28;01mreturn\u001b[39;00m \u001b[38;5;28mself\u001b[39m\u001b[38;5;241m.\u001b[39m_compiled_call_impl(\u001b[38;5;241m*\u001b[39margs, \u001b[38;5;241m*\u001b[39m\u001b[38;5;241m*\u001b[39mkwargs)  \u001b[38;5;66;03m# type: ignore[misc]\u001b[39;00m\n\u001b[1;32m   1750\u001b[0m \u001b[38;5;28;01melse\u001b[39;00m:\n\u001b[0;32m-> 1751\u001b[0m     \u001b[38;5;28;01mreturn\u001b[39;00m \u001b[38;5;28;43mself\u001b[39;49m\u001b[38;5;241;43m.\u001b[39;49m\u001b[43m_call_impl\u001b[49m\u001b[43m(\u001b[49m\u001b[38;5;241;43m*\u001b[39;49m\u001b[43margs\u001b[49m\u001b[43m,\u001b[49m\u001b[43m \u001b[49m\u001b[38;5;241;43m*\u001b[39;49m\u001b[38;5;241;43m*\u001b[39;49m\u001b[43mkwargs\u001b[49m\u001b[43m)\u001b[49m\n",
      "File \u001b[0;32m/usr/local/lib/python3.12/dist-packages/torch/nn/modules/module.py:1762\u001b[0m, in \u001b[0;36mModule._call_impl\u001b[0;34m(self, *args, **kwargs)\u001b[0m\n\u001b[1;32m   1757\u001b[0m \u001b[38;5;66;03m# If we don't have any hooks, we want to skip the rest of the logic in\u001b[39;00m\n\u001b[1;32m   1758\u001b[0m \u001b[38;5;66;03m# this function, and just call forward.\u001b[39;00m\n\u001b[1;32m   1759\u001b[0m \u001b[38;5;28;01mif\u001b[39;00m \u001b[38;5;129;01mnot\u001b[39;00m (\u001b[38;5;28mself\u001b[39m\u001b[38;5;241m.\u001b[39m_backward_hooks \u001b[38;5;129;01mor\u001b[39;00m \u001b[38;5;28mself\u001b[39m\u001b[38;5;241m.\u001b[39m_backward_pre_hooks \u001b[38;5;129;01mor\u001b[39;00m \u001b[38;5;28mself\u001b[39m\u001b[38;5;241m.\u001b[39m_forward_hooks \u001b[38;5;129;01mor\u001b[39;00m \u001b[38;5;28mself\u001b[39m\u001b[38;5;241m.\u001b[39m_forward_pre_hooks\n\u001b[1;32m   1760\u001b[0m         \u001b[38;5;129;01mor\u001b[39;00m _global_backward_pre_hooks \u001b[38;5;129;01mor\u001b[39;00m _global_backward_hooks\n\u001b[1;32m   1761\u001b[0m         \u001b[38;5;129;01mor\u001b[39;00m _global_forward_hooks \u001b[38;5;129;01mor\u001b[39;00m _global_forward_pre_hooks):\n\u001b[0;32m-> 1762\u001b[0m     \u001b[38;5;28;01mreturn\u001b[39;00m \u001b[43mforward_call\u001b[49m\u001b[43m(\u001b[49m\u001b[38;5;241;43m*\u001b[39;49m\u001b[43margs\u001b[49m\u001b[43m,\u001b[49m\u001b[43m \u001b[49m\u001b[38;5;241;43m*\u001b[39;49m\u001b[38;5;241;43m*\u001b[39;49m\u001b[43mkwargs\u001b[49m\u001b[43m)\u001b[49m\n\u001b[1;32m   1764\u001b[0m result \u001b[38;5;241m=\u001b[39m \u001b[38;5;28;01mNone\u001b[39;00m\n\u001b[1;32m   1765\u001b[0m called_always_called_hooks \u001b[38;5;241m=\u001b[39m \u001b[38;5;28mset\u001b[39m()\n",
      "File \u001b[0;32m~/Projects/tcc files/dvst/src/model/transformer.py:83\u001b[0m, in \u001b[0;36mSelfAttn.forward\u001b[0;34m(self, X, attn_bias)\u001b[0m\n\u001b[1;32m     81\u001b[0m \u001b[38;5;66;03m# QK-Norm\u001b[39;00m\n\u001b[1;32m     82\u001b[0m \u001b[38;5;28;01mif\u001b[39;00m \u001b[38;5;28mself\u001b[39m\u001b[38;5;241m.\u001b[39muse_qk_norm:\n\u001b[0;32m---> 83\u001b[0m     Q \u001b[38;5;241m=\u001b[39m \u001b[38;5;28;43mself\u001b[39;49m\u001b[38;5;241;43m.\u001b[39;49m\u001b[43mq_norm\u001b[49m\u001b[43m(\u001b[49m\u001b[43mQ\u001b[49m\u001b[43m)\u001b[49m\n\u001b[1;32m     84\u001b[0m     K \u001b[38;5;241m=\u001b[39m \u001b[38;5;28mself\u001b[39m\u001b[38;5;241m.\u001b[39mk_norm(K)\n\u001b[1;32m     86\u001b[0m X \u001b[38;5;241m=\u001b[39m \u001b[38;5;28mself\u001b[39m\u001b[38;5;241m.\u001b[39mfmha(Q, K, V, attn_bias\u001b[38;5;241m=\u001b[39mattn_bias)\n",
      "File \u001b[0;32m/usr/local/lib/python3.12/dist-packages/torch/nn/modules/module.py:1751\u001b[0m, in \u001b[0;36mModule._wrapped_call_impl\u001b[0;34m(self, *args, **kwargs)\u001b[0m\n\u001b[1;32m   1749\u001b[0m     \u001b[38;5;28;01mreturn\u001b[39;00m \u001b[38;5;28mself\u001b[39m\u001b[38;5;241m.\u001b[39m_compiled_call_impl(\u001b[38;5;241m*\u001b[39margs, \u001b[38;5;241m*\u001b[39m\u001b[38;5;241m*\u001b[39mkwargs)  \u001b[38;5;66;03m# type: ignore[misc]\u001b[39;00m\n\u001b[1;32m   1750\u001b[0m \u001b[38;5;28;01melse\u001b[39;00m:\n\u001b[0;32m-> 1751\u001b[0m     \u001b[38;5;28;01mreturn\u001b[39;00m \u001b[38;5;28;43mself\u001b[39;49m\u001b[38;5;241;43m.\u001b[39;49m\u001b[43m_call_impl\u001b[49m\u001b[43m(\u001b[49m\u001b[38;5;241;43m*\u001b[39;49m\u001b[43margs\u001b[49m\u001b[43m,\u001b[49m\u001b[43m \u001b[49m\u001b[38;5;241;43m*\u001b[39;49m\u001b[38;5;241;43m*\u001b[39;49m\u001b[43mkwargs\u001b[49m\u001b[43m)\u001b[49m\n",
      "File \u001b[0;32m/usr/local/lib/python3.12/dist-packages/torch/nn/modules/module.py:1762\u001b[0m, in \u001b[0;36mModule._call_impl\u001b[0;34m(self, *args, **kwargs)\u001b[0m\n\u001b[1;32m   1757\u001b[0m \u001b[38;5;66;03m# If we don't have any hooks, we want to skip the rest of the logic in\u001b[39;00m\n\u001b[1;32m   1758\u001b[0m \u001b[38;5;66;03m# this function, and just call forward.\u001b[39;00m\n\u001b[1;32m   1759\u001b[0m \u001b[38;5;28;01mif\u001b[39;00m \u001b[38;5;129;01mnot\u001b[39;00m (\u001b[38;5;28mself\u001b[39m\u001b[38;5;241m.\u001b[39m_backward_hooks \u001b[38;5;129;01mor\u001b[39;00m \u001b[38;5;28mself\u001b[39m\u001b[38;5;241m.\u001b[39m_backward_pre_hooks \u001b[38;5;129;01mor\u001b[39;00m \u001b[38;5;28mself\u001b[39m\u001b[38;5;241m.\u001b[39m_forward_hooks \u001b[38;5;129;01mor\u001b[39;00m \u001b[38;5;28mself\u001b[39m\u001b[38;5;241m.\u001b[39m_forward_pre_hooks\n\u001b[1;32m   1760\u001b[0m         \u001b[38;5;129;01mor\u001b[39;00m _global_backward_pre_hooks \u001b[38;5;129;01mor\u001b[39;00m _global_backward_hooks\n\u001b[1;32m   1761\u001b[0m         \u001b[38;5;129;01mor\u001b[39;00m _global_forward_hooks \u001b[38;5;129;01mor\u001b[39;00m _global_forward_pre_hooks):\n\u001b[0;32m-> 1762\u001b[0m     \u001b[38;5;28;01mreturn\u001b[39;00m \u001b[43mforward_call\u001b[49m\u001b[43m(\u001b[49m\u001b[38;5;241;43m*\u001b[39;49m\u001b[43margs\u001b[49m\u001b[43m,\u001b[49m\u001b[43m \u001b[49m\u001b[38;5;241;43m*\u001b[39;49m\u001b[38;5;241;43m*\u001b[39;49m\u001b[43mkwargs\u001b[49m\u001b[43m)\u001b[49m\n\u001b[1;32m   1764\u001b[0m result \u001b[38;5;241m=\u001b[39m \u001b[38;5;28;01mNone\u001b[39;00m\n\u001b[1;32m   1765\u001b[0m called_always_called_hooks \u001b[38;5;241m=\u001b[39m \u001b[38;5;28mset\u001b[39m()\n",
      "File \u001b[0;32m/usr/local/lib/python3.12/dist-packages/torch/nn/modules/normalization.py:401\u001b[0m, in \u001b[0;36mRMSNorm.forward\u001b[0;34m(self, x)\u001b[0m\n\u001b[1;32m    397\u001b[0m \u001b[38;5;28;01mdef\u001b[39;00m \u001b[38;5;21mforward\u001b[39m(\u001b[38;5;28mself\u001b[39m, x: torch\u001b[38;5;241m.\u001b[39mTensor) \u001b[38;5;241m-\u001b[39m\u001b[38;5;241m>\u001b[39m torch\u001b[38;5;241m.\u001b[39mTensor:\n\u001b[1;32m    398\u001b[0m \u001b[38;5;250m    \u001b[39m\u001b[38;5;124;03m\"\"\"\u001b[39;00m\n\u001b[1;32m    399\u001b[0m \u001b[38;5;124;03m    Runs forward pass.\u001b[39;00m\n\u001b[1;32m    400\u001b[0m \u001b[38;5;124;03m    \"\"\"\u001b[39;00m\n\u001b[0;32m--> 401\u001b[0m     \u001b[38;5;28;01mreturn\u001b[39;00m \u001b[43mF\u001b[49m\u001b[38;5;241;43m.\u001b[39;49m\u001b[43mrms_norm\u001b[49m\u001b[43m(\u001b[49m\u001b[43mx\u001b[49m\u001b[43m,\u001b[49m\u001b[43m \u001b[49m\u001b[38;5;28;43mself\u001b[39;49m\u001b[38;5;241;43m.\u001b[39;49m\u001b[43mnormalized_shape\u001b[49m\u001b[43m,\u001b[49m\u001b[43m \u001b[49m\u001b[38;5;28;43mself\u001b[39;49m\u001b[38;5;241;43m.\u001b[39;49m\u001b[43mweight\u001b[49m\u001b[43m,\u001b[49m\u001b[43m \u001b[49m\u001b[38;5;28;43mself\u001b[39;49m\u001b[38;5;241;43m.\u001b[39;49m\u001b[43meps\u001b[49m\u001b[43m)\u001b[49m\n",
      "File \u001b[0;32m/usr/local/lib/python3.12/dist-packages/torch/nn/functional.py:2929\u001b[0m, in \u001b[0;36mrms_norm\u001b[0;34m(input, normalized_shape, weight, eps)\u001b[0m\n\u001b[1;32m   2925\u001b[0m \u001b[38;5;28;01mif\u001b[39;00m has_torch_function_variadic(\u001b[38;5;28minput\u001b[39m, weight):\n\u001b[1;32m   2926\u001b[0m     \u001b[38;5;28;01mreturn\u001b[39;00m handle_torch_function(\n\u001b[1;32m   2927\u001b[0m         rms_norm, (\u001b[38;5;28minput\u001b[39m, weight), \u001b[38;5;28minput\u001b[39m, normalized_shape, weight\u001b[38;5;241m=\u001b[39mweight, eps\u001b[38;5;241m=\u001b[39meps\n\u001b[1;32m   2928\u001b[0m     )\n\u001b[0;32m-> 2929\u001b[0m \u001b[38;5;28;01mreturn\u001b[39;00m \u001b[43mtorch\u001b[49m\u001b[38;5;241;43m.\u001b[39;49m\u001b[43mrms_norm\u001b[49m\u001b[43m(\u001b[49m\u001b[38;5;28;43minput\u001b[39;49m\u001b[43m,\u001b[49m\u001b[43m \u001b[49m\u001b[43mnormalized_shape\u001b[49m\u001b[43m,\u001b[49m\u001b[43m \u001b[49m\u001b[43mweight\u001b[49m\u001b[43m,\u001b[49m\u001b[43m \u001b[49m\u001b[43meps\u001b[49m\u001b[43m)\u001b[49m\n",
      "\u001b[0;31mOutOfMemoryError\u001b[0m: CUDA out of memory. Tried to allocate 2.00 MiB. GPU 0 has a total capacity of 7.62 GiB of which 83.00 MiB is free. Including non-PyTorch memory, this process has 5.83 GiB memory in use. Of the allocated memory 4.17 GiB is allocated by PyTorch, and 36.74 MiB is reserved by PyTorch but unallocated. If reserved but unallocated memory is large try setting PYTORCH_CUDA_ALLOC_CONF=expandable_segments:True to avoid fragmentation.  See documentation for Memory Management  (https://pytorch.org/docs/stable/notes/cuda.html#environment-variables)"
     ]
    }
   ],
   "source": [
    "with amp.autocast(device_type=device, dtype=torch.bfloat16):\n",
    "    out = model(s)\n",
    "out[0].shape"
   ]
  },
  {
   "cell_type": "code",
   "execution_count": null,
   "metadata": {},
   "outputs": [],
   "source": [
    "s.n_frames = 10\n",
    "\n",
    "for i in s.sources:\n",
    "    i.video = i.video[:s.n_frames][:, :, :64, :64]\n",
    "    i.shape = torch.Size((s.n_frames, 3, 64, 64))\n",
    "for i in s.queries:\n",
    "    i.video = i.video[:s.n_frames][:, :, :64, :64]\n",
    "    i.shape = torch.Size((s.n_frames, 3, 64, 64))\n",
    "for i in range(len(s.targets)):\n",
    "    s.targets[i] = s.targets[i][:s.n_frames][:, :, :64, :64]\n",
    "\n",
    "s.sources[0].video.shape"
   ]
  },
  {
   "cell_type": "code",
   "execution_count": null,
   "metadata": {},
   "outputs": [],
   "source": [
    "with amp.autocast(device_type=device, dtype=torch.bfloat16):\n",
    "    out = model(s)\n",
    "out[0].shape"
   ]
  },
  {
   "cell_type": "markdown",
   "metadata": {},
   "source": [
    "Perceptual loss with ConvNeXt-Tiny"
   ]
  },
  {
   "cell_type": "code",
   "execution_count": null,
   "metadata": {},
   "outputs": [
    {
     "data": {
      "text/plain": [
       "[tensor(0., grad_fn=<SumBackward0>),\n",
       " tensor(1.4473, grad_fn=<SumBackward0>),\n",
       " tensor(1.4473, grad_fn=<SumBackward0>),\n",
       " tensor(0., grad_fn=<SumBackward0>),\n",
       " tensor(0., grad_fn=<SumBackward0>)]"
      ]
     },
     "execution_count": 1,
     "metadata": {},
     "output_type": "execute_result"
    }
   ],
   "source": [
    "import torch\n",
    "from src.model.loss import PerceptualLoss\n",
    "\n",
    "perceptual_loss = PerceptualLoss()\n",
    "\n",
    "shape = (4, 3, 64, 64)\n",
    "I = torch.rand(shape)\n",
    "[\n",
    "    perceptual_loss(I, I),\n",
    "    perceptual_loss(torch.zeros(shape), torch.ones(shape)),\n",
    "    perceptual_loss(torch.ones(shape), torch.zeros(shape)),\n",
    "    perceptual_loss(torch.zeros(shape), torch.zeros(shape)),\n",
    "    perceptual_loss(torch.ones(shape), torch.ones(shape)),\n",
    "]\n"
   ]
  },
  {
   "cell_type": "code",
   "execution_count": null,
   "metadata": {},
   "outputs": [],
   "source": [
    "#TODO:\n",
    "# configure transformer enc and dec layers\n",
    "# add optimizations checkpointing mixed precision etc\n",
    "# do first testing of model w small parameters and check how much the pc can handle of it\n",
    "# create combinations of configs for small experiments\n"
   ]
  },
  {
   "cell_type": "code",
   "execution_count": null,
   "metadata": {},
   "outputs": [
    {
     "name": "stdout",
     "output_type": "stream",
     "text": [
      "Panoptic dataset already downloaded\n"
     ]
    }
   ],
   "source": [
    "from src.datasets.panoptic.downloader import PanopticDownloader\n",
    "\n",
    "d = PanopticDownloader(\n",
    "    path='res/tmp/panoptic',\n",
    "    scene_names_file='res/panoptic_scene_names.txt',\n",
    "    use_cuda=True,\n",
    "    cq_amount=23,\n",
    "    resize_to=(-1, 256),\n",
    "    n_scenes=None,\n",
    "    n_views=8,\n",
    ")\n",
    "d.download()\n"
   ]
  }
 ],
 "metadata": {
  "kernelspec": {
   "display_name": "Python 3",
   "language": "python",
   "name": "python3"
  },
  "language_info": {
   "codemirror_mode": {
    "name": "ipython",
    "version": 3
   },
   "file_extension": ".py",
   "mimetype": "text/x-python",
   "name": "python",
   "nbconvert_exporter": "python",
   "pygments_lexer": "ipython3",
   "version": "3.12.3"
  }
 },
 "nbformat": 4,
 "nbformat_minor": 2
}
