{
 "cells": [
  {
   "cell_type": "code",
   "execution_count": 3,
   "id": "88b9a4fb",
   "metadata": {},
   "outputs": [
    {
     "data": {
      "text/plain": [
       "(18, 17)"
      ]
     },
     "execution_count": 3,
     "metadata": {},
     "output_type": "execute_result"
    }
   ],
   "source": [
    "import numpy as np\n",
    "\n",
    "data = np.load('./res/tmp/plenoptic/coffee_martini/poses_bounds.npy')\n",
    "data.shape"
   ]
  },
  {
   "cell_type": "code",
   "execution_count": 4,
   "id": "6e766840",
   "metadata": {},
   "outputs": [
    {
     "data": {
      "text/plain": [
       "((18, 3, 4), ((18,), (18,)), ((18,), (18,)), (18,))"
      ]
     },
     "execution_count": 4,
     "metadata": {},
     "output_type": "execute_result"
    }
   ],
   "source": [
    "def get_poses(data):\n",
    "    mat, close, far = data[:, :-2].reshape((-1, 3, 5)), data[:, -2], data[:, -1]\n",
    "    T, mat2 = mat[:, :, :-1], mat[:, :, -1:]\n",
    "    h, w, f = mat2[:, 0, 0], mat2[:, 1, 0], mat2[:, 2, 0]\n",
    "\n",
    "    return T, (h, w), (close, far), f\n",
    "\n",
    "T, (h, w), (c, f), F = get_poses(data)\n",
    "\n",
    "T.shape, (h.shape, w.shape), (c.shape, f.shape), F.shape\n"
   ]
  },
  {
   "cell_type": "code",
   "execution_count": 5,
   "id": "e15b0623",
   "metadata": {},
   "outputs": [
    {
     "data": {
      "text/plain": [
       "(array([-2.17321701e-02,  9.94349165e-01, -1.03910786e-01,  4.43964684e-01,\n",
       "         2.02800000e+03,  9.99753096e-01,  2.11326529e-02, -6.86712777e-03,\n",
       "        -1.10350344e+00,  2.70400000e+03, -4.63241219e-03, -1.04034368e-01,\n",
       "        -9.94562915e-01, -3.49927298e-01,  1.46075434e+03,  8.83138423e+00,\n",
       "         1.09775424e+02]),\n",
       " array([[-0.02173217,  0.99434916, -0.10391079,  0.44396468],\n",
       "        [ 0.9997531 ,  0.02113265, -0.00686713, -1.10350344],\n",
       "        [-0.00463241, -0.10403437, -0.99456291, -0.3499273 ]]),\n",
       " (2028.0, 2704.0),\n",
       " (8.831384232013642, 109.77542390000633),\n",
       " 1460.7543404163334)"
      ]
     },
     "execution_count": 5,
     "metadata": {},
     "output_type": "execute_result"
    }
   ],
   "source": [
    "data[0, :], T[0, :, :], (h[0], w[0]), (c[0], f[0]), F[0]\n"
   ]
  },
  {
   "cell_type": "code",
   "execution_count": null,
   "id": "32479664",
   "metadata": {},
   "outputs": [],
   "source": [
    "def load_data(basedir, factor=None, width=None, height=None):\n",
    "    # Taken from repos/LLFF/llff/poses/pose_utils.py\n",
    "    \n",
    "    poses_arr = np.load(os.path.join(basedir, 'poses_bounds.npy'))\n",
    "    poses = poses_arr[:, :-2].reshape([-1, 3, 5]).transpose([1,2,0])\n",
    "    bds = poses_arr[:, -2:].transpose([1,0])\n",
    "    \n",
    "    img0 = [os.path.join(basedir, 'images', f) for f in sorted(os.listdir(os.path.join(basedir, 'images'))) \\\n",
    "            if f.endswith('JPG') or f.endswith('jpg') or f.endswith('png')][0]\n",
    "    sh = imageio.imread(img0).shape\n",
    "    \n",
    "    sfx = ''\n",
    "    \n",
    "    # just resizes the images and sends to a new folder with suffix images_{}x{} or images_{}\n",
    "    if factor is not None:\n",
    "        sfx = '_{}'.format(factor)\n",
    "        minify(basedir, factors=[factor])\n",
    "        factor = factor\n",
    "    elif height is not None:\n",
    "        factor = sh[0] / float(height)\n",
    "        width = int(sh[1] / factor)\n",
    "        minify(basedir, resolutions=[[height, width]])\n",
    "        sfx = '_{}x{}'.format(width, height)\n",
    "    elif width is not None:\n",
    "        factor = sh[1] / float(width)\n",
    "        height = int(sh[0] / factor)\n",
    "        minify(basedir, resolutions=[[height, width]])\n",
    "        sfx = '_{}x{}'.format(width, height)\n",
    "    else:\n",
    "        factor = 1\n",
    "    \n",
    "    imgdir = os.path.join(basedir, 'images' + sfx)\n",
    "    if not os.path.exists(imgdir):\n",
    "        print( imgdir, 'does not exist, returning' )\n",
    "        return\n",
    "    \n",
    "    imgfiles = [os.path.join(imgdir, f) for f in sorted(os.listdir(imgdir)) if f.endswith('JPG') or f.endswith('jpg') or f.endswith('png')]\n",
    "    if poses.shape[-1] != len(imgfiles):\n",
    "        print( 'Mismatch between imgs {} and poses {} !!!!'.format(len(imgfiles), poses.shape[-1]) )\n",
    "        return\n",
    "    \n",
    "    # new data after resizing is width/factor, height/factor, focal/factor (factor 2 halves the image, 4 gets 1/4th of the size, and so on)\n",
    "     sh = imageio.imread(imgfiles[0]).shape\n",
    "    poses[:2, 4, :] = np.array(sh[:2]).reshape([2, 1])\n",
    "    poses[2, 4, :] = poses[2, 4, :] * 1./factor\n",
    "    \n",
    "    return poses, bds\n"
   ]
  }
 ],
 "metadata": {
  "kernelspec": {
   "display_name": "Python 3 (ipykernel)",
   "language": "python",
   "name": "python3"
  },
  "language_info": {
   "codemirror_mode": {
    "name": "ipython",
    "version": 3
   },
   "file_extension": ".py",
   "mimetype": "text/x-python",
   "name": "python",
   "nbconvert_exporter": "python",
   "pygments_lexer": "ipython3",
   "version": "3.12.3"
  }
 },
 "nbformat": 4,
 "nbformat_minor": 5
}
